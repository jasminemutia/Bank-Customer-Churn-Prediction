{
  "nbformat": 4,
  "nbformat_minor": 0,
  "metadata": {
    "colab": {
      "provenance": [],
      "collapsed_sections": [
        "Ait_ktflw-0p"
      ]
    },
    "kernelspec": {
      "name": "python3",
      "display_name": "Python 3"
    },
    "language_info": {
      "name": "python"
    }
  },
  "cells": [
    {
      "cell_type": "markdown",
      "source": [
        "# Group Project Machine Learning"
      ],
      "metadata": {
        "id": "5FXDQiOopJpM"
      }
    },
    {
      "cell_type": "markdown",
      "source": [
        "Belinda Mutiara - 2540119596 <br>\n",
        "Evelyn Zefanya Rahardjo - 2540118914 <br>\n",
        "Jasmine Mutia Alifa - 2502026873<br>"
      ],
      "metadata": {
        "id": "y2Xu9E9_pN8C"
      }
    },
    {
      "cell_type": "markdown",
      "source": [
        "# Video"
      ],
      "metadata": {
        "id": "e6wI_hEDphdK"
      }
    },
    {
      "cell_type": "markdown",
      "source": [
        "https://drive.google.com/drive/folders/1TdZ8pjRwUiJE-IsMIlaVddIh83Lw8Y0z?usp=sharing"
      ],
      "metadata": {
        "id": "g7X753w5pjNU"
      }
    },
    {
      "cell_type": "markdown",
      "source": [
        "# Poster"
      ],
      "metadata": {
        "id": "jPOxQ1aD-wUU"
      }
    },
    {
      "cell_type": "markdown",
      "source": [
        "https://drive.google.com/drive/folders/1TdZ8pjRwUiJE-IsMIlaVddIh83Lw8Y0z?usp=sharing"
      ],
      "metadata": {
        "id": "FgDbCu0q-zdj"
      }
    },
    {
      "cell_type": "markdown",
      "source": [
        "# Laporan"
      ],
      "metadata": {
        "id": "AbfKw_jDBr3t"
      }
    },
    {
      "cell_type": "markdown",
      "source": [
        "https://drive.google.com/drive/folders/1TdZ8pjRwUiJE-IsMIlaVddIh83Lw8Y0z?usp=sharing"
      ],
      "metadata": {
        "id": "oyK246wcBtfZ"
      }
    },
    {
      "cell_type": "markdown",
      "source": [
        "# Customer Churn Dataset"
      ],
      "metadata": {
        "id": "tLAP_I2Fpma0"
      }
    },
    {
      "cell_type": "markdown",
      "source": [
        "### Introduction\n",
        "<p style='text-align: justify;'> Retensi pelanggan merupakan salah satu kunci performa utama bagi perusahaan berbasis pelanggan. Persaingan ketat  bisa saja terjadi antar perusahaan sejenis sebab pelanggan bebas memilih dari banyak penyedia. Satu hal pengalaman buruk yang dialami pelanggan memungkinkan pelanggan untuk berpindah kepada pesaing. Hal inilah yang dinamakan dengan \"<i>customer churn</i>\".</p>\n",
        "\n",
        "### Customer Churn\n",
        "<p style=\"text-align: justify\">\"<i>Customer churn</i>\" adalah persentase pelanggan yang berhenti menggunakan produk atau layanan perusahaan selama jangka waktu tertentu. Memprediksi <i>Customer churn</i> merupakan hal yang penting terutama bagi perusahaan industri yang bergerak di bidang telekomunikasi, keuangan, dan sebagainya. Kemampuan memprediksi <i>Customer churn</i> merupakan hal yang penting bagi perusahaan, sebab dengan memprediksi hal tersebut, perusahaan masih memiliki waktu untuk melakukan sesuatu agar pelanggan tidak memberhentikan langganan. </p>\n",
        "\n",
        "\n",
        "<p style=\"text-align: justify\"> Retensi pelanggan dapat dicapai dengan menambahkan beberapa layanan dan produk yang baik, akan tetapi cara yang paling efektif adalah dengan benar-benar mengenal pelanggan. Jumlah data yang besar dikumpulkan menjadi sebuah data set untuk membuah permodelan tentang prediksi <i>customer churn</i>. Dengan mengetahui siapa yang paling mungkin untuk meninggalkan perusahaan, perusahaan dapat mengambil tindakan untuk mencegah pelanggan pergi.</p>\n"
      ],
      "metadata": {
        "id": "ETJcVsbFpsbh"
      }
    },
    {
      "cell_type": "markdown",
      "source": [
        "### Problem Statement\n",
        "<p style=\"text-align: justify\"> Kehilangan pelanggan karena persaingan merupakan masalah tersendiri bagi perusaahaan keuangan karena biaya untuk mendapatkan pelanggan baru sangat mahal dan oleh karena itu perusahaan ingin mempertahankan pelanggan mereka yang sudah ada."
      ],
      "metadata": {
        "id": "3HrORi06TWHt"
      }
    },
    {
      "cell_type": "markdown",
      "source": [
        "### Mengapa hal ini penting untuk Bank?\n",
        "- Biaya untuk menarik pelanggan baru bisa mencapai lima sampai enam kali lipat lebih mahal ketimbang mempertahankan pelanggan yang sudah ada.\n",
        "- Pelanggan yang sudah bertahan lama menjadi lebih mudah dilayani, menghasilkan keuntungan yang lebih tinggi, serta dapat memberikan rekomendasi kepada calon pelanggan baru.\n",
        "- Kehilangan pelanggan dalam hal ini nasabah dapat menyebabkan turunnya keuntungan bagi bank."
      ],
      "metadata": {
        "id": "ToMO3iLITZU7"
      }
    },
    {
      "cell_type": "markdown",
      "source": [
        "# Dataset Description\n"
      ],
      "metadata": {
        "id": "Fc42-TQSpwnt"
      }
    },
    {
      "cell_type": "markdown",
      "source": [
        "1. RowNumber : berisi nomor data (baris) dari dataset.\n",
        "2. CustomerId : nilai unik ID pelanggan yang ada pada setiap pelanggan.\n",
        "3. Surname : nama keluarga pelanggan, variabel kategorikal (rangkaian huruf)\n",
        "4. CreditScore : skor kredit pelanggan, variabel numerik kontinu. pelanggan dengan skor kredit yang lebih tinggi cenderung meninggalkan bank.\n",
        "5. Geography : negara yang terdaftar di akun pelanggan, variabel kategorikal.\n",
        "6. Gender : jenis kelamin pelanggan, variabel kategori dalam dua kata 'Pria' atau 'Wanita'.\n",
        "7. Age : umur pelanggan, variabel numerik diskrit.\n",
        "8. Tenure : jumlah tahun selama menjadi nasabah bank, variabel numerik diskrit.\n",
        "9. Balance : saldo keseluruhan di seluruh rekening yang dipegang oleh pelanggan, variabel numerik kontinu.\n",
        "10. NumOfProducts: jumlah produk yang dibeli nasabah melalui bank, variabel numerik diskrit (lebih besar dari 0).\n",
        "11. HasCrCard: mengacu pada apakah pelanggan memiliki kartu kredit atau tidak, variabel kategori yang mengambil nilai 1 = Ya dan 0 = Tidak.\n",
        "12. IsActiveMember : indikasi pelanggan aktif atau tidak, variabel kategori yang mengambil nilai 1 = Ya dan 0 = Tidak.\n",
        "13. EstimatedSalary : estimasi gaji tahunan pelanggan, variabel numerik kontinu.\n",
        "14. Exited : indikasi pelanggan sudah churn (keluar) atau belum, variabel kategori yang mengambil nilai 1 = Ya dan 0 = Tidak.\n"
      ],
      "metadata": {
        "id": "_Ld36kKSp4v8"
      }
    },
    {
      "cell_type": "markdown",
      "source": [
        "# Load Libraries and Data Overview"
      ],
      "metadata": {
        "id": "RexX3NFGqCx1"
      }
    },
    {
      "cell_type": "markdown",
      "source": [
        "## Load Libraries"
      ],
      "metadata": {
        "id": "E7Un8JutsdAT"
      }
    },
    {
      "cell_type": "code",
      "source": [
        "import pandas as pd\n",
        "import seaborn as sns\n",
        "import numpy as np\n",
        "import matplotlib.pyplot as plt\n",
        "import warnings\n",
        "warnings.filterwarnings(\"ignore\")\n",
        "\n",
        "import statsmodels.api as sm\n",
        "from scipy.stats import chi2_contingency\n",
        "from sklearn.preprocessing import LabelEncoder, StandardScaler, OrdinalEncoder, MinMaxScaler\n",
        "from sklearn.model_selection import train_test_split, cross_val_score, GridSearchCV\n",
        "\n",
        "from sklearn import metrics\n",
        "from sklearn.naive_bayes import GaussianNB\n",
        "from sklearn.linear_model import LogisticRegression\n",
        "from sklearn.svm import SVC\n",
        "from lightgbm import LGBMClassifier, plot_importance\n",
        "from sklearn.ensemble import RandomForestClassifier, GradientBoostingClassifier, VotingClassifier\n",
        "from xgboost import XGBClassifier\n",
        "from lightgbm import LGBMClassifier\n",
        "from imblearn.over_sampling import SMOTE\n",
        "from sklearn.metrics import confusion_matrix\n",
        "from sklearn.metrics import accuracy_score, recall_score, precision_score, auc, roc_auc_score, roc_curve\n",
        "\n",
        "!pip install scikit-plot\n",
        "import scikitplot as skplt\n",
        "import math\n"
      ],
      "metadata": {
        "id": "gWabWj9FqGfO",
        "colab": {
          "base_uri": "https://localhost:8080/"
        },
        "outputId": "7fdf68f2-8ecb-40c0-8da2-e722bd441eb0"
      },
      "execution_count": null,
      "outputs": [
        {
          "output_type": "stream",
          "name": "stdout",
          "text": [
            "Looking in indexes: https://pypi.org/simple, https://us-python.pkg.dev/colab-wheels/public/simple/\n",
            "Collecting scikit-plot\n",
            "  Downloading scikit_plot-0.3.7-py3-none-any.whl (33 kB)\n",
            "Requirement already satisfied: joblib>=0.10 in /usr/local/lib/python3.8/dist-packages (from scikit-plot) (1.2.0)\n",
            "Requirement already satisfied: matplotlib>=1.4.0 in /usr/local/lib/python3.8/dist-packages (from scikit-plot) (3.2.2)\n",
            "Requirement already satisfied: scipy>=0.9 in /usr/local/lib/python3.8/dist-packages (from scikit-plot) (1.7.3)\n",
            "Requirement already satisfied: scikit-learn>=0.18 in /usr/local/lib/python3.8/dist-packages (from scikit-plot) (1.0.2)\n",
            "Requirement already satisfied: pyparsing!=2.0.4,!=2.1.2,!=2.1.6,>=2.0.1 in /usr/local/lib/python3.8/dist-packages (from matplotlib>=1.4.0->scikit-plot) (3.0.9)\n",
            "Requirement already satisfied: cycler>=0.10 in /usr/local/lib/python3.8/dist-packages (from matplotlib>=1.4.0->scikit-plot) (0.11.0)\n",
            "Requirement already satisfied: numpy>=1.11 in /usr/local/lib/python3.8/dist-packages (from matplotlib>=1.4.0->scikit-plot) (1.21.6)\n",
            "Requirement already satisfied: kiwisolver>=1.0.1 in /usr/local/lib/python3.8/dist-packages (from matplotlib>=1.4.0->scikit-plot) (1.4.4)\n",
            "Requirement already satisfied: python-dateutil>=2.1 in /usr/local/lib/python3.8/dist-packages (from matplotlib>=1.4.0->scikit-plot) (2.8.2)\n",
            "Requirement already satisfied: six>=1.5 in /usr/local/lib/python3.8/dist-packages (from python-dateutil>=2.1->matplotlib>=1.4.0->scikit-plot) (1.15.0)\n",
            "Requirement already satisfied: threadpoolctl>=2.0.0 in /usr/local/lib/python3.8/dist-packages (from scikit-learn>=0.18->scikit-plot) (3.1.0)\n",
            "Installing collected packages: scikit-plot\n",
            "Successfully installed scikit-plot-0.3.7\n"
          ]
        }
      ]
    },
    {
      "cell_type": "markdown",
      "source": [
        "Code diatas dibuat dengan tujuan untuk meng-import beberapa library yang akan digunakan sebagai alat bantu dalam mnganalisis data."
      ],
      "metadata": {
        "id": "zjK9YN75KUK9"
      }
    },
    {
      "cell_type": "markdown",
      "source": [
        "## Data Overview"
      ],
      "metadata": {
        "id": "JOUr_VVssgYY"
      }
    },
    {
      "cell_type": "code",
      "source": [
        "#Mendifinikan variabel df (data frame) yang membaca data csv berjudul \"CustomerChrun.csv\".\n",
        "\n",
        "df = pd.read_csv(\"https://raw.githubusercontent.com/belindamutiaraaaaa/data/main/CustomerChurn.csv\")"
      ],
      "metadata": {
        "id": "fKO3VvBfsbJ0"
      },
      "execution_count": null,
      "outputs": []
    },
    {
      "cell_type": "code",
      "source": [
        "print(type(df))\n",
        "row,column=df.shape\n",
        "\n",
        "print(\"Jumlah baris data Customer Churn adlah \", row)\n",
        "print(\"Jumlah kolom data Customer Churn adalah \", column)"
      ],
      "metadata": {
        "id": "KhtMm9NCs3KN",
        "colab": {
          "base_uri": "https://localhost:8080/"
        },
        "outputId": "f8ba4555-2643-4f94-9429-2a6029f4edc5"
      },
      "execution_count": null,
      "outputs": [
        {
          "output_type": "stream",
          "name": "stdout",
          "text": [
            "<class 'pandas.core.frame.DataFrame'>\n",
            "Jumlah baris data Customer Churn adlah  10000\n",
            "Jumlah kolom data Customer Churn adalah  14\n"
          ]
        }
      ]
    },
    {
      "cell_type": "markdown",
      "source": [
        "Data Customer Churn mempunyai 100000 baris, dan 14 kolom."
      ],
      "metadata": {
        "id": "NCHM0Nbq8iIj"
      }
    },
    {
      "cell_type": "code",
      "source": [
        "print(df.columns.values)"
      ],
      "metadata": {
        "id": "-Gy226iRNFEW",
        "colab": {
          "base_uri": "https://localhost:8080/"
        },
        "outputId": "341685e4-d9ae-4627-c292-8fcdf359038f"
      },
      "execution_count": null,
      "outputs": [
        {
          "output_type": "stream",
          "name": "stdout",
          "text": [
            "['RowNumber' 'CustomerId' 'Surname' 'CreditScore' 'Geography' 'Gender'\n",
            " 'Age' 'Tenure' 'Balance' 'NumOfProducts' 'HasCrCard' 'IsActiveMember'\n",
            " 'EstimatedSalary' 'Exited']\n"
          ]
        }
      ]
    },
    {
      "cell_type": "markdown",
      "source": [
        "Terdapat 14 kolom yaitu 'RowNumber', 'CustomerId', 'Surname', 'CreditScore', 'Geography', 'Gender', 'Age', 'Tenure', 'Balance','NumOfProducts', 'HasCrCard', 'IsActiveMember', 'EstimatedSalary', 'Exited"
      ],
      "metadata": {
        "id": "SXp39S9d8wDo"
      }
    },
    {
      "cell_type": "code",
      "source": [
        "df.info()"
      ],
      "metadata": {
        "id": "xgaSWvemtCF-",
        "colab": {
          "base_uri": "https://localhost:8080/"
        },
        "outputId": "d179cb5b-c10d-475f-bc3b-c62be2fd5036"
      },
      "execution_count": null,
      "outputs": [
        {
          "output_type": "stream",
          "name": "stdout",
          "text": [
            "<class 'pandas.core.frame.DataFrame'>\n",
            "RangeIndex: 10000 entries, 0 to 9999\n",
            "Data columns (total 14 columns):\n",
            " #   Column           Non-Null Count  Dtype  \n",
            "---  ------           --------------  -----  \n",
            " 0   RowNumber        10000 non-null  int64  \n",
            " 1   CustomerId       10000 non-null  int64  \n",
            " 2   Surname          10000 non-null  object \n",
            " 3   CreditScore      10000 non-null  int64  \n",
            " 4   Geography        10000 non-null  object \n",
            " 5   Gender           10000 non-null  object \n",
            " 6   Age              10000 non-null  int64  \n",
            " 7   Tenure           10000 non-null  int64  \n",
            " 8   Balance          10000 non-null  float64\n",
            " 9   NumOfProducts    10000 non-null  int64  \n",
            " 10  HasCrCard        10000 non-null  int64  \n",
            " 11  IsActiveMember   10000 non-null  int64  \n",
            " 12  EstimatedSalary  10000 non-null  float64\n",
            " 13  Exited           10000 non-null  int64  \n",
            "dtypes: float64(2), int64(9), object(3)\n",
            "memory usage: 1.1+ MB\n"
          ]
        }
      ]
    },
    {
      "cell_type": "markdown",
      "source": [
        "Disini bisa dilihat bawa setiap kolom mempunyai 10000 data.\n",
        "Tipe data yang ada adalah float, integer, dan object."
      ],
      "metadata": {
        "id": "RBJqe27F9E1V"
      }
    },
    {
      "cell_type": "code",
      "source": [
        "df.head(5)\n",
        "#Melihat 5 data teratas"
      ],
      "metadata": {
        "id": "Mba_KIOytIVO",
        "colab": {
          "base_uri": "https://localhost:8080/",
          "height": 206
        },
        "outputId": "f11f7517-f784-48d2-c36e-096a96651fc4"
      },
      "execution_count": null,
      "outputs": [
        {
          "output_type": "execute_result",
          "data": {
            "text/plain": [
              "   RowNumber  CustomerId   Surname  CreditScore Geography  Gender  Age  \\\n",
              "0          1    15634602  Hargrave          619    France  Female   42   \n",
              "1          2    15647311      Hill          608     Spain  Female   41   \n",
              "2          3    15619304      Onio          502    France  Female   42   \n",
              "3          4    15701354      Boni          699    France  Female   39   \n",
              "4          5    15737888  Mitchell          850     Spain  Female   43   \n",
              "\n",
              "   Tenure    Balance  NumOfProducts  HasCrCard  IsActiveMember  \\\n",
              "0       2       0.00              1          1               1   \n",
              "1       1   83807.86              1          0               1   \n",
              "2       8  159660.80              3          1               0   \n",
              "3       1       0.00              2          0               0   \n",
              "4       2  125510.82              1          1               1   \n",
              "\n",
              "   EstimatedSalary  Exited  \n",
              "0        101348.88       1  \n",
              "1        112542.58       0  \n",
              "2        113931.57       1  \n",
              "3         93826.63       0  \n",
              "4         79084.10       0  "
            ],
            "text/html": [
              "\n",
              "  <div id=\"df-a6c36d68-43e0-489a-a686-19f711d2b51e\">\n",
              "    <div class=\"colab-df-container\">\n",
              "      <div>\n",
              "<style scoped>\n",
              "    .dataframe tbody tr th:only-of-type {\n",
              "        vertical-align: middle;\n",
              "    }\n",
              "\n",
              "    .dataframe tbody tr th {\n",
              "        vertical-align: top;\n",
              "    }\n",
              "\n",
              "    .dataframe thead th {\n",
              "        text-align: right;\n",
              "    }\n",
              "</style>\n",
              "<table border=\"1\" class=\"dataframe\">\n",
              "  <thead>\n",
              "    <tr style=\"text-align: right;\">\n",
              "      <th></th>\n",
              "      <th>RowNumber</th>\n",
              "      <th>CustomerId</th>\n",
              "      <th>Surname</th>\n",
              "      <th>CreditScore</th>\n",
              "      <th>Geography</th>\n",
              "      <th>Gender</th>\n",
              "      <th>Age</th>\n",
              "      <th>Tenure</th>\n",
              "      <th>Balance</th>\n",
              "      <th>NumOfProducts</th>\n",
              "      <th>HasCrCard</th>\n",
              "      <th>IsActiveMember</th>\n",
              "      <th>EstimatedSalary</th>\n",
              "      <th>Exited</th>\n",
              "    </tr>\n",
              "  </thead>\n",
              "  <tbody>\n",
              "    <tr>\n",
              "      <th>0</th>\n",
              "      <td>1</td>\n",
              "      <td>15634602</td>\n",
              "      <td>Hargrave</td>\n",
              "      <td>619</td>\n",
              "      <td>France</td>\n",
              "      <td>Female</td>\n",
              "      <td>42</td>\n",
              "      <td>2</td>\n",
              "      <td>0.00</td>\n",
              "      <td>1</td>\n",
              "      <td>1</td>\n",
              "      <td>1</td>\n",
              "      <td>101348.88</td>\n",
              "      <td>1</td>\n",
              "    </tr>\n",
              "    <tr>\n",
              "      <th>1</th>\n",
              "      <td>2</td>\n",
              "      <td>15647311</td>\n",
              "      <td>Hill</td>\n",
              "      <td>608</td>\n",
              "      <td>Spain</td>\n",
              "      <td>Female</td>\n",
              "      <td>41</td>\n",
              "      <td>1</td>\n",
              "      <td>83807.86</td>\n",
              "      <td>1</td>\n",
              "      <td>0</td>\n",
              "      <td>1</td>\n",
              "      <td>112542.58</td>\n",
              "      <td>0</td>\n",
              "    </tr>\n",
              "    <tr>\n",
              "      <th>2</th>\n",
              "      <td>3</td>\n",
              "      <td>15619304</td>\n",
              "      <td>Onio</td>\n",
              "      <td>502</td>\n",
              "      <td>France</td>\n",
              "      <td>Female</td>\n",
              "      <td>42</td>\n",
              "      <td>8</td>\n",
              "      <td>159660.80</td>\n",
              "      <td>3</td>\n",
              "      <td>1</td>\n",
              "      <td>0</td>\n",
              "      <td>113931.57</td>\n",
              "      <td>1</td>\n",
              "    </tr>\n",
              "    <tr>\n",
              "      <th>3</th>\n",
              "      <td>4</td>\n",
              "      <td>15701354</td>\n",
              "      <td>Boni</td>\n",
              "      <td>699</td>\n",
              "      <td>France</td>\n",
              "      <td>Female</td>\n",
              "      <td>39</td>\n",
              "      <td>1</td>\n",
              "      <td>0.00</td>\n",
              "      <td>2</td>\n",
              "      <td>0</td>\n",
              "      <td>0</td>\n",
              "      <td>93826.63</td>\n",
              "      <td>0</td>\n",
              "    </tr>\n",
              "    <tr>\n",
              "      <th>4</th>\n",
              "      <td>5</td>\n",
              "      <td>15737888</td>\n",
              "      <td>Mitchell</td>\n",
              "      <td>850</td>\n",
              "      <td>Spain</td>\n",
              "      <td>Female</td>\n",
              "      <td>43</td>\n",
              "      <td>2</td>\n",
              "      <td>125510.82</td>\n",
              "      <td>1</td>\n",
              "      <td>1</td>\n",
              "      <td>1</td>\n",
              "      <td>79084.10</td>\n",
              "      <td>0</td>\n",
              "    </tr>\n",
              "  </tbody>\n",
              "</table>\n",
              "</div>\n",
              "      <button class=\"colab-df-convert\" onclick=\"convertToInteractive('df-a6c36d68-43e0-489a-a686-19f711d2b51e')\"\n",
              "              title=\"Convert this dataframe to an interactive table.\"\n",
              "              style=\"display:none;\">\n",
              "        \n",
              "  <svg xmlns=\"http://www.w3.org/2000/svg\" height=\"24px\"viewBox=\"0 0 24 24\"\n",
              "       width=\"24px\">\n",
              "    <path d=\"M0 0h24v24H0V0z\" fill=\"none\"/>\n",
              "    <path d=\"M18.56 5.44l.94 2.06.94-2.06 2.06-.94-2.06-.94-.94-2.06-.94 2.06-2.06.94zm-11 1L8.5 8.5l.94-2.06 2.06-.94-2.06-.94L8.5 2.5l-.94 2.06-2.06.94zm10 10l.94 2.06.94-2.06 2.06-.94-2.06-.94-.94-2.06-.94 2.06-2.06.94z\"/><path d=\"M17.41 7.96l-1.37-1.37c-.4-.4-.92-.59-1.43-.59-.52 0-1.04.2-1.43.59L10.3 9.45l-7.72 7.72c-.78.78-.78 2.05 0 2.83L4 21.41c.39.39.9.59 1.41.59.51 0 1.02-.2 1.41-.59l7.78-7.78 2.81-2.81c.8-.78.8-2.07 0-2.86zM5.41 20L4 18.59l7.72-7.72 1.47 1.35L5.41 20z\"/>\n",
              "  </svg>\n",
              "      </button>\n",
              "      \n",
              "  <style>\n",
              "    .colab-df-container {\n",
              "      display:flex;\n",
              "      flex-wrap:wrap;\n",
              "      gap: 12px;\n",
              "    }\n",
              "\n",
              "    .colab-df-convert {\n",
              "      background-color: #E8F0FE;\n",
              "      border: none;\n",
              "      border-radius: 50%;\n",
              "      cursor: pointer;\n",
              "      display: none;\n",
              "      fill: #1967D2;\n",
              "      height: 32px;\n",
              "      padding: 0 0 0 0;\n",
              "      width: 32px;\n",
              "    }\n",
              "\n",
              "    .colab-df-convert:hover {\n",
              "      background-color: #E2EBFA;\n",
              "      box-shadow: 0px 1px 2px rgba(60, 64, 67, 0.3), 0px 1px 3px 1px rgba(60, 64, 67, 0.15);\n",
              "      fill: #174EA6;\n",
              "    }\n",
              "\n",
              "    [theme=dark] .colab-df-convert {\n",
              "      background-color: #3B4455;\n",
              "      fill: #D2E3FC;\n",
              "    }\n",
              "\n",
              "    [theme=dark] .colab-df-convert:hover {\n",
              "      background-color: #434B5C;\n",
              "      box-shadow: 0px 1px 3px 1px rgba(0, 0, 0, 0.15);\n",
              "      filter: drop-shadow(0px 1px 2px rgba(0, 0, 0, 0.3));\n",
              "      fill: #FFFFFF;\n",
              "    }\n",
              "  </style>\n",
              "\n",
              "      <script>\n",
              "        const buttonEl =\n",
              "          document.querySelector('#df-a6c36d68-43e0-489a-a686-19f711d2b51e button.colab-df-convert');\n",
              "        buttonEl.style.display =\n",
              "          google.colab.kernel.accessAllowed ? 'block' : 'none';\n",
              "\n",
              "        async function convertToInteractive(key) {\n",
              "          const element = document.querySelector('#df-a6c36d68-43e0-489a-a686-19f711d2b51e');\n",
              "          const dataTable =\n",
              "            await google.colab.kernel.invokeFunction('convertToInteractive',\n",
              "                                                     [key], {});\n",
              "          if (!dataTable) return;\n",
              "\n",
              "          const docLinkHtml = 'Like what you see? Visit the ' +\n",
              "            '<a target=\"_blank\" href=https://colab.research.google.com/notebooks/data_table.ipynb>data table notebook</a>'\n",
              "            + ' to learn more about interactive tables.';\n",
              "          element.innerHTML = '';\n",
              "          dataTable['output_type'] = 'display_data';\n",
              "          await google.colab.output.renderOutput(dataTable, element);\n",
              "          const docLink = document.createElement('div');\n",
              "          docLink.innerHTML = docLinkHtml;\n",
              "          element.appendChild(docLink);\n",
              "        }\n",
              "      </script>\n",
              "    </div>\n",
              "  </div>\n",
              "  "
            ]
          },
          "metadata": {},
          "execution_count": 6
        }
      ]
    },
    {
      "cell_type": "markdown",
      "source": [
        "Dari 5 data pertama kita dapat melihat bahwa :\n",
        "- tiap customer punya CustomerID yang berbeda satu sama lain.\n",
        "- Customer yang punya credit score paling banyak dari 5 data di atas ada pada rentang 600 an.\n",
        "- Umur customer rata-rata 35-45 an.\n",
        "- Balance customer ada yang 0.\n",
        "- Kebanyakan customer active member, dan punya kartu kredit.\n",
        "- Lebih banyak customer yang not churn dari pada churn."
      ],
      "metadata": {
        "id": "qNIjWB0m9Tp_"
      }
    },
    {
      "cell_type": "code",
      "source": [
        "df.tail(5)\n",
        "# Melihat 5 data terbawah"
      ],
      "metadata": {
        "id": "CDMjd5f8tPza",
        "colab": {
          "base_uri": "https://localhost:8080/",
          "height": 206
        },
        "outputId": "1a61ceb0-8723-4aef-a788-895e61b8757e"
      },
      "execution_count": null,
      "outputs": [
        {
          "output_type": "execute_result",
          "data": {
            "text/plain": [
              "      RowNumber  CustomerId    Surname  CreditScore Geography  Gender  Age  \\\n",
              "9995       9996    15606229   Obijiaku          771    France    Male   39   \n",
              "9996       9997    15569892  Johnstone          516    France    Male   35   \n",
              "9997       9998    15584532        Liu          709    France  Female   36   \n",
              "9998       9999    15682355  Sabbatini          772   Germany    Male   42   \n",
              "9999      10000    15628319     Walker          792    France  Female   28   \n",
              "\n",
              "      Tenure    Balance  NumOfProducts  HasCrCard  IsActiveMember  \\\n",
              "9995       5       0.00              2          1               0   \n",
              "9996      10   57369.61              1          1               1   \n",
              "9997       7       0.00              1          0               1   \n",
              "9998       3   75075.31              2          1               0   \n",
              "9999       4  130142.79              1          1               0   \n",
              "\n",
              "      EstimatedSalary  Exited  \n",
              "9995         96270.64       0  \n",
              "9996        101699.77       0  \n",
              "9997         42085.58       1  \n",
              "9998         92888.52       1  \n",
              "9999         38190.78       0  "
            ],
            "text/html": [
              "\n",
              "  <div id=\"df-98d9784b-0c8f-40bc-98de-2810efc80f43\">\n",
              "    <div class=\"colab-df-container\">\n",
              "      <div>\n",
              "<style scoped>\n",
              "    .dataframe tbody tr th:only-of-type {\n",
              "        vertical-align: middle;\n",
              "    }\n",
              "\n",
              "    .dataframe tbody tr th {\n",
              "        vertical-align: top;\n",
              "    }\n",
              "\n",
              "    .dataframe thead th {\n",
              "        text-align: right;\n",
              "    }\n",
              "</style>\n",
              "<table border=\"1\" class=\"dataframe\">\n",
              "  <thead>\n",
              "    <tr style=\"text-align: right;\">\n",
              "      <th></th>\n",
              "      <th>RowNumber</th>\n",
              "      <th>CustomerId</th>\n",
              "      <th>Surname</th>\n",
              "      <th>CreditScore</th>\n",
              "      <th>Geography</th>\n",
              "      <th>Gender</th>\n",
              "      <th>Age</th>\n",
              "      <th>Tenure</th>\n",
              "      <th>Balance</th>\n",
              "      <th>NumOfProducts</th>\n",
              "      <th>HasCrCard</th>\n",
              "      <th>IsActiveMember</th>\n",
              "      <th>EstimatedSalary</th>\n",
              "      <th>Exited</th>\n",
              "    </tr>\n",
              "  </thead>\n",
              "  <tbody>\n",
              "    <tr>\n",
              "      <th>9995</th>\n",
              "      <td>9996</td>\n",
              "      <td>15606229</td>\n",
              "      <td>Obijiaku</td>\n",
              "      <td>771</td>\n",
              "      <td>France</td>\n",
              "      <td>Male</td>\n",
              "      <td>39</td>\n",
              "      <td>5</td>\n",
              "      <td>0.00</td>\n",
              "      <td>2</td>\n",
              "      <td>1</td>\n",
              "      <td>0</td>\n",
              "      <td>96270.64</td>\n",
              "      <td>0</td>\n",
              "    </tr>\n",
              "    <tr>\n",
              "      <th>9996</th>\n",
              "      <td>9997</td>\n",
              "      <td>15569892</td>\n",
              "      <td>Johnstone</td>\n",
              "      <td>516</td>\n",
              "      <td>France</td>\n",
              "      <td>Male</td>\n",
              "      <td>35</td>\n",
              "      <td>10</td>\n",
              "      <td>57369.61</td>\n",
              "      <td>1</td>\n",
              "      <td>1</td>\n",
              "      <td>1</td>\n",
              "      <td>101699.77</td>\n",
              "      <td>0</td>\n",
              "    </tr>\n",
              "    <tr>\n",
              "      <th>9997</th>\n",
              "      <td>9998</td>\n",
              "      <td>15584532</td>\n",
              "      <td>Liu</td>\n",
              "      <td>709</td>\n",
              "      <td>France</td>\n",
              "      <td>Female</td>\n",
              "      <td>36</td>\n",
              "      <td>7</td>\n",
              "      <td>0.00</td>\n",
              "      <td>1</td>\n",
              "      <td>0</td>\n",
              "      <td>1</td>\n",
              "      <td>42085.58</td>\n",
              "      <td>1</td>\n",
              "    </tr>\n",
              "    <tr>\n",
              "      <th>9998</th>\n",
              "      <td>9999</td>\n",
              "      <td>15682355</td>\n",
              "      <td>Sabbatini</td>\n",
              "      <td>772</td>\n",
              "      <td>Germany</td>\n",
              "      <td>Male</td>\n",
              "      <td>42</td>\n",
              "      <td>3</td>\n",
              "      <td>75075.31</td>\n",
              "      <td>2</td>\n",
              "      <td>1</td>\n",
              "      <td>0</td>\n",
              "      <td>92888.52</td>\n",
              "      <td>1</td>\n",
              "    </tr>\n",
              "    <tr>\n",
              "      <th>9999</th>\n",
              "      <td>10000</td>\n",
              "      <td>15628319</td>\n",
              "      <td>Walker</td>\n",
              "      <td>792</td>\n",
              "      <td>France</td>\n",
              "      <td>Female</td>\n",
              "      <td>28</td>\n",
              "      <td>4</td>\n",
              "      <td>130142.79</td>\n",
              "      <td>1</td>\n",
              "      <td>1</td>\n",
              "      <td>0</td>\n",
              "      <td>38190.78</td>\n",
              "      <td>0</td>\n",
              "    </tr>\n",
              "  </tbody>\n",
              "</table>\n",
              "</div>\n",
              "      <button class=\"colab-df-convert\" onclick=\"convertToInteractive('df-98d9784b-0c8f-40bc-98de-2810efc80f43')\"\n",
              "              title=\"Convert this dataframe to an interactive table.\"\n",
              "              style=\"display:none;\">\n",
              "        \n",
              "  <svg xmlns=\"http://www.w3.org/2000/svg\" height=\"24px\"viewBox=\"0 0 24 24\"\n",
              "       width=\"24px\">\n",
              "    <path d=\"M0 0h24v24H0V0z\" fill=\"none\"/>\n",
              "    <path d=\"M18.56 5.44l.94 2.06.94-2.06 2.06-.94-2.06-.94-.94-2.06-.94 2.06-2.06.94zm-11 1L8.5 8.5l.94-2.06 2.06-.94-2.06-.94L8.5 2.5l-.94 2.06-2.06.94zm10 10l.94 2.06.94-2.06 2.06-.94-2.06-.94-.94-2.06-.94 2.06-2.06.94z\"/><path d=\"M17.41 7.96l-1.37-1.37c-.4-.4-.92-.59-1.43-.59-.52 0-1.04.2-1.43.59L10.3 9.45l-7.72 7.72c-.78.78-.78 2.05 0 2.83L4 21.41c.39.39.9.59 1.41.59.51 0 1.02-.2 1.41-.59l7.78-7.78 2.81-2.81c.8-.78.8-2.07 0-2.86zM5.41 20L4 18.59l7.72-7.72 1.47 1.35L5.41 20z\"/>\n",
              "  </svg>\n",
              "      </button>\n",
              "      \n",
              "  <style>\n",
              "    .colab-df-container {\n",
              "      display:flex;\n",
              "      flex-wrap:wrap;\n",
              "      gap: 12px;\n",
              "    }\n",
              "\n",
              "    .colab-df-convert {\n",
              "      background-color: #E8F0FE;\n",
              "      border: none;\n",
              "      border-radius: 50%;\n",
              "      cursor: pointer;\n",
              "      display: none;\n",
              "      fill: #1967D2;\n",
              "      height: 32px;\n",
              "      padding: 0 0 0 0;\n",
              "      width: 32px;\n",
              "    }\n",
              "\n",
              "    .colab-df-convert:hover {\n",
              "      background-color: #E2EBFA;\n",
              "      box-shadow: 0px 1px 2px rgba(60, 64, 67, 0.3), 0px 1px 3px 1px rgba(60, 64, 67, 0.15);\n",
              "      fill: #174EA6;\n",
              "    }\n",
              "\n",
              "    [theme=dark] .colab-df-convert {\n",
              "      background-color: #3B4455;\n",
              "      fill: #D2E3FC;\n",
              "    }\n",
              "\n",
              "    [theme=dark] .colab-df-convert:hover {\n",
              "      background-color: #434B5C;\n",
              "      box-shadow: 0px 1px 3px 1px rgba(0, 0, 0, 0.15);\n",
              "      filter: drop-shadow(0px 1px 2px rgba(0, 0, 0, 0.3));\n",
              "      fill: #FFFFFF;\n",
              "    }\n",
              "  </style>\n",
              "\n",
              "      <script>\n",
              "        const buttonEl =\n",
              "          document.querySelector('#df-98d9784b-0c8f-40bc-98de-2810efc80f43 button.colab-df-convert');\n",
              "        buttonEl.style.display =\n",
              "          google.colab.kernel.accessAllowed ? 'block' : 'none';\n",
              "\n",
              "        async function convertToInteractive(key) {\n",
              "          const element = document.querySelector('#df-98d9784b-0c8f-40bc-98de-2810efc80f43');\n",
              "          const dataTable =\n",
              "            await google.colab.kernel.invokeFunction('convertToInteractive',\n",
              "                                                     [key], {});\n",
              "          if (!dataTable) return;\n",
              "\n",
              "          const docLinkHtml = 'Like what you see? Visit the ' +\n",
              "            '<a target=\"_blank\" href=https://colab.research.google.com/notebooks/data_table.ipynb>data table notebook</a>'\n",
              "            + ' to learn more about interactive tables.';\n",
              "          element.innerHTML = '';\n",
              "          dataTable['output_type'] = 'display_data';\n",
              "          await google.colab.output.renderOutput(dataTable, element);\n",
              "          const docLink = document.createElement('div');\n",
              "          docLink.innerHTML = docLinkHtml;\n",
              "          element.appendChild(docLink);\n",
              "        }\n",
              "      </script>\n",
              "    </div>\n",
              "  </div>\n",
              "  "
            ]
          },
          "metadata": {},
          "execution_count": 7
        }
      ]
    },
    {
      "cell_type": "markdown",
      "source": [
        "Dari 5 data terakhir kita dapat melihat bahwa :\n",
        "- Gendernya kebanyakan male dari pada female.\n",
        "- Number of product yang rata - rata dibeli 1, dan 2.\n",
        "- Kebanyakan mempunyai kartu kredit."
      ],
      "metadata": {
        "id": "oY68Q1Hs-DC-"
      }
    },
    {
      "cell_type": "markdown",
      "source": [
        "## Checking Duplicate Data"
      ],
      "metadata": {
        "id": "vA5RjqSPtfle"
      }
    },
    {
      "cell_type": "code",
      "source": [
        "print(df.shape)\n",
        "print(df[df.duplicated()].shape)"
      ],
      "metadata": {
        "id": "uyhibR_Ztbx_",
        "colab": {
          "base_uri": "https://localhost:8080/"
        },
        "outputId": "98fddc1e-05c7-40f6-fe14-b6c0b5259b74"
      },
      "execution_count": null,
      "outputs": [
        {
          "output_type": "stream",
          "name": "stdout",
          "text": [
            "(10000, 14)\n",
            "(0, 14)\n"
          ]
        }
      ]
    },
    {
      "cell_type": "code",
      "source": [
        "df[df.duplicated(keep=False)]"
      ],
      "metadata": {
        "id": "szwNhzZpu76B",
        "colab": {
          "base_uri": "https://localhost:8080/",
          "height": 49
        },
        "outputId": "286a4826-986a-46f3-de71-530817f055ae"
      },
      "execution_count": null,
      "outputs": [
        {
          "output_type": "execute_result",
          "data": {
            "text/plain": [
              "Empty DataFrame\n",
              "Columns: [RowNumber, CustomerId, Surname, CreditScore, Geography, Gender, Age, Tenure, Balance, NumOfProducts, HasCrCard, IsActiveMember, EstimatedSalary, Exited]\n",
              "Index: []"
            ],
            "text/html": [
              "\n",
              "  <div id=\"df-f1739fe2-14f4-4b18-bcf7-75073854ed8b\">\n",
              "    <div class=\"colab-df-container\">\n",
              "      <div>\n",
              "<style scoped>\n",
              "    .dataframe tbody tr th:only-of-type {\n",
              "        vertical-align: middle;\n",
              "    }\n",
              "\n",
              "    .dataframe tbody tr th {\n",
              "        vertical-align: top;\n",
              "    }\n",
              "\n",
              "    .dataframe thead th {\n",
              "        text-align: right;\n",
              "    }\n",
              "</style>\n",
              "<table border=\"1\" class=\"dataframe\">\n",
              "  <thead>\n",
              "    <tr style=\"text-align: right;\">\n",
              "      <th></th>\n",
              "      <th>RowNumber</th>\n",
              "      <th>CustomerId</th>\n",
              "      <th>Surname</th>\n",
              "      <th>CreditScore</th>\n",
              "      <th>Geography</th>\n",
              "      <th>Gender</th>\n",
              "      <th>Age</th>\n",
              "      <th>Tenure</th>\n",
              "      <th>Balance</th>\n",
              "      <th>NumOfProducts</th>\n",
              "      <th>HasCrCard</th>\n",
              "      <th>IsActiveMember</th>\n",
              "      <th>EstimatedSalary</th>\n",
              "      <th>Exited</th>\n",
              "    </tr>\n",
              "  </thead>\n",
              "  <tbody>\n",
              "  </tbody>\n",
              "</table>\n",
              "</div>\n",
              "      <button class=\"colab-df-convert\" onclick=\"convertToInteractive('df-f1739fe2-14f4-4b18-bcf7-75073854ed8b')\"\n",
              "              title=\"Convert this dataframe to an interactive table.\"\n",
              "              style=\"display:none;\">\n",
              "        \n",
              "  <svg xmlns=\"http://www.w3.org/2000/svg\" height=\"24px\"viewBox=\"0 0 24 24\"\n",
              "       width=\"24px\">\n",
              "    <path d=\"M0 0h24v24H0V0z\" fill=\"none\"/>\n",
              "    <path d=\"M18.56 5.44l.94 2.06.94-2.06 2.06-.94-2.06-.94-.94-2.06-.94 2.06-2.06.94zm-11 1L8.5 8.5l.94-2.06 2.06-.94-2.06-.94L8.5 2.5l-.94 2.06-2.06.94zm10 10l.94 2.06.94-2.06 2.06-.94-2.06-.94-.94-2.06-.94 2.06-2.06.94z\"/><path d=\"M17.41 7.96l-1.37-1.37c-.4-.4-.92-.59-1.43-.59-.52 0-1.04.2-1.43.59L10.3 9.45l-7.72 7.72c-.78.78-.78 2.05 0 2.83L4 21.41c.39.39.9.59 1.41.59.51 0 1.02-.2 1.41-.59l7.78-7.78 2.81-2.81c.8-.78.8-2.07 0-2.86zM5.41 20L4 18.59l7.72-7.72 1.47 1.35L5.41 20z\"/>\n",
              "  </svg>\n",
              "      </button>\n",
              "      \n",
              "  <style>\n",
              "    .colab-df-container {\n",
              "      display:flex;\n",
              "      flex-wrap:wrap;\n",
              "      gap: 12px;\n",
              "    }\n",
              "\n",
              "    .colab-df-convert {\n",
              "      background-color: #E8F0FE;\n",
              "      border: none;\n",
              "      border-radius: 50%;\n",
              "      cursor: pointer;\n",
              "      display: none;\n",
              "      fill: #1967D2;\n",
              "      height: 32px;\n",
              "      padding: 0 0 0 0;\n",
              "      width: 32px;\n",
              "    }\n",
              "\n",
              "    .colab-df-convert:hover {\n",
              "      background-color: #E2EBFA;\n",
              "      box-shadow: 0px 1px 2px rgba(60, 64, 67, 0.3), 0px 1px 3px 1px rgba(60, 64, 67, 0.15);\n",
              "      fill: #174EA6;\n",
              "    }\n",
              "\n",
              "    [theme=dark] .colab-df-convert {\n",
              "      background-color: #3B4455;\n",
              "      fill: #D2E3FC;\n",
              "    }\n",
              "\n",
              "    [theme=dark] .colab-df-convert:hover {\n",
              "      background-color: #434B5C;\n",
              "      box-shadow: 0px 1px 3px 1px rgba(0, 0, 0, 0.15);\n",
              "      filter: drop-shadow(0px 1px 2px rgba(0, 0, 0, 0.3));\n",
              "      fill: #FFFFFF;\n",
              "    }\n",
              "  </style>\n",
              "\n",
              "      <script>\n",
              "        const buttonEl =\n",
              "          document.querySelector('#df-f1739fe2-14f4-4b18-bcf7-75073854ed8b button.colab-df-convert');\n",
              "        buttonEl.style.display =\n",
              "          google.colab.kernel.accessAllowed ? 'block' : 'none';\n",
              "\n",
              "        async function convertToInteractive(key) {\n",
              "          const element = document.querySelector('#df-f1739fe2-14f4-4b18-bcf7-75073854ed8b');\n",
              "          const dataTable =\n",
              "            await google.colab.kernel.invokeFunction('convertToInteractive',\n",
              "                                                     [key], {});\n",
              "          if (!dataTable) return;\n",
              "\n",
              "          const docLinkHtml = 'Like what you see? Visit the ' +\n",
              "            '<a target=\"_blank\" href=https://colab.research.google.com/notebooks/data_table.ipynb>data table notebook</a>'\n",
              "            + ' to learn more about interactive tables.';\n",
              "          element.innerHTML = '';\n",
              "          dataTable['output_type'] = 'display_data';\n",
              "          await google.colab.output.renderOutput(dataTable, element);\n",
              "          const docLink = document.createElement('div');\n",
              "          docLink.innerHTML = docLinkHtml;\n",
              "          element.appendChild(docLink);\n",
              "        }\n",
              "      </script>\n",
              "    </div>\n",
              "  </div>\n",
              "  "
            ]
          },
          "metadata": {},
          "execution_count": 9
        }
      ]
    },
    {
      "cell_type": "markdown",
      "source": [
        "- DF mempunyai 10000 baris, dan 14 columns of data\n",
        "- Setelah dicheck dengan duplicated() method ternyata tidak ada data yang terduplikasi"
      ],
      "metadata": {
        "id": "eE5D5my4S7CR"
      }
    },
    {
      "cell_type": "markdown",
      "source": [
        "## Data Distribution"
      ],
      "metadata": {
        "id": "MulC1t9uvPwr"
      }
    },
    {
      "cell_type": "code",
      "source": [
        "# Density plots for all attributes to visualize the distribution of each attribute\n",
        "df.plot(kind='density', subplots=True, layout=(4,4), figsize=(20, 15), sharex=False)\n",
        "plt.show()"
      ],
      "metadata": {
        "id": "nLIvPwiyvStV",
        "colab": {
          "base_uri": "https://localhost:8080/",
          "height": 662
        },
        "outputId": "914bd8e1-2b79-4e87-ae4d-acceab8c14ed"
      },
      "execution_count": null,
      "outputs": [
        {
          "output_type": "display_data",
          "data": {
            "text/plain": [
              "<Figure size 1440x1080 with 16 Axes>"
            ],
            "image/png": "[encoded data removed]"
          },
          "metadata": {
            "needs_background": "light"
          }
        }
      ]
    },
    {
      "cell_type": "markdown",
      "source": [
        "## Checking Missing Value"
      ],
      "metadata": {
        "id": "YUv0X_PEvc6v"
      }
    },
    {
      "cell_type": "code",
      "source": [
        "print(df.isnull().sum())\n",
        "print(df.shape)"
      ],
      "metadata": {
        "id": "cb57FWkGvfWS",
        "colab": {
          "base_uri": "https://localhost:8080/"
        },
        "outputId": "05884699-7fc2-4531-edfd-6ab6fb4b904d"
      },
      "execution_count": null,
      "outputs": [
        {
          "output_type": "stream",
          "name": "stdout",
          "text": [
            "RowNumber          0\n",
            "CustomerId         0\n",
            "Surname            0\n",
            "CreditScore        0\n",
            "Geography          0\n",
            "Gender             0\n",
            "Age                0\n",
            "Tenure             0\n",
            "Balance            0\n",
            "NumOfProducts      0\n",
            "HasCrCard          0\n",
            "IsActiveMember     0\n",
            "EstimatedSalary    0\n",
            "Exited             0\n",
            "dtype: int64\n",
            "(10000, 14)\n"
          ]
        }
      ]
    },
    {
      "cell_type": "markdown",
      "source": [
        "Dari pengecekan missing value dalam dataset, dapat dilihat ouput 0 menunjukkan bahwa tidak ada missing value di semua variable."
      ],
      "metadata": {
        "id": "7QkaLx2fggpU"
      }
    },
    {
      "cell_type": "code",
      "source": [
        "plt.figure(figsize=(15, 7))\n",
        "sns.heatmap(df.isnull(),yticklabels=False,cbar=False)"
      ],
      "metadata": {
        "colab": {
          "base_uri": "https://localhost:8080/",
          "height": 517
        },
        "id": "3MTqPSlMva5_",
        "outputId": "72df61c9-8bd1-4852-a72a-90eb14de1680"
      },
      "execution_count": null,
      "outputs": [
        {
          "output_type": "execute_result",
          "data": {
            "text/plain": [
              "<matplotlib.axes._subplots.AxesSubplot at 0x7f9ab89ac130>"
            ]
          },
          "metadata": {},
          "execution_count": 12
        },
        {
          "output_type": "display_data",
          "data": {
            "text/plain": [
              "<Figure size 1080x504 with 1 Axes>"
            ],
            "image/png": "[encoded data removed]"
          },
          "metadata": {
            "needs_background": "light"
          }
        }
      ]
    },
    {
      "cell_type": "markdown",
      "source": [
        "Dari pengecekan missing value dalam dataset, dapat dilihat ouput 0 menunjukkan bahwa tidak ada missing value di semua variable."
      ],
      "metadata": {
        "id": "fdYO1FlPgqrj"
      }
    },
    {
      "cell_type": "markdown",
      "source": [
        "### Check for imbalance for categorical data"
      ],
      "metadata": {
        "id": "t8n3_9onyCUr"
      }
    },
    {
      "cell_type": "code",
      "source": [
        "df['Geography'].value_counts()"
      ],
      "metadata": {
        "id": "0r0blkJEv6xM",
        "colab": {
          "base_uri": "https://localhost:8080/"
        },
        "outputId": "2b38f41e-d391-4795-c09f-546d83262141"
      },
      "execution_count": null,
      "outputs": [
        {
          "output_type": "execute_result",
          "data": {
            "text/plain": [
              "France     5014\n",
              "Germany    2509\n",
              "Spain      2477\n",
              "Name: Geography, dtype: int64"
            ]
          },
          "metadata": {},
          "execution_count": 13
        }
      ]
    },
    {
      "cell_type": "markdown",
      "source": [
        "Output diatas menunjukkan banyaknya unique value dari variable Geography dengan 3 jenis Geography yang berbeda yaitu France, Germany, Spain."
      ],
      "metadata": {
        "id": "v-YfZrEWgx_V"
      }
    },
    {
      "cell_type": "code",
      "source": [
        "df['Gender'].value_counts()"
      ],
      "metadata": {
        "id": "KUnM_nde1qDE",
        "colab": {
          "base_uri": "https://localhost:8080/"
        },
        "outputId": "a4d38243-59a9-4e0a-8fb2-d412070a23a2"
      },
      "execution_count": null,
      "outputs": [
        {
          "output_type": "execute_result",
          "data": {
            "text/plain": [
              "Male      5457\n",
              "Female    4543\n",
              "Name: Gender, dtype: int64"
            ]
          },
          "metadata": {},
          "execution_count": 14
        }
      ]
    },
    {
      "cell_type": "markdown",
      "source": [
        "Output diatas menunjukkan banyaknya unique value dari variable Gender dengan 2 macam Gennder yang berbeda yaitu Male dan Female."
      ],
      "metadata": {
        "id": "CHvkYTFMjnmF"
      }
    },
    {
      "cell_type": "code",
      "source": [
        "df['HasCrCard'].value_counts()"
      ],
      "metadata": {
        "id": "_dKkKsZa1wb2",
        "colab": {
          "base_uri": "https://localhost:8080/"
        },
        "outputId": "f2309611-b226-48f9-fc97-17690c9c5c84"
      },
      "execution_count": null,
      "outputs": [
        {
          "output_type": "execute_result",
          "data": {
            "text/plain": [
              "1    7055\n",
              "0    2945\n",
              "Name: HasCrCard, dtype: int64"
            ]
          },
          "metadata": {},
          "execution_count": 15
        }
      ]
    },
    {
      "cell_type": "markdown",
      "source": [
        "Output diatas menunjukkan banyaknya unique value dari variable HasCrCard dengan 2 macam nilai yang berbeda yaitu, 1 berarti memiliki CrCard dan 0 tidak memiliki CrCard."
      ],
      "metadata": {
        "id": "8u9XP8lhj_sF"
      }
    },
    {
      "cell_type": "code",
      "source": [
        "df['IsActiveMember'].value_counts()"
      ],
      "metadata": {
        "id": "Jru-6XYe1JT-",
        "colab": {
          "base_uri": "https://localhost:8080/"
        },
        "outputId": "b71f7f9b-d00b-49a7-de70-99743daee6f7"
      },
      "execution_count": null,
      "outputs": [
        {
          "output_type": "execute_result",
          "data": {
            "text/plain": [
              "1    5151\n",
              "0    4849\n",
              "Name: IsActiveMember, dtype: int64"
            ]
          },
          "metadata": {},
          "execution_count": 16
        }
      ]
    },
    {
      "cell_type": "markdown",
      "source": [
        "Output diatas menunjukkan banyaknya unique value dari variable HasCrCard dengan 2 macam nilai yang berbeda yaitu, 1 berarti memiliki CrCard dan 0 tidak memiliki CrCard."
      ],
      "metadata": {
        "id": "-fqkdSLHkC41"
      }
    },
    {
      "cell_type": "markdown",
      "source": [
        "# Data Description"
      ],
      "metadata": {
        "id": "VcMm6YUOv7GR"
      }
    },
    {
      "cell_type": "code",
      "source": [
        "df.describe().T"
      ],
      "metadata": {
        "id": "Ko_qVDXsv-yS",
        "colab": {
          "base_uri": "https://localhost:8080/",
          "height": 394
        },
        "outputId": "3d143b86-ae6a-4cfd-c889-b6b764039f53"
      },
      "execution_count": null,
      "outputs": [
        {
          "output_type": "execute_result",
          "data": {
            "text/plain": [
              "                   count          mean           std          min  \\\n",
              "RowNumber        10000.0  5.000500e+03   2886.895680         1.00   \n",
              "CustomerId       10000.0  1.569094e+07  71936.186123  15565701.00   \n",
              "CreditScore      10000.0  6.505288e+02     96.653299       350.00   \n",
              "Age              10000.0  3.892180e+01     10.487806        18.00   \n",
              "Tenure           10000.0  5.012800e+00      2.892174         0.00   \n",
              "Balance          10000.0  7.648589e+04  62397.405202         0.00   \n",
              "NumOfProducts    10000.0  1.530200e+00      0.581654         1.00   \n",
              "HasCrCard        10000.0  7.055000e-01      0.455840         0.00   \n",
              "IsActiveMember   10000.0  5.151000e-01      0.499797         0.00   \n",
              "EstimatedSalary  10000.0  1.000902e+05  57510.492818        11.58   \n",
              "Exited           10000.0  2.037000e-01      0.402769         0.00   \n",
              "\n",
              "                         25%           50%           75%          max  \n",
              "RowNumber            2500.75  5.000500e+03  7.500250e+03     10000.00  \n",
              "CustomerId       15628528.25  1.569074e+07  1.575323e+07  15815690.00  \n",
              "CreditScore           584.00  6.520000e+02  7.180000e+02       850.00  \n",
              "Age                    32.00  3.700000e+01  4.400000e+01        92.00  \n",
              "Tenure                  3.00  5.000000e+00  7.000000e+00        10.00  \n",
              "Balance                 0.00  9.719854e+04  1.276442e+05    250898.09  \n",
              "NumOfProducts           1.00  1.000000e+00  2.000000e+00         4.00  \n",
              "HasCrCard               0.00  1.000000e+00  1.000000e+00         1.00  \n",
              "IsActiveMember          0.00  1.000000e+00  1.000000e+00         1.00  \n",
              "EstimatedSalary     51002.11  1.001939e+05  1.493882e+05    199992.48  \n",
              "Exited                  0.00  0.000000e+00  0.000000e+00         1.00  "
            ],
            "text/html": [
              "\n",
              "  <div id=\"df-dbc6bf3c-1199-49d1-ae68-3fe90ce6affb\">\n",
              "    <div class=\"colab-df-container\">\n",
              "      <div>\n",
              "<style scoped>\n",
              "    .dataframe tbody tr th:only-of-type {\n",
              "        vertical-align: middle;\n",
              "    }\n",
              "\n",
              "    .dataframe tbody tr th {\n",
              "        vertical-align: top;\n",
              "    }\n",
              "\n",
              "    .dataframe thead th {\n",
              "        text-align: right;\n",
              "    }\n",
              "</style>\n",
              "<table border=\"1\" class=\"dataframe\">\n",
              "  <thead>\n",
              "    <tr style=\"text-align: right;\">\n",
              "      <th></th>\n",
              "      <th>count</th>\n",
              "      <th>mean</th>\n",
              "      <th>std</th>\n",
              "      <th>min</th>\n",
              "      <th>25%</th>\n",
              "      <th>50%</th>\n",
              "      <th>75%</th>\n",
              "      <th>max</th>\n",
              "    </tr>\n",
              "  </thead>\n",
              "  <tbody>\n",
              "    <tr>\n",
              "      <th>RowNumber</th>\n",
              "      <td>10000.0</td>\n",
              "      <td>5.000500e+03</td>\n",
              "      <td>2886.895680</td>\n",
              "      <td>1.00</td>\n",
              "      <td>2500.75</td>\n",
              "      <td>5.000500e+03</td>\n",
              "      <td>7.500250e+03</td>\n",
              "      <td>10000.00</td>\n",
              "    </tr>\n",
              "    <tr>\n",
              "      <th>CustomerId</th>\n",
              "      <td>10000.0</td>\n",
              "      <td>1.569094e+07</td>\n",
              "      <td>71936.186123</td>\n",
              "      <td>15565701.00</td>\n",
              "      <td>15628528.25</td>\n",
              "      <td>1.569074e+07</td>\n",
              "      <td>1.575323e+07</td>\n",
              "      <td>15815690.00</td>\n",
              "    </tr>\n",
              "    <tr>\n",
              "      <th>CreditScore</th>\n",
              "      <td>10000.0</td>\n",
              "      <td>6.505288e+02</td>\n",
              "      <td>96.653299</td>\n",
              "      <td>350.00</td>\n",
              "      <td>584.00</td>\n",
              "      <td>6.520000e+02</td>\n",
              "      <td>7.180000e+02</td>\n",
              "      <td>850.00</td>\n",
              "    </tr>\n",
              "    <tr>\n",
              "      <th>Age</th>\n",
              "      <td>10000.0</td>\n",
              "      <td>3.892180e+01</td>\n",
              "      <td>10.487806</td>\n",
              "      <td>18.00</td>\n",
              "      <td>32.00</td>\n",
              "      <td>3.700000e+01</td>\n",
              "      <td>4.400000e+01</td>\n",
              "      <td>92.00</td>\n",
              "    </tr>\n",
              "    <tr>\n",
              "      <th>Tenure</th>\n",
              "      <td>10000.0</td>\n",
              "      <td>5.012800e+00</td>\n",
              "      <td>2.892174</td>\n",
              "      <td>0.00</td>\n",
              "      <td>3.00</td>\n",
              "      <td>5.000000e+00</td>\n",
              "      <td>7.000000e+00</td>\n",
              "      <td>10.00</td>\n",
              "    </tr>\n",
              "    <tr>\n",
              "      <th>Balance</th>\n",
              "      <td>10000.0</td>\n",
              "      <td>7.648589e+04</td>\n",
              "      <td>62397.405202</td>\n",
              "      <td>0.00</td>\n",
              "      <td>0.00</td>\n",
              "      <td>9.719854e+04</td>\n",
              "      <td>1.276442e+05</td>\n",
              "      <td>250898.09</td>\n",
              "    </tr>\n",
              "    <tr>\n",
              "      <th>NumOfProducts</th>\n",
              "      <td>10000.0</td>\n",
              "      <td>1.530200e+00</td>\n",
              "      <td>0.581654</td>\n",
              "      <td>1.00</td>\n",
              "      <td>1.00</td>\n",
              "      <td>1.000000e+00</td>\n",
              "      <td>2.000000e+00</td>\n",
              "      <td>4.00</td>\n",
              "    </tr>\n",
              "    <tr>\n",
              "      <th>HasCrCard</th>\n",
              "      <td>10000.0</td>\n",
              "      <td>7.055000e-01</td>\n",
              "      <td>0.455840</td>\n",
              "      <td>0.00</td>\n",
              "      <td>0.00</td>\n",
              "      <td>1.000000e+00</td>\n",
              "      <td>1.000000e+00</td>\n",
              "      <td>1.00</td>\n",
              "    </tr>\n",
              "    <tr>\n",
              "      <th>IsActiveMember</th>\n",
              "      <td>10000.0</td>\n",
              "      <td>5.151000e-01</td>\n",
              "      <td>0.499797</td>\n",
              "      <td>0.00</td>\n",
              "      <td>0.00</td>\n",
              "      <td>1.000000e+00</td>\n",
              "      <td>1.000000e+00</td>\n",
              "      <td>1.00</td>\n",
              "    </tr>\n",
              "    <tr>\n",
              "      <th>EstimatedSalary</th>\n",
              "      <td>10000.0</td>\n",
              "      <td>1.000902e+05</td>\n",
              "      <td>57510.492818</td>\n",
              "      <td>11.58</td>\n",
              "      <td>51002.11</td>\n",
              "      <td>1.001939e+05</td>\n",
              "      <td>1.493882e+05</td>\n",
              "      <td>199992.48</td>\n",
              "    </tr>\n",
              "    <tr>\n",
              "      <th>Exited</th>\n",
              "      <td>10000.0</td>\n",
              "      <td>2.037000e-01</td>\n",
              "      <td>0.402769</td>\n",
              "      <td>0.00</td>\n",
              "      <td>0.00</td>\n",
              "      <td>0.000000e+00</td>\n",
              "      <td>0.000000e+00</td>\n",
              "      <td>1.00</td>\n",
              "    </tr>\n",
              "  </tbody>\n",
              "</table>\n",
              "</div>\n",
              "      <button class=\"colab-df-convert\" onclick=\"convertToInteractive('df-dbc6bf3c-1199-49d1-ae68-3fe90ce6affb')\"\n",
              "              title=\"Convert this dataframe to an interactive table.\"\n",
              "              style=\"display:none;\">\n",
              "        \n",
              "  <svg xmlns=\"http://www.w3.org/2000/svg\" height=\"24px\"viewBox=\"0 0 24 24\"\n",
              "       width=\"24px\">\n",
              "    <path d=\"M0 0h24v24H0V0z\" fill=\"none\"/>\n",
              "    <path d=\"M18.56 5.44l.94 2.06.94-2.06 2.06-.94-2.06-.94-.94-2.06-.94 2.06-2.06.94zm-11 1L8.5 8.5l.94-2.06 2.06-.94-2.06-.94L8.5 2.5l-.94 2.06-2.06.94zm10 10l.94 2.06.94-2.06 2.06-.94-2.06-.94-.94-2.06-.94 2.06-2.06.94z\"/><path d=\"M17.41 7.96l-1.37-1.37c-.4-.4-.92-.59-1.43-.59-.52 0-1.04.2-1.43.59L10.3 9.45l-7.72 7.72c-.78.78-.78 2.05 0 2.83L4 21.41c.39.39.9.59 1.41.59.51 0 1.02-.2 1.41-.59l7.78-7.78 2.81-2.81c.8-.78.8-2.07 0-2.86zM5.41 20L4 18.59l7.72-7.72 1.47 1.35L5.41 20z\"/>\n",
              "  </svg>\n",
              "      </button>\n",
              "      \n",
              "  <style>\n",
              "    .colab-df-container {\n",
              "      display:flex;\n",
              "      flex-wrap:wrap;\n",
              "      gap: 12px;\n",
              "    }\n",
              "\n",
              "    .colab-df-convert {\n",
              "      background-color: #E8F0FE;\n",
              "      border: none;\n",
              "      border-radius: 50%;\n",
              "      cursor: pointer;\n",
              "      display: none;\n",
              "      fill: #1967D2;\n",
              "      height: 32px;\n",
              "      padding: 0 0 0 0;\n",
              "      width: 32px;\n",
              "    }\n",
              "\n",
              "    .colab-df-convert:hover {\n",
              "      background-color: #E2EBFA;\n",
              "      box-shadow: 0px 1px 2px rgba(60, 64, 67, 0.3), 0px 1px 3px 1px rgba(60, 64, 67, 0.15);\n",
              "      fill: #174EA6;\n",
              "    }\n",
              "\n",
              "    [theme=dark] .colab-df-convert {\n",
              "      background-color: #3B4455;\n",
              "      fill: #D2E3FC;\n",
              "    }\n",
              "\n",
              "    [theme=dark] .colab-df-convert:hover {\n",
              "      background-color: #434B5C;\n",
              "      box-shadow: 0px 1px 3px 1px rgba(0, 0, 0, 0.15);\n",
              "      filter: drop-shadow(0px 1px 2px rgba(0, 0, 0, 0.3));\n",
              "      fill: #FFFFFF;\n",
              "    }\n",
              "  </style>\n",
              "\n",
              "      <script>\n",
              "        const buttonEl =\n",
              "          document.querySelector('#df-dbc6bf3c-1199-49d1-ae68-3fe90ce6affb button.colab-df-convert');\n",
              "        buttonEl.style.display =\n",
              "          google.colab.kernel.accessAllowed ? 'block' : 'none';\n",
              "\n",
              "        async function convertToInteractive(key) {\n",
              "          const element = document.querySelector('#df-dbc6bf3c-1199-49d1-ae68-3fe90ce6affb');\n",
              "          const dataTable =\n",
              "            await google.colab.kernel.invokeFunction('convertToInteractive',\n",
              "                                                     [key], {});\n",
              "          if (!dataTable) return;\n",
              "\n",
              "          const docLinkHtml = 'Like what you see? Visit the ' +\n",
              "            '<a target=\"_blank\" href=https://colab.research.google.com/notebooks/data_table.ipynb>data table notebook</a>'\n",
              "            + ' to learn more about interactive tables.';\n",
              "          element.innerHTML = '';\n",
              "          dataTable['output_type'] = 'display_data';\n",
              "          await google.colab.output.renderOutput(dataTable, element);\n",
              "          const docLink = document.createElement('div');\n",
              "          docLink.innerHTML = docLinkHtml;\n",
              "          element.appendChild(docLink);\n",
              "        }\n",
              "      </script>\n",
              "    </div>\n",
              "  </div>\n",
              "  "
            ]
          },
          "metadata": {},
          "execution_count": 17
        }
      ]
    },
    {
      "cell_type": "markdown",
      "source": [
        "Dari output diatas, dapat dilihat jumlah dari data yang ada, nilai rata-rata, standar deviasi, nilai minimal,\n",
        "nilai q1 (kuartil bawah), median (q2), nilai q3 (kuartil atas), nilai maksimum dari tiap variable dalam dataset.\n",
        "\n",
        "- Terdapat 10000 baris pada setiap kolom.\n",
        "- Maksimum EstimatedSalary nya 199992.48, dan minimum EstimatedSalary nya 51002.11.\n",
        "- Customer paling muda adalah 18 tahun, dan paling tua 92 tahun.\n",
        "- Maksimum Balance dari tiap customer adalah 250898.09 dan miminum Balance nya 0.\n",
        "- Pada kolom exited -> 0 artinya customer tidak meninggalkan bank (not churn), 1 artinya meninggalkan bank (churn).\n"
      ],
      "metadata": {
        "id": "_8LtmPPDVlk_"
      }
    },
    {
      "cell_type": "code",
      "source": [
        "df.groupby('Exited').mean()"
      ],
      "metadata": {
        "id": "9iYy3fFL1YNl",
        "colab": {
          "base_uri": "https://localhost:8080/",
          "height": 143
        },
        "outputId": "b79f8318-9360-4943-dcc2-203e43a94b09"
      },
      "execution_count": null,
      "outputs": [
        {
          "output_type": "execute_result",
          "data": {
            "text/plain": [
              "          RowNumber    CustomerId  CreditScore        Age    Tenure  \\\n",
              "Exited                                                                \n",
              "0       5024.694964  1.569117e+07   651.853196  37.408389  5.033279   \n",
              "1       4905.917526  1.569005e+07   645.351497  44.837997  4.932744   \n",
              "\n",
              "             Balance  NumOfProducts  HasCrCard  IsActiveMember  \\\n",
              "Exited                                                           \n",
              "0       72745.296779       1.544267   0.707146        0.554565   \n",
              "1       91108.539337       1.475209   0.699067        0.360825   \n",
              "\n",
              "        EstimatedSalary  \n",
              "Exited                   \n",
              "0          99738.391772  \n",
              "1         101465.677531  "
            ],
            "text/html": [
              "\n",
              "  <div id=\"df-aafc7713-f1ab-4933-91f5-80b99d8055f9\">\n",
              "    <div class=\"colab-df-container\">\n",
              "      <div>\n",
              "<style scoped>\n",
              "    .dataframe tbody tr th:only-of-type {\n",
              "        vertical-align: middle;\n",
              "    }\n",
              "\n",
              "    .dataframe tbody tr th {\n",
              "        vertical-align: top;\n",
              "    }\n",
              "\n",
              "    .dataframe thead th {\n",
              "        text-align: right;\n",
              "    }\n",
              "</style>\n",
              "<table border=\"1\" class=\"dataframe\">\n",
              "  <thead>\n",
              "    <tr style=\"text-align: right;\">\n",
              "      <th></th>\n",
              "      <th>RowNumber</th>\n",
              "      <th>CustomerId</th>\n",
              "      <th>CreditScore</th>\n",
              "      <th>Age</th>\n",
              "      <th>Tenure</th>\n",
              "      <th>Balance</th>\n",
              "      <th>NumOfProducts</th>\n",
              "      <th>HasCrCard</th>\n",
              "      <th>IsActiveMember</th>\n",
              "      <th>EstimatedSalary</th>\n",
              "    </tr>\n",
              "    <tr>\n",
              "      <th>Exited</th>\n",
              "      <th></th>\n",
              "      <th></th>\n",
              "      <th></th>\n",
              "      <th></th>\n",
              "      <th></th>\n",
              "      <th></th>\n",
              "      <th></th>\n",
              "      <th></th>\n",
              "      <th></th>\n",
              "      <th></th>\n",
              "    </tr>\n",
              "  </thead>\n",
              "  <tbody>\n",
              "    <tr>\n",
              "      <th>0</th>\n",
              "      <td>5024.694964</td>\n",
              "      <td>1.569117e+07</td>\n",
              "      <td>651.853196</td>\n",
              "      <td>37.408389</td>\n",
              "      <td>5.033279</td>\n",
              "      <td>72745.296779</td>\n",
              "      <td>1.544267</td>\n",
              "      <td>0.707146</td>\n",
              "      <td>0.554565</td>\n",
              "      <td>99738.391772</td>\n",
              "    </tr>\n",
              "    <tr>\n",
              "      <th>1</th>\n",
              "      <td>4905.917526</td>\n",
              "      <td>1.569005e+07</td>\n",
              "      <td>645.351497</td>\n",
              "      <td>44.837997</td>\n",
              "      <td>4.932744</td>\n",
              "      <td>91108.539337</td>\n",
              "      <td>1.475209</td>\n",
              "      <td>0.699067</td>\n",
              "      <td>0.360825</td>\n",
              "      <td>101465.677531</td>\n",
              "    </tr>\n",
              "  </tbody>\n",
              "</table>\n",
              "</div>\n",
              "      <button class=\"colab-df-convert\" onclick=\"convertToInteractive('df-aafc7713-f1ab-4933-91f5-80b99d8055f9')\"\n",
              "              title=\"Convert this dataframe to an interactive table.\"\n",
              "              style=\"display:none;\">\n",
              "        \n",
              "  <svg xmlns=\"http://www.w3.org/2000/svg\" height=\"24px\"viewBox=\"0 0 24 24\"\n",
              "       width=\"24px\">\n",
              "    <path d=\"M0 0h24v24H0V0z\" fill=\"none\"/>\n",
              "    <path d=\"M18.56 5.44l.94 2.06.94-2.06 2.06-.94-2.06-.94-.94-2.06-.94 2.06-2.06.94zm-11 1L8.5 8.5l.94-2.06 2.06-.94-2.06-.94L8.5 2.5l-.94 2.06-2.06.94zm10 10l.94 2.06.94-2.06 2.06-.94-2.06-.94-.94-2.06-.94 2.06-2.06.94z\"/><path d=\"M17.41 7.96l-1.37-1.37c-.4-.4-.92-.59-1.43-.59-.52 0-1.04.2-1.43.59L10.3 9.45l-7.72 7.72c-.78.78-.78 2.05 0 2.83L4 21.41c.39.39.9.59 1.41.59.51 0 1.02-.2 1.41-.59l7.78-7.78 2.81-2.81c.8-.78.8-2.07 0-2.86zM5.41 20L4 18.59l7.72-7.72 1.47 1.35L5.41 20z\"/>\n",
              "  </svg>\n",
              "      </button>\n",
              "      \n",
              "  <style>\n",
              "    .colab-df-container {\n",
              "      display:flex;\n",
              "      flex-wrap:wrap;\n",
              "      gap: 12px;\n",
              "    }\n",
              "\n",
              "    .colab-df-convert {\n",
              "      background-color: #E8F0FE;\n",
              "      border: none;\n",
              "      border-radius: 50%;\n",
              "      cursor: pointer;\n",
              "      display: none;\n",
              "      fill: #1967D2;\n",
              "      height: 32px;\n",
              "      padding: 0 0 0 0;\n",
              "      width: 32px;\n",
              "    }\n",
              "\n",
              "    .colab-df-convert:hover {\n",
              "      background-color: #E2EBFA;\n",
              "      box-shadow: 0px 1px 2px rgba(60, 64, 67, 0.3), 0px 1px 3px 1px rgba(60, 64, 67, 0.15);\n",
              "      fill: #174EA6;\n",
              "    }\n",
              "\n",
              "    [theme=dark] .colab-df-convert {\n",
              "      background-color: #3B4455;\n",
              "      fill: #D2E3FC;\n",
              "    }\n",
              "\n",
              "    [theme=dark] .colab-df-convert:hover {\n",
              "      background-color: #434B5C;\n",
              "      box-shadow: 0px 1px 3px 1px rgba(0, 0, 0, 0.15);\n",
              "      filter: drop-shadow(0px 1px 2px rgba(0, 0, 0, 0.3));\n",
              "      fill: #FFFFFF;\n",
              "    }\n",
              "  </style>\n",
              "\n",
              "      <script>\n",
              "        const buttonEl =\n",
              "          document.querySelector('#df-aafc7713-f1ab-4933-91f5-80b99d8055f9 button.colab-df-convert');\n",
              "        buttonEl.style.display =\n",
              "          google.colab.kernel.accessAllowed ? 'block' : 'none';\n",
              "\n",
              "        async function convertToInteractive(key) {\n",
              "          const element = document.querySelector('#df-aafc7713-f1ab-4933-91f5-80b99d8055f9');\n",
              "          const dataTable =\n",
              "            await google.colab.kernel.invokeFunction('convertToInteractive',\n",
              "                                                     [key], {});\n",
              "          if (!dataTable) return;\n",
              "\n",
              "          const docLinkHtml = 'Like what you see? Visit the ' +\n",
              "            '<a target=\"_blank\" href=https://colab.research.google.com/notebooks/data_table.ipynb>data table notebook</a>'\n",
              "            + ' to learn more about interactive tables.';\n",
              "          element.innerHTML = '';\n",
              "          dataTable['output_type'] = 'display_data';\n",
              "          await google.colab.output.renderOutput(dataTable, element);\n",
              "          const docLink = document.createElement('div');\n",
              "          docLink.innerHTML = docLinkHtml;\n",
              "          element.appendChild(docLink);\n",
              "        }\n",
              "      </script>\n",
              "    </div>\n",
              "  </div>\n",
              "  "
            ]
          },
          "metadata": {},
          "execution_count": 18
        }
      ]
    },
    {
      "cell_type": "markdown",
      "source": [
        "- Notes : 0 artinya not churn customer, dan 1 artinya churn customer.\n",
        "- Rata-rata not churn customer berusia 37 tahun, dan churn customer berusia 44 tahun.\n",
        "- Rata rata not churn customer credit score nya 652 sedangkan churn customer credit score nya 645.\n",
        "- Rata-rata not churn customer, dan churn customer menjadi client bank selama 5 tahun.\n",
        "- Rata-rata balance not churn customer 72745 dan balance churn customer 91108"
      ],
      "metadata": {
        "id": "h5NFzs-8WZR-"
      }
    },
    {
      "cell_type": "code",
      "source": [
        "continuous = ['Age', 'CreditScore', 'Balance', 'EstimatedSalary']\n",
        "categorical = ['Geography', 'Gender', 'Tenure', 'NumOfProducts', 'HasCrCard', 'IsActiveMember']\n",
        "\n",
        "print('Continuous: ', ', '.join(continuous))\n",
        "print('Categorical: ', ', '.join(categorical))"
      ],
      "metadata": {
        "id": "6U31lvrnO0dJ",
        "colab": {
          "base_uri": "https://localhost:8080/"
        },
        "outputId": "60d0a1ed-c494-41bc-ed33-668c918a6979"
      },
      "execution_count": null,
      "outputs": [
        {
          "output_type": "stream",
          "name": "stdout",
          "text": [
            "Continuous:  Age, CreditScore, Balance, EstimatedSalary\n",
            "Categorical:  Geography, Gender, Tenure, NumOfProducts, HasCrCard, IsActiveMember\n"
          ]
        }
      ]
    },
    {
      "cell_type": "markdown",
      "source": [
        "Di atas merupakan continous, dan categorical variable.\n"
      ],
      "metadata": {
        "id": "UcalSEi4byOy"
      }
    },
    {
      "cell_type": "markdown",
      "source": [
        "## Exited"
      ],
      "metadata": {
        "id": "qauNHZPx1kSt"
      }
    },
    {
      "cell_type": "code",
      "source": [
        "Not_Churn = df[\"Exited\"].value_counts()[0]\n",
        "Churn = df[\"Exited\"].value_counts()[1]\n",
        "\n",
        "print(\"Not Churn Customer:\", Not_Churn)\n",
        "print(\"Churn Customer:\", Churn)"
      ],
      "metadata": {
        "id": "JfMaSfP-1n20",
        "colab": {
          "base_uri": "https://localhost:8080/"
        },
        "outputId": "f5f2e54d-061d-4d5f-f878-0049917a220c"
      },
      "execution_count": null,
      "outputs": [
        {
          "output_type": "stream",
          "name": "stdout",
          "text": [
            "Not Churn Customer: 7963\n",
            "Churn Customer: 2037\n"
          ]
        }
      ]
    },
    {
      "cell_type": "markdown",
      "source": [
        "- Terdapat 7963 not churn customer, dan 2037 churn customer"
      ],
      "metadata": {
        "id": "vlipyT_BeVkB"
      }
    },
    {
      "cell_type": "code",
      "source": [
        "data = [7963,2037]\n",
        "labels = ['Not Churn = 7963 Customer', 'Churn = 2037 Customer']\n",
        "\n",
        "colors = sns.color_palette('rainbow')[0:5]\n",
        "plt.title(\"Comparison between churn with non-churn customers\")\n",
        "plt.pie(data, labels = labels, colors = colors, autopct='%.0f%%')\n",
        "plt.show()"
      ],
      "metadata": {
        "id": "Oxd570OV2tcZ",
        "colab": {
          "base_uri": "https://localhost:8080/",
          "height": 264
        },
        "outputId": "c5b795eb-79e0-4a58-f44b-d8abb41597f1"
      },
      "execution_count": null,
      "outputs": [
        {
          "output_type": "display_data",
          "data": {
            "text/plain": [
              "<Figure size 432x288 with 1 Axes>"
            ],
            "image/png": "[encoded data removed]"
          },
          "metadata": {}
        }
      ]
    },
    {
      "cell_type": "markdown",
      "source": [
        "Dari 100 persen customer, customer yang churn adalah 20%, dan customer not churn adalah 80%."
      ],
      "metadata": {
        "id": "JNleDqb8fHid"
      }
    },
    {
      "cell_type": "markdown",
      "source": [
        "## Continuous Variable : Age, Balance, CreditScore, EstimatedSalary"
      ],
      "metadata": {
        "id": "O_KKfOUMQhQ_"
      }
    },
    {
      "cell_type": "markdown",
      "source": [
        "### Age"
      ],
      "metadata": {
        "id": "LNQgQgIPAeug"
      }
    },
    {
      "cell_type": "code",
      "source": [
        "kelompok_umur = ['10-19', '20-29', '30-39', '40-49', '50-59', '60-69', '70-79', '80-89', '90-100']\n",
        "df['Age_group'] = pd.cut(df.Age, range(0, 93, 10), right = False, labels = kelompok_umur)\n",
        "\n",
        "sns.countplot(x ='Age_group',data = df, palette='cubehelix', edgecolor='k')"
      ],
      "metadata": {
        "id": "UDN_cDcl_uoJ",
        "colab": {
          "base_uri": "https://localhost:8080/",
          "height": 297
        },
        "outputId": "8d6e89a9-8fea-4186-b6bd-4c052cb8dc19"
      },
      "execution_count": null,
      "outputs": [
        {
          "output_type": "execute_result",
          "data": {
            "text/plain": [
              "<matplotlib.axes._subplots.AxesSubplot at 0x7f9ab4eac460>"
            ]
          },
          "metadata": {},
          "execution_count": 22
        },
        {
          "output_type": "display_data",
          "data": {
            "text/plain": [
              "<Figure size 432x288 with 1 Axes>"
            ],
            "image/png": "[encoded data removed]"
          },
          "metadata": {
            "needs_background": "light"
          }
        }
      ]
    },
    {
      "cell_type": "markdown",
      "source": [
        "- Customer paling banyak berada di usia 40-49 dimana terdapat sekitar 4000 lebih customer.\n",
        "- Lalu yang kedua paling banyak berada di usia 50-59 tahun dimana terdapat sekitar lebih dari 2500 customer.\n",
        "- Paling sedikit customer berada di usia 90 -100 tahun, dan 20-29 tahun."
      ],
      "metadata": {
        "id": "KteS1iqJhLmL"
      }
    },
    {
      "cell_type": "code",
      "source": [
        "sns.countplot(x='Age_group', data = df, palette=\"rainbow\", hue='Exited')"
      ],
      "metadata": {
        "id": "scg-NUGTAipV",
        "colab": {
          "base_uri": "https://localhost:8080/",
          "height": 298
        },
        "outputId": "da1b0849-5201-4948-ecaf-7c5c9b5a2823"
      },
      "execution_count": null,
      "outputs": [
        {
          "output_type": "execute_result",
          "data": {
            "text/plain": [
              "<matplotlib.axes._subplots.AxesSubplot at 0x7f9ab4e16ee0>"
            ]
          },
          "metadata": {},
          "execution_count": 23
        },
        {
          "output_type": "display_data",
          "data": {
            "text/plain": [
              "<Figure size 432x288 with 1 Axes>"
            ],
            "image/png": "[encoded data removed]"
          },
          "metadata": {
            "needs_background": "light"
          }
        }
      ]
    },
    {
      "cell_type": "markdown",
      "source": [
        "- Not churn customer paling banyak di usia 40-49 tahun, dan churn customer paling banyak di usia 50-59 tahun.\n",
        "- Pada usia 60-69 tahun churn customer lebih banyak dari pada not churn customer."
      ],
      "metadata": {
        "id": "BEzzV9mSiYtf"
      }
    },
    {
      "cell_type": "markdown",
      "source": [
        "### CreditScore"
      ],
      "metadata": {
        "id": "rTKJb7-QQyRB"
      }
    },
    {
      "cell_type": "code",
      "source": [
        "credit_score_x = ['350-450', '450-550', '550-650', '650-750', '750-850']\n",
        "df['CreditScore_group'] = pd.cut(df.CreditScore, range(350, 851, 100), right = False, labels = credit_score_x)\n",
        "fig, ax = plt.subplots(figsize=(7, 5))\n",
        "sns.countplot(x ='CreditScore_group',data = df, palette='cubehelix', edgecolor='k',ax=ax)\n"
      ],
      "metadata": {
        "id": "l3K2PCmoZvS3",
        "colab": {
          "base_uri": "https://localhost:8080/",
          "height": 352
        },
        "outputId": "a0483893-3ad7-402d-ba6a-4af1fa20a7de"
      },
      "execution_count": null,
      "outputs": [
        {
          "output_type": "execute_result",
          "data": {
            "text/plain": [
              "<matplotlib.axes._subplots.AxesSubplot at 0x7f9ab4da8040>"
            ]
          },
          "metadata": {},
          "execution_count": 24
        },
        {
          "output_type": "display_data",
          "data": {
            "text/plain": [
              "<Figure size 504x360 with 1 Axes>"
            ],
            "image/png": "[encoded data removed]"
          },
          "metadata": {
            "needs_background": "light"
          }
        }
      ]
    },
    {
      "cell_type": "markdown",
      "source": [
        "- Angka credit score tertinggi adalah 850, dan customer yang mempunyai 750-850 credit score adalah sekitar 1400 customer.\n",
        "- Customer yang mempunyai 350-450 credit score ada sekitar 150 customer (paling sedikit).\n",
        "-  Customer yang mempunyai 650-750 credit score ada sekitar 3400 customer (paling banyak)."
      ],
      "metadata": {
        "id": "eZnkzTbojPp1"
      }
    },
    {
      "cell_type": "code",
      "source": [
        "fig, ax = plt.subplots(figsize=(7, 5))\n",
        "sns.countplot(x='CreditScore_group', data = df, palette=\"rainbow\", hue='Exited', ax=ax)"
      ],
      "metadata": {
        "id": "Yl9ClL5SEDF2",
        "colab": {
          "base_uri": "https://localhost:8080/",
          "height": 352
        },
        "outputId": "27ec0ae2-86b4-403a-d7e1-7c9c6db98a54"
      },
      "execution_count": null,
      "outputs": [
        {
          "output_type": "execute_result",
          "data": {
            "text/plain": [
              "<matplotlib.axes._subplots.AxesSubplot at 0x7f9ab4d04640>"
            ]
          },
          "metadata": {},
          "execution_count": 25
        },
        {
          "output_type": "display_data",
          "data": {
            "text/plain": [
              "<Figure size 504x360 with 1 Axes>"
            ],
            "image/png": "[encoded data removed]"
          },
          "metadata": {
            "needs_background": "light"
          }
        }
      ]
    },
    {
      "cell_type": "markdown",
      "source": [
        "- Churn customer paling tinggi terdapat pada customer yang mempunyai credit score 550-650 tetapi not churn customernya juga kedua tertinggi dimana ada sekitar 2500 lebih yang mempunyai credit score 550-650.\n",
        "- Not churn customer paling tinggi terdapat pada customer yang mempunyai credit score 650-750 dimana terdapat 2650 customer lebih."
      ],
      "metadata": {
        "id": "rKk_-CZ6kbTM"
      }
    },
    {
      "cell_type": "markdown",
      "source": [
        "### Balance"
      ],
      "metadata": {
        "id": "_Ys0QAnpY6s0"
      }
    },
    {
      "cell_type": "code",
      "source": [
        "balance_x = ['0-50000', '50000-100000', '100000-150000', '150000-200000', '200000-250000']\n",
        "df['Balance_group'] = pd.cut(df.Balance, range(0, 250001, 50000), right = False, labels = balance_x)\n",
        "\n",
        "fig, ax = plt.subplots(figsize=(7, 5))\n",
        "sns.countplot(x ='Balance_group',data = df, palette='flare', edgecolor='k',ax=ax)\n"
      ],
      "metadata": {
        "id": "v-cO9qXnhb1j",
        "colab": {
          "base_uri": "https://localhost:8080/",
          "height": 354
        },
        "outputId": "aafc7db4-8b01-45a8-ad02-41aaffab1b01"
      },
      "execution_count": null,
      "outputs": [
        {
          "output_type": "execute_result",
          "data": {
            "text/plain": [
              "<matplotlib.axes._subplots.AxesSubplot at 0x7f9ab4c80d00>"
            ]
          },
          "metadata": {},
          "execution_count": 26
        },
        {
          "output_type": "display_data",
          "data": {
            "text/plain": [
              "<Figure size 504x360 with 1 Axes>"
            ],
            "image/png": "[encoded data removed]"
          },
          "metadata": {
            "needs_background": "light"
          }
        }
      ]
    },
    {
      "cell_type": "markdown",
      "source": [
        "- Terdapat sekitar 3750 customer yang mempunyai 100000-150000 balance (paling tinggi).\n",
        "- Terdapat sekitar 10 customer yang mempunyai 200000-250000 balance (paling rendah)."
      ],
      "metadata": {
        "id": "mcXIueoklqib"
      }
    },
    {
      "cell_type": "code",
      "source": [
        "fig, ax = plt.subplots(figsize=(7, 5))\n",
        "sns.countplot(x='Balance_group', data = df, palette=\"magma\", hue='Exited', ax=ax)\n"
      ],
      "metadata": {
        "id": "y9yIdT2GEUOq",
        "colab": {
          "base_uri": "https://localhost:8080/",
          "height": 352
        },
        "outputId": "6c20a078-c58d-4415-e8bc-cf1be65553a8"
      },
      "execution_count": null,
      "outputs": [
        {
          "output_type": "execute_result",
          "data": {
            "text/plain": [
              "<matplotlib.axes._subplots.AxesSubplot at 0x7f9ab8951730>"
            ]
          },
          "metadata": {},
          "execution_count": 27
        },
        {
          "output_type": "display_data",
          "data": {
            "text/plain": [
              "<Figure size 504x360 with 1 Axes>"
            ],
            "image/png": "[encoded data removed]"
          },
          "metadata": {
            "needs_background": "light"
          }
        }
      ]
    },
    {
      "cell_type": "markdown",
      "source": [
        "**Not Churn Customer**\n",
        "- Terdapat 3000 lebih customer not churn yang mempunyai balance 50000 (paling banyak).\n",
        "- Terdapat sekitar 10 customer not churn yang mempunyai balance 200000-250000 (paling sedikit).\n",
        "\n",
        "**Churn Customer**\n",
        "- Terdapat 900 lebih customer churn yang mempunyai balance 100000-150000 (paling banyak).\n",
        "- Terdapat sekitar 10 customer churn yang mempunyai balance 200000-250000 (paling sedikit).\n"
      ],
      "metadata": {
        "id": "d4KkbfZvmiws"
      }
    },
    {
      "cell_type": "markdown",
      "source": [
        "### Estimated Salary"
      ],
      "metadata": {
        "id": "WMe27gx4Y9tE"
      }
    },
    {
      "cell_type": "code",
      "source": [
        "EstimatedSalary_x = ['0-25000', '25000-50000', '50000-75000', '75000-100000', '100000-125000', '125000-150000', '150000-175000', '175000-200000']\n",
        "df['EstimatedSalary_group'] = pd.cut(df.EstimatedSalary, range(0, 200001, 25000), right = False, labels = EstimatedSalary_x)\n"
      ],
      "metadata": {
        "id": "hc37YbknhiVH"
      },
      "execution_count": null,
      "outputs": []
    },
    {
      "cell_type": "code",
      "source": [
        "fig, ax = plt.subplots(figsize=(15, 7))\n",
        "sns.countplot(x='EstimatedSalary_group', data = df, palette= \"Set3\", hue='Exited', ax=ax)\n"
      ],
      "metadata": {
        "id": "iKRx_KAYEeas",
        "colab": {
          "base_uri": "https://localhost:8080/",
          "height": 460
        },
        "outputId": "ba6b0bcb-8b40-4559-ca06-6030696d8fd1"
      },
      "execution_count": null,
      "outputs": [
        {
          "output_type": "execute_result",
          "data": {
            "text/plain": [
              "<matplotlib.axes._subplots.AxesSubplot at 0x7f9ab8951ca0>"
            ]
          },
          "metadata": {},
          "execution_count": 29
        },
        {
          "output_type": "display_data",
          "data": {
            "text/plain": [
              "<Figure size 1080x504 with 1 Axes>"
            ],
            "image/png": "[encoded data removed]"
          },
          "metadata": {
            "needs_background": "light"
          }
        }
      ]
    },
    {
      "cell_type": "markdown",
      "source": [
        "\n",
        "**Not Churn Customer**\n",
        "- Banyak nya customer dengan estimated salary tertentu hampir sama. Tetapi yang terbanyak adalah 75000 - 100000."
      ],
      "metadata": {
        "id": "DL096r0vzkMJ"
      }
    },
    {
      "cell_type": "markdown",
      "source": [
        "## Categorical Varaible : Geography, Gender, Tenure, NumOfProducts, HasCrCard, IsActiveMember"
      ],
      "metadata": {
        "id": "z3rNaHWeZF-D"
      }
    },
    {
      "cell_type": "code",
      "source": [
        "from lightgbm.plotting import plot_tree\n",
        "df_cat = df[categorical]\n",
        "\n",
        "fig, ax = plt.subplots(figsize=(11, 7))\n",
        "\n",
        "for index, column in enumerate(df_cat.columns):\n",
        "    plt.subplot(3, 2, index + 1)\n",
        "    sns.countplot(x=column, data=df).set(title=column)\n",
        "\n",
        "    plt.ylabel('Count')\n",
        "    plt.xlabel(\" \")\n",
        "\n",
        "    if (column == 'HasCrCard' or column == 'IsActiveMember'):\n",
        "        plt.xticks([0, 1], ['False', 'True'])\n",
        "\n",
        "plt.tight_layout();"
      ],
      "metadata": {
        "id": "-EqH4jEAZMZV",
        "colab": {
          "base_uri": "https://localhost:8080/",
          "height": 513
        },
        "outputId": "bc5bf9b7-b156-4e8e-8d93-613e261a0e00"
      },
      "execution_count": null,
      "outputs": [
        {
          "output_type": "display_data",
          "data": {
            "text/plain": [
              "<Figure size 792x504 with 6 Axes>"
            ],
            "image/png": "[encoded data removed]"
          },
          "metadata": {
            "needs_background": "light"
          }
        }
      ]
    },
    {
      "cell_type": "markdown",
      "source": [
        "- Customer terbanyak berasal dari France, dan paling sedikit berasal dari Germany.\n",
        "- Lebih banyak customer bergender \"Male\" dari pada \"Female\".\n",
        "- Produk yang dibeli customer paling banyak adalah 1, dan paling sedikit adalah 4.\n",
        "- Customer kebanyakan mempunyai credit card.\n",
        "- Jumlah customer yang bukan active member, dan active member hampir mirip."
      ],
      "metadata": {
        "id": "jvHWjNlx01fX"
      }
    },
    {
      "cell_type": "markdown",
      "source": [
        "### Geography"
      ],
      "metadata": {
        "id": "mT9XeJQchshh"
      }
    },
    {
      "cell_type": "code",
      "source": [
        "df[[\"Geography\", \"Exited\"]].groupby(['Geography']).mean().sort_values(by=\"Exited\", ascending=True)"
      ],
      "metadata": {
        "id": "lGNmcyaNhvMz",
        "colab": {
          "base_uri": "https://localhost:8080/",
          "height": 175
        },
        "outputId": "f05d1c7c-5919-4ea6-ad5a-b6d967558b89"
      },
      "execution_count": null,
      "outputs": [
        {
          "output_type": "execute_result",
          "data": {
            "text/plain": [
              "             Exited\n",
              "Geography          \n",
              "France     0.161548\n",
              "Spain      0.166734\n",
              "Germany    0.324432"
            ],
            "text/html": [
              "\n",
              "  <div id=\"df-8d3d77c4-719d-4751-b09d-9b90e871d96f\">\n",
              "    <div class=\"colab-df-container\">\n",
              "      <div>\n",
              "<style scoped>\n",
              "    .dataframe tbody tr th:only-of-type {\n",
              "        vertical-align: middle;\n",
              "    }\n",
              "\n",
              "    .dataframe tbody tr th {\n",
              "        vertical-align: top;\n",
              "    }\n",
              "\n",
              "    .dataframe thead th {\n",
              "        text-align: right;\n",
              "    }\n",
              "</style>\n",
              "<table border=\"1\" class=\"dataframe\">\n",
              "  <thead>\n",
              "    <tr style=\"text-align: right;\">\n",
              "      <th></th>\n",
              "      <th>Exited</th>\n",
              "    </tr>\n",
              "    <tr>\n",
              "      <th>Geography</th>\n",
              "      <th></th>\n",
              "    </tr>\n",
              "  </thead>\n",
              "  <tbody>\n",
              "    <tr>\n",
              "      <th>France</th>\n",
              "      <td>0.161548</td>\n",
              "    </tr>\n",
              "    <tr>\n",
              "      <th>Spain</th>\n",
              "      <td>0.166734</td>\n",
              "    </tr>\n",
              "    <tr>\n",
              "      <th>Germany</th>\n",
              "      <td>0.324432</td>\n",
              "    </tr>\n",
              "  </tbody>\n",
              "</table>\n",
              "</div>\n",
              "      <button class=\"colab-df-convert\" onclick=\"convertToInteractive('df-8d3d77c4-719d-4751-b09d-9b90e871d96f')\"\n",
              "              title=\"Convert this dataframe to an interactive table.\"\n",
              "              style=\"display:none;\">\n",
              "        \n",
              "  <svg xmlns=\"http://www.w3.org/2000/svg\" height=\"24px\"viewBox=\"0 0 24 24\"\n",
              "       width=\"24px\">\n",
              "    <path d=\"M0 0h24v24H0V0z\" fill=\"none\"/>\n",
              "    <path d=\"M18.56 5.44l.94 2.06.94-2.06 2.06-.94-2.06-.94-.94-2.06-.94 2.06-2.06.94zm-11 1L8.5 8.5l.94-2.06 2.06-.94-2.06-.94L8.5 2.5l-.94 2.06-2.06.94zm10 10l.94 2.06.94-2.06 2.06-.94-2.06-.94-.94-2.06-.94 2.06-2.06.94z\"/><path d=\"M17.41 7.96l-1.37-1.37c-.4-.4-.92-.59-1.43-.59-.52 0-1.04.2-1.43.59L10.3 9.45l-7.72 7.72c-.78.78-.78 2.05 0 2.83L4 21.41c.39.39.9.59 1.41.59.51 0 1.02-.2 1.41-.59l7.78-7.78 2.81-2.81c.8-.78.8-2.07 0-2.86zM5.41 20L4 18.59l7.72-7.72 1.47 1.35L5.41 20z\"/>\n",
              "  </svg>\n",
              "      </button>\n",
              "      \n",
              "  <style>\n",
              "    .colab-df-container {\n",
              "      display:flex;\n",
              "      flex-wrap:wrap;\n",
              "      gap: 12px;\n",
              "    }\n",
              "\n",
              "    .colab-df-convert {\n",
              "      background-color: #E8F0FE;\n",
              "      border: none;\n",
              "      border-radius: 50%;\n",
              "      cursor: pointer;\n",
              "      display: none;\n",
              "      fill: #1967D2;\n",
              "      height: 32px;\n",
              "      padding: 0 0 0 0;\n",
              "      width: 32px;\n",
              "    }\n",
              "\n",
              "    .colab-df-convert:hover {\n",
              "      background-color: #E2EBFA;\n",
              "      box-shadow: 0px 1px 2px rgba(60, 64, 67, 0.3), 0px 1px 3px 1px rgba(60, 64, 67, 0.15);\n",
              "      fill: #174EA6;\n",
              "    }\n",
              "\n",
              "    [theme=dark] .colab-df-convert {\n",
              "      background-color: #3B4455;\n",
              "      fill: #D2E3FC;\n",
              "    }\n",
              "\n",
              "    [theme=dark] .colab-df-convert:hover {\n",
              "      background-color: #434B5C;\n",
              "      box-shadow: 0px 1px 3px 1px rgba(0, 0, 0, 0.15);\n",
              "      filter: drop-shadow(0px 1px 2px rgba(0, 0, 0, 0.3));\n",
              "      fill: #FFFFFF;\n",
              "    }\n",
              "  </style>\n",
              "\n",
              "      <script>\n",
              "        const buttonEl =\n",
              "          document.querySelector('#df-8d3d77c4-719d-4751-b09d-9b90e871d96f button.colab-df-convert');\n",
              "        buttonEl.style.display =\n",
              "          google.colab.kernel.accessAllowed ? 'block' : 'none';\n",
              "\n",
              "        async function convertToInteractive(key) {\n",
              "          const element = document.querySelector('#df-8d3d77c4-719d-4751-b09d-9b90e871d96f');\n",
              "          const dataTable =\n",
              "            await google.colab.kernel.invokeFunction('convertToInteractive',\n",
              "                                                     [key], {});\n",
              "          if (!dataTable) return;\n",
              "\n",
              "          const docLinkHtml = 'Like what you see? Visit the ' +\n",
              "            '<a target=\"_blank\" href=https://colab.research.google.com/notebooks/data_table.ipynb>data table notebook</a>'\n",
              "            + ' to learn more about interactive tables.';\n",
              "          element.innerHTML = '';\n",
              "          dataTable['output_type'] = 'display_data';\n",
              "          await google.colab.output.renderOutput(dataTable, element);\n",
              "          const docLink = document.createElement('div');\n",
              "          docLink.innerHTML = docLinkHtml;\n",
              "          element.appendChild(docLink);\n",
              "        }\n",
              "      </script>\n",
              "    </div>\n",
              "  </div>\n",
              "  "
            ]
          },
          "metadata": {},
          "execution_count": 31
        }
      ]
    },
    {
      "cell_type": "markdown",
      "source": [
        "France memiliki rata-rata terendah yaitu 0.161548 dan Germany paling tinggi yaitu 0.324432.\n",
        "\n",
        "Berarti customer yang berasal dari Germany paling cepat keluar."
      ],
      "metadata": {
        "id": "xWrE_UK_4iaY"
      }
    },
    {
      "cell_type": "markdown",
      "source": [
        "### Tenure"
      ],
      "metadata": {
        "id": "aTbWofHqDjJG"
      }
    },
    {
      "cell_type": "code",
      "source": [
        "df[[\"Tenure\", \"Exited\"]].groupby(['Tenure']).mean().sort_values(by=\"Exited\", ascending=True)"
      ],
      "metadata": {
        "id": "yU0HSye_Ivn3",
        "colab": {
          "base_uri": "https://localhost:8080/",
          "height": 426
        },
        "outputId": "4dcf7ad2-6f79-4d71-c604-6741cc29bdb4"
      },
      "execution_count": null,
      "outputs": [
        {
          "output_type": "execute_result",
          "data": {
            "text/plain": [
              "          Exited\n",
              "Tenure          \n",
              "7       0.172179\n",
              "2       0.191794\n",
              "8       0.192195\n",
              "6       0.202689\n",
              "4       0.205258\n",
              "10      0.206122\n",
              "5       0.206522\n",
              "3       0.211100\n",
              "9       0.216463\n",
              "1       0.224155\n",
              "0       0.230024"
            ],
            "text/html": [
              "\n",
              "  <div id=\"df-113bc570-568b-40f5-a093-a11979ecd173\">\n",
              "    <div class=\"colab-df-container\">\n",
              "      <div>\n",
              "<style scoped>\n",
              "    .dataframe tbody tr th:only-of-type {\n",
              "        vertical-align: middle;\n",
              "    }\n",
              "\n",
              "    .dataframe tbody tr th {\n",
              "        vertical-align: top;\n",
              "    }\n",
              "\n",
              "    .dataframe thead th {\n",
              "        text-align: right;\n",
              "    }\n",
              "</style>\n",
              "<table border=\"1\" class=\"dataframe\">\n",
              "  <thead>\n",
              "    <tr style=\"text-align: right;\">\n",
              "      <th></th>\n",
              "      <th>Exited</th>\n",
              "    </tr>\n",
              "    <tr>\n",
              "      <th>Tenure</th>\n",
              "      <th></th>\n",
              "    </tr>\n",
              "  </thead>\n",
              "  <tbody>\n",
              "    <tr>\n",
              "      <th>7</th>\n",
              "      <td>0.172179</td>\n",
              "    </tr>\n",
              "    <tr>\n",
              "      <th>2</th>\n",
              "      <td>0.191794</td>\n",
              "    </tr>\n",
              "    <tr>\n",
              "      <th>8</th>\n",
              "      <td>0.192195</td>\n",
              "    </tr>\n",
              "    <tr>\n",
              "      <th>6</th>\n",
              "      <td>0.202689</td>\n",
              "    </tr>\n",
              "    <tr>\n",
              "      <th>4</th>\n",
              "      <td>0.205258</td>\n",
              "    </tr>\n",
              "    <tr>\n",
              "      <th>10</th>\n",
              "      <td>0.206122</td>\n",
              "    </tr>\n",
              "    <tr>\n",
              "      <th>5</th>\n",
              "      <td>0.206522</td>\n",
              "    </tr>\n",
              "    <tr>\n",
              "      <th>3</th>\n",
              "      <td>0.211100</td>\n",
              "    </tr>\n",
              "    <tr>\n",
              "      <th>9</th>\n",
              "      <td>0.216463</td>\n",
              "    </tr>\n",
              "    <tr>\n",
              "      <th>1</th>\n",
              "      <td>0.224155</td>\n",
              "    </tr>\n",
              "    <tr>\n",
              "      <th>0</th>\n",
              "      <td>0.230024</td>\n",
              "    </tr>\n",
              "  </tbody>\n",
              "</table>\n",
              "</div>\n",
              "      <button class=\"colab-df-convert\" onclick=\"convertToInteractive('df-113bc570-568b-40f5-a093-a11979ecd173')\"\n",
              "              title=\"Convert this dataframe to an interactive table.\"\n",
              "              style=\"display:none;\">\n",
              "        \n",
              "  <svg xmlns=\"http://www.w3.org/2000/svg\" height=\"24px\"viewBox=\"0 0 24 24\"\n",
              "       width=\"24px\">\n",
              "    <path d=\"M0 0h24v24H0V0z\" fill=\"none\"/>\n",
              "    <path d=\"M18.56 5.44l.94 2.06.94-2.06 2.06-.94-2.06-.94-.94-2.06-.94 2.06-2.06.94zm-11 1L8.5 8.5l.94-2.06 2.06-.94-2.06-.94L8.5 2.5l-.94 2.06-2.06.94zm10 10l.94 2.06.94-2.06 2.06-.94-2.06-.94-.94-2.06-.94 2.06-2.06.94z\"/><path d=\"M17.41 7.96l-1.37-1.37c-.4-.4-.92-.59-1.43-.59-.52 0-1.04.2-1.43.59L10.3 9.45l-7.72 7.72c-.78.78-.78 2.05 0 2.83L4 21.41c.39.39.9.59 1.41.59.51 0 1.02-.2 1.41-.59l7.78-7.78 2.81-2.81c.8-.78.8-2.07 0-2.86zM5.41 20L4 18.59l7.72-7.72 1.47 1.35L5.41 20z\"/>\n",
              "  </svg>\n",
              "      </button>\n",
              "      \n",
              "  <style>\n",
              "    .colab-df-container {\n",
              "      display:flex;\n",
              "      flex-wrap:wrap;\n",
              "      gap: 12px;\n",
              "    }\n",
              "\n",
              "    .colab-df-convert {\n",
              "      background-color: #E8F0FE;\n",
              "      border: none;\n",
              "      border-radius: 50%;\n",
              "      cursor: pointer;\n",
              "      display: none;\n",
              "      fill: #1967D2;\n",
              "      height: 32px;\n",
              "      padding: 0 0 0 0;\n",
              "      width: 32px;\n",
              "    }\n",
              "\n",
              "    .colab-df-convert:hover {\n",
              "      background-color: #E2EBFA;\n",
              "      box-shadow: 0px 1px 2px rgba(60, 64, 67, 0.3), 0px 1px 3px 1px rgba(60, 64, 67, 0.15);\n",
              "      fill: #174EA6;\n",
              "    }\n",
              "\n",
              "    [theme=dark] .colab-df-convert {\n",
              "      background-color: #3B4455;\n",
              "      fill: #D2E3FC;\n",
              "    }\n",
              "\n",
              "    [theme=dark] .colab-df-convert:hover {\n",
              "      background-color: #434B5C;\n",
              "      box-shadow: 0px 1px 3px 1px rgba(0, 0, 0, 0.15);\n",
              "      filter: drop-shadow(0px 1px 2px rgba(0, 0, 0, 0.3));\n",
              "      fill: #FFFFFF;\n",
              "    }\n",
              "  </style>\n",
              "\n",
              "      <script>\n",
              "        const buttonEl =\n",
              "          document.querySelector('#df-113bc570-568b-40f5-a093-a11979ecd173 button.colab-df-convert');\n",
              "        buttonEl.style.display =\n",
              "          google.colab.kernel.accessAllowed ? 'block' : 'none';\n",
              "\n",
              "        async function convertToInteractive(key) {\n",
              "          const element = document.querySelector('#df-113bc570-568b-40f5-a093-a11979ecd173');\n",
              "          const dataTable =\n",
              "            await google.colab.kernel.invokeFunction('convertToInteractive',\n",
              "                                                     [key], {});\n",
              "          if (!dataTable) return;\n",
              "\n",
              "          const docLinkHtml = 'Like what you see? Visit the ' +\n",
              "            '<a target=\"_blank\" href=https://colab.research.google.com/notebooks/data_table.ipynb>data table notebook</a>'\n",
              "            + ' to learn more about interactive tables.';\n",
              "          element.innerHTML = '';\n",
              "          dataTable['output_type'] = 'display_data';\n",
              "          await google.colab.output.renderOutput(dataTable, element);\n",
              "          const docLink = document.createElement('div');\n",
              "          docLink.innerHTML = docLinkHtml;\n",
              "          element.appendChild(docLink);\n",
              "        }\n",
              "      </script>\n",
              "    </div>\n",
              "  </div>\n",
              "  "
            ]
          },
          "metadata": {},
          "execution_count": 32
        }
      ]
    },
    {
      "cell_type": "markdown",
      "source": [
        "- Tenure adalah berapa tahun client menjadi customer di bank.\n",
        "- Disini rata-rata tertinggi adalah 0 tahun, dan terendah 7 tahun.\n",
        "- Berarti yang 0 tahun paling cepat keluar."
      ],
      "metadata": {
        "id": "yz5Yatjs5Kd_"
      }
    },
    {
      "cell_type": "markdown",
      "source": [
        "### Gender"
      ],
      "metadata": {
        "id": "7I2q2L1yJfcJ"
      }
    },
    {
      "cell_type": "code",
      "source": [
        "df[[\"Gender\", \"Exited\"]].groupby(['Gender']).mean().sort_values(by=\"Exited\", ascending=True)"
      ],
      "metadata": {
        "id": "lj_9kYqOlPXo",
        "colab": {
          "base_uri": "https://localhost:8080/",
          "height": 143
        },
        "outputId": "ad17f7c0-dc4d-4ee6-e3c3-93c7a1ea2ad1"
      },
      "execution_count": null,
      "outputs": [
        {
          "output_type": "execute_result",
          "data": {
            "text/plain": [
              "          Exited\n",
              "Gender          \n",
              "Male    0.164559\n",
              "Female  0.250715"
            ],
            "text/html": [
              "\n",
              "  <div id=\"df-360c23f9-b829-46ac-b4c3-2a6340ecb8ee\">\n",
              "    <div class=\"colab-df-container\">\n",
              "      <div>\n",
              "<style scoped>\n",
              "    .dataframe tbody tr th:only-of-type {\n",
              "        vertical-align: middle;\n",
              "    }\n",
              "\n",
              "    .dataframe tbody tr th {\n",
              "        vertical-align: top;\n",
              "    }\n",
              "\n",
              "    .dataframe thead th {\n",
              "        text-align: right;\n",
              "    }\n",
              "</style>\n",
              "<table border=\"1\" class=\"dataframe\">\n",
              "  <thead>\n",
              "    <tr style=\"text-align: right;\">\n",
              "      <th></th>\n",
              "      <th>Exited</th>\n",
              "    </tr>\n",
              "    <tr>\n",
              "      <th>Gender</th>\n",
              "      <th></th>\n",
              "    </tr>\n",
              "  </thead>\n",
              "  <tbody>\n",
              "    <tr>\n",
              "      <th>Male</th>\n",
              "      <td>0.164559</td>\n",
              "    </tr>\n",
              "    <tr>\n",
              "      <th>Female</th>\n",
              "      <td>0.250715</td>\n",
              "    </tr>\n",
              "  </tbody>\n",
              "</table>\n",
              "</div>\n",
              "      <button class=\"colab-df-convert\" onclick=\"convertToInteractive('df-360c23f9-b829-46ac-b4c3-2a6340ecb8ee')\"\n",
              "              title=\"Convert this dataframe to an interactive table.\"\n",
              "              style=\"display:none;\">\n",
              "        \n",
              "  <svg xmlns=\"http://www.w3.org/2000/svg\" height=\"24px\"viewBox=\"0 0 24 24\"\n",
              "       width=\"24px\">\n",
              "    <path d=\"M0 0h24v24H0V0z\" fill=\"none\"/>\n",
              "    <path d=\"M18.56 5.44l.94 2.06.94-2.06 2.06-.94-2.06-.94-.94-2.06-.94 2.06-2.06.94zm-11 1L8.5 8.5l.94-2.06 2.06-.94-2.06-.94L8.5 2.5l-.94 2.06-2.06.94zm10 10l.94 2.06.94-2.06 2.06-.94-2.06-.94-.94-2.06-.94 2.06-2.06.94z\"/><path d=\"M17.41 7.96l-1.37-1.37c-.4-.4-.92-.59-1.43-.59-.52 0-1.04.2-1.43.59L10.3 9.45l-7.72 7.72c-.78.78-.78 2.05 0 2.83L4 21.41c.39.39.9.59 1.41.59.51 0 1.02-.2 1.41-.59l7.78-7.78 2.81-2.81c.8-.78.8-2.07 0-2.86zM5.41 20L4 18.59l7.72-7.72 1.47 1.35L5.41 20z\"/>\n",
              "  </svg>\n",
              "      </button>\n",
              "      \n",
              "  <style>\n",
              "    .colab-df-container {\n",
              "      display:flex;\n",
              "      flex-wrap:wrap;\n",
              "      gap: 12px;\n",
              "    }\n",
              "\n",
              "    .colab-df-convert {\n",
              "      background-color: #E8F0FE;\n",
              "      border: none;\n",
              "      border-radius: 50%;\n",
              "      cursor: pointer;\n",
              "      display: none;\n",
              "      fill: #1967D2;\n",
              "      height: 32px;\n",
              "      padding: 0 0 0 0;\n",
              "      width: 32px;\n",
              "    }\n",
              "\n",
              "    .colab-df-convert:hover {\n",
              "      background-color: #E2EBFA;\n",
              "      box-shadow: 0px 1px 2px rgba(60, 64, 67, 0.3), 0px 1px 3px 1px rgba(60, 64, 67, 0.15);\n",
              "      fill: #174EA6;\n",
              "    }\n",
              "\n",
              "    [theme=dark] .colab-df-convert {\n",
              "      background-color: #3B4455;\n",
              "      fill: #D2E3FC;\n",
              "    }\n",
              "\n",
              "    [theme=dark] .colab-df-convert:hover {\n",
              "      background-color: #434B5C;\n",
              "      box-shadow: 0px 1px 3px 1px rgba(0, 0, 0, 0.15);\n",
              "      filter: drop-shadow(0px 1px 2px rgba(0, 0, 0, 0.3));\n",
              "      fill: #FFFFFF;\n",
              "    }\n",
              "  </style>\n",
              "\n",
              "      <script>\n",
              "        const buttonEl =\n",
              "          document.querySelector('#df-360c23f9-b829-46ac-b4c3-2a6340ecb8ee button.colab-df-convert');\n",
              "        buttonEl.style.display =\n",
              "          google.colab.kernel.accessAllowed ? 'block' : 'none';\n",
              "\n",
              "        async function convertToInteractive(key) {\n",
              "          const element = document.querySelector('#df-360c23f9-b829-46ac-b4c3-2a6340ecb8ee');\n",
              "          const dataTable =\n",
              "            await google.colab.kernel.invokeFunction('convertToInteractive',\n",
              "                                                     [key], {});\n",
              "          if (!dataTable) return;\n",
              "\n",
              "          const docLinkHtml = 'Like what you see? Visit the ' +\n",
              "            '<a target=\"_blank\" href=https://colab.research.google.com/notebooks/data_table.ipynb>data table notebook</a>'\n",
              "            + ' to learn more about interactive tables.';\n",
              "          element.innerHTML = '';\n",
              "          dataTable['output_type'] = 'display_data';\n",
              "          await google.colab.output.renderOutput(dataTable, element);\n",
              "          const docLink = document.createElement('div');\n",
              "          docLink.innerHTML = docLinkHtml;\n",
              "          element.appendChild(docLink);\n",
              "        }\n",
              "      </script>\n",
              "    </div>\n",
              "  </div>\n",
              "  "
            ]
          },
          "metadata": {},
          "execution_count": 33
        }
      ]
    },
    {
      "cell_type": "markdown",
      "source": [
        "Rata-rata gender terendah adalah male, dan tertinggi adalah Female. Ini berarti gender female lebih cepat keluar dari male."
      ],
      "metadata": {
        "id": "hgvBr4RI5tjs"
      }
    },
    {
      "cell_type": "markdown",
      "source": [
        "### Number of Product"
      ],
      "metadata": {
        "id": "AHCi-o0Ph7-I"
      }
    },
    {
      "cell_type": "code",
      "source": [
        "df[[\"NumOfProducts\", \"Exited\"]].groupby(['NumOfProducts']).mean().sort_values(by=\"Exited\", ascending=True)"
      ],
      "metadata": {
        "id": "GbvCT5rUlRx4",
        "colab": {
          "base_uri": "https://localhost:8080/",
          "height": 206
        },
        "outputId": "76e8f0d7-de9e-4911-a96d-f0b581e4ff98"
      },
      "execution_count": null,
      "outputs": [
        {
          "output_type": "execute_result",
          "data": {
            "text/plain": [
              "                 Exited\n",
              "NumOfProducts          \n",
              "2              0.075817\n",
              "1              0.277144\n",
              "3              0.827068\n",
              "4              1.000000"
            ],
            "text/html": [
              "\n",
              "  <div id=\"df-de8727ec-feba-4030-9ded-54df0322bae3\">\n",
              "    <div class=\"colab-df-container\">\n",
              "      <div>\n",
              "<style scoped>\n",
              "    .dataframe tbody tr th:only-of-type {\n",
              "        vertical-align: middle;\n",
              "    }\n",
              "\n",
              "    .dataframe tbody tr th {\n",
              "        vertical-align: top;\n",
              "    }\n",
              "\n",
              "    .dataframe thead th {\n",
              "        text-align: right;\n",
              "    }\n",
              "</style>\n",
              "<table border=\"1\" class=\"dataframe\">\n",
              "  <thead>\n",
              "    <tr style=\"text-align: right;\">\n",
              "      <th></th>\n",
              "      <th>Exited</th>\n",
              "    </tr>\n",
              "    <tr>\n",
              "      <th>NumOfProducts</th>\n",
              "      <th></th>\n",
              "    </tr>\n",
              "  </thead>\n",
              "  <tbody>\n",
              "    <tr>\n",
              "      <th>2</th>\n",
              "      <td>0.075817</td>\n",
              "    </tr>\n",
              "    <tr>\n",
              "      <th>1</th>\n",
              "      <td>0.277144</td>\n",
              "    </tr>\n",
              "    <tr>\n",
              "      <th>3</th>\n",
              "      <td>0.827068</td>\n",
              "    </tr>\n",
              "    <tr>\n",
              "      <th>4</th>\n",
              "      <td>1.000000</td>\n",
              "    </tr>\n",
              "  </tbody>\n",
              "</table>\n",
              "</div>\n",
              "      <button class=\"colab-df-convert\" onclick=\"convertToInteractive('df-de8727ec-feba-4030-9ded-54df0322bae3')\"\n",
              "              title=\"Convert this dataframe to an interactive table.\"\n",
              "              style=\"display:none;\">\n",
              "        \n",
              "  <svg xmlns=\"http://www.w3.org/2000/svg\" height=\"24px\"viewBox=\"0 0 24 24\"\n",
              "       width=\"24px\">\n",
              "    <path d=\"M0 0h24v24H0V0z\" fill=\"none\"/>\n",
              "    <path d=\"M18.56 5.44l.94 2.06.94-2.06 2.06-.94-2.06-.94-.94-2.06-.94 2.06-2.06.94zm-11 1L8.5 8.5l.94-2.06 2.06-.94-2.06-.94L8.5 2.5l-.94 2.06-2.06.94zm10 10l.94 2.06.94-2.06 2.06-.94-2.06-.94-.94-2.06-.94 2.06-2.06.94z\"/><path d=\"M17.41 7.96l-1.37-1.37c-.4-.4-.92-.59-1.43-.59-.52 0-1.04.2-1.43.59L10.3 9.45l-7.72 7.72c-.78.78-.78 2.05 0 2.83L4 21.41c.39.39.9.59 1.41.59.51 0 1.02-.2 1.41-.59l7.78-7.78 2.81-2.81c.8-.78.8-2.07 0-2.86zM5.41 20L4 18.59l7.72-7.72 1.47 1.35L5.41 20z\"/>\n",
              "  </svg>\n",
              "      </button>\n",
              "      \n",
              "  <style>\n",
              "    .colab-df-container {\n",
              "      display:flex;\n",
              "      flex-wrap:wrap;\n",
              "      gap: 12px;\n",
              "    }\n",
              "\n",
              "    .colab-df-convert {\n",
              "      background-color: #E8F0FE;\n",
              "      border: none;\n",
              "      border-radius: 50%;\n",
              "      cursor: pointer;\n",
              "      display: none;\n",
              "      fill: #1967D2;\n",
              "      height: 32px;\n",
              "      padding: 0 0 0 0;\n",
              "      width: 32px;\n",
              "    }\n",
              "\n",
              "    .colab-df-convert:hover {\n",
              "      background-color: #E2EBFA;\n",
              "      box-shadow: 0px 1px 2px rgba(60, 64, 67, 0.3), 0px 1px 3px 1px rgba(60, 64, 67, 0.15);\n",
              "      fill: #174EA6;\n",
              "    }\n",
              "\n",
              "    [theme=dark] .colab-df-convert {\n",
              "      background-color: #3B4455;\n",
              "      fill: #D2E3FC;\n",
              "    }\n",
              "\n",
              "    [theme=dark] .colab-df-convert:hover {\n",
              "      background-color: #434B5C;\n",
              "      box-shadow: 0px 1px 3px 1px rgba(0, 0, 0, 0.15);\n",
              "      filter: drop-shadow(0px 1px 2px rgba(0, 0, 0, 0.3));\n",
              "      fill: #FFFFFF;\n",
              "    }\n",
              "  </style>\n",
              "\n",
              "      <script>\n",
              "        const buttonEl =\n",
              "          document.querySelector('#df-de8727ec-feba-4030-9ded-54df0322bae3 button.colab-df-convert');\n",
              "        buttonEl.style.display =\n",
              "          google.colab.kernel.accessAllowed ? 'block' : 'none';\n",
              "\n",
              "        async function convertToInteractive(key) {\n",
              "          const element = document.querySelector('#df-de8727ec-feba-4030-9ded-54df0322bae3');\n",
              "          const dataTable =\n",
              "            await google.colab.kernel.invokeFunction('convertToInteractive',\n",
              "                                                     [key], {});\n",
              "          if (!dataTable) return;\n",
              "\n",
              "          const docLinkHtml = 'Like what you see? Visit the ' +\n",
              "            '<a target=\"_blank\" href=https://colab.research.google.com/notebooks/data_table.ipynb>data table notebook</a>'\n",
              "            + ' to learn more about interactive tables.';\n",
              "          element.innerHTML = '';\n",
              "          dataTable['output_type'] = 'display_data';\n",
              "          await google.colab.output.renderOutput(dataTable, element);\n",
              "          const docLink = document.createElement('div');\n",
              "          docLink.innerHTML = docLinkHtml;\n",
              "          element.appendChild(docLink);\n",
              "        }\n",
              "      </script>\n",
              "    </div>\n",
              "  </div>\n",
              "  "
            ]
          },
          "metadata": {},
          "execution_count": 34
        }
      ]
    },
    {
      "cell_type": "markdown",
      "source": [
        "Customer yang membeli 4 product lebih cepat keluar."
      ],
      "metadata": {
        "id": "WGpZdNte6ze1"
      }
    },
    {
      "cell_type": "markdown",
      "source": [
        "### Has Credit Card"
      ],
      "metadata": {
        "id": "tiMalhpyiAvU"
      }
    },
    {
      "cell_type": "code",
      "source": [
        "df[[\"HasCrCard\", \"Exited\"]].groupby(['HasCrCard']).mean().sort_values(by=\"Exited\", ascending=True)"
      ],
      "metadata": {
        "id": "KmRRtgL0lXEC",
        "colab": {
          "base_uri": "https://localhost:8080/",
          "height": 143
        },
        "outputId": "c06d2b65-bc31-4705-aaa7-87ce74df3390"
      },
      "execution_count": null,
      "outputs": [
        {
          "output_type": "execute_result",
          "data": {
            "text/plain": [
              "             Exited\n",
              "HasCrCard          \n",
              "1          0.201843\n",
              "0          0.208149"
            ],
            "text/html": [
              "\n",
              "  <div id=\"df-15ee0076-f565-41dd-8297-7ed4b3f7cc71\">\n",
              "    <div class=\"colab-df-container\">\n",
              "      <div>\n",
              "<style scoped>\n",
              "    .dataframe tbody tr th:only-of-type {\n",
              "        vertical-align: middle;\n",
              "    }\n",
              "\n",
              "    .dataframe tbody tr th {\n",
              "        vertical-align: top;\n",
              "    }\n",
              "\n",
              "    .dataframe thead th {\n",
              "        text-align: right;\n",
              "    }\n",
              "</style>\n",
              "<table border=\"1\" class=\"dataframe\">\n",
              "  <thead>\n",
              "    <tr style=\"text-align: right;\">\n",
              "      <th></th>\n",
              "      <th>Exited</th>\n",
              "    </tr>\n",
              "    <tr>\n",
              "      <th>HasCrCard</th>\n",
              "      <th></th>\n",
              "    </tr>\n",
              "  </thead>\n",
              "  <tbody>\n",
              "    <tr>\n",
              "      <th>1</th>\n",
              "      <td>0.201843</td>\n",
              "    </tr>\n",
              "    <tr>\n",
              "      <th>0</th>\n",
              "      <td>0.208149</td>\n",
              "    </tr>\n",
              "  </tbody>\n",
              "</table>\n",
              "</div>\n",
              "      <button class=\"colab-df-convert\" onclick=\"convertToInteractive('df-15ee0076-f565-41dd-8297-7ed4b3f7cc71')\"\n",
              "              title=\"Convert this dataframe to an interactive table.\"\n",
              "              style=\"display:none;\">\n",
              "        \n",
              "  <svg xmlns=\"http://www.w3.org/2000/svg\" height=\"24px\"viewBox=\"0 0 24 24\"\n",
              "       width=\"24px\">\n",
              "    <path d=\"M0 0h24v24H0V0z\" fill=\"none\"/>\n",
              "    <path d=\"M18.56 5.44l.94 2.06.94-2.06 2.06-.94-2.06-.94-.94-2.06-.94 2.06-2.06.94zm-11 1L8.5 8.5l.94-2.06 2.06-.94-2.06-.94L8.5 2.5l-.94 2.06-2.06.94zm10 10l.94 2.06.94-2.06 2.06-.94-2.06-.94-.94-2.06-.94 2.06-2.06.94z\"/><path d=\"M17.41 7.96l-1.37-1.37c-.4-.4-.92-.59-1.43-.59-.52 0-1.04.2-1.43.59L10.3 9.45l-7.72 7.72c-.78.78-.78 2.05 0 2.83L4 21.41c.39.39.9.59 1.41.59.51 0 1.02-.2 1.41-.59l7.78-7.78 2.81-2.81c.8-.78.8-2.07 0-2.86zM5.41 20L4 18.59l7.72-7.72 1.47 1.35L5.41 20z\"/>\n",
              "  </svg>\n",
              "      </button>\n",
              "      \n",
              "  <style>\n",
              "    .colab-df-container {\n",
              "      display:flex;\n",
              "      flex-wrap:wrap;\n",
              "      gap: 12px;\n",
              "    }\n",
              "\n",
              "    .colab-df-convert {\n",
              "      background-color: #E8F0FE;\n",
              "      border: none;\n",
              "      border-radius: 50%;\n",
              "      cursor: pointer;\n",
              "      display: none;\n",
              "      fill: #1967D2;\n",
              "      height: 32px;\n",
              "      padding: 0 0 0 0;\n",
              "      width: 32px;\n",
              "    }\n",
              "\n",
              "    .colab-df-convert:hover {\n",
              "      background-color: #E2EBFA;\n",
              "      box-shadow: 0px 1px 2px rgba(60, 64, 67, 0.3), 0px 1px 3px 1px rgba(60, 64, 67, 0.15);\n",
              "      fill: #174EA6;\n",
              "    }\n",
              "\n",
              "    [theme=dark] .colab-df-convert {\n",
              "      background-color: #3B4455;\n",
              "      fill: #D2E3FC;\n",
              "    }\n",
              "\n",
              "    [theme=dark] .colab-df-convert:hover {\n",
              "      background-color: #434B5C;\n",
              "      box-shadow: 0px 1px 3px 1px rgba(0, 0, 0, 0.15);\n",
              "      filter: drop-shadow(0px 1px 2px rgba(0, 0, 0, 0.3));\n",
              "      fill: #FFFFFF;\n",
              "    }\n",
              "  </style>\n",
              "\n",
              "      <script>\n",
              "        const buttonEl =\n",
              "          document.querySelector('#df-15ee0076-f565-41dd-8297-7ed4b3f7cc71 button.colab-df-convert');\n",
              "        buttonEl.style.display =\n",
              "          google.colab.kernel.accessAllowed ? 'block' : 'none';\n",
              "\n",
              "        async function convertToInteractive(key) {\n",
              "          const element = document.querySelector('#df-15ee0076-f565-41dd-8297-7ed4b3f7cc71');\n",
              "          const dataTable =\n",
              "            await google.colab.kernel.invokeFunction('convertToInteractive',\n",
              "                                                     [key], {});\n",
              "          if (!dataTable) return;\n",
              "\n",
              "          const docLinkHtml = 'Like what you see? Visit the ' +\n",
              "            '<a target=\"_blank\" href=https://colab.research.google.com/notebooks/data_table.ipynb>data table notebook</a>'\n",
              "            + ' to learn more about interactive tables.';\n",
              "          element.innerHTML = '';\n",
              "          dataTable['output_type'] = 'display_data';\n",
              "          await google.colab.output.renderOutput(dataTable, element);\n",
              "          const docLink = document.createElement('div');\n",
              "          docLink.innerHTML = docLinkHtml;\n",
              "          element.appendChild(docLink);\n",
              "        }\n",
              "      </script>\n",
              "    </div>\n",
              "  </div>\n",
              "  "
            ]
          },
          "metadata": {},
          "execution_count": 35
        }
      ]
    },
    {
      "cell_type": "markdown",
      "source": [
        "Customer yang tidak punya credit card lebih cepat keluar dimana rata-ratanya 0.208149."
      ],
      "metadata": {
        "id": "TYpnQsS-7I4T"
      }
    },
    {
      "cell_type": "markdown",
      "source": [
        "### Active Member"
      ],
      "metadata": {
        "id": "_wAql6q8lKOZ"
      }
    },
    {
      "cell_type": "code",
      "source": [
        "df[[\"IsActiveMember\", \"Exited\"]].groupby(['IsActiveMember']).mean().sort_values(by=\"Exited\", ascending=True)"
      ],
      "metadata": {
        "id": "LtC1V4oeleRL",
        "colab": {
          "base_uri": "https://localhost:8080/",
          "height": 143
        },
        "outputId": "76e305c9-562f-43e2-cf46-51043c3cf907"
      },
      "execution_count": null,
      "outputs": [
        {
          "output_type": "execute_result",
          "data": {
            "text/plain": [
              "                  Exited\n",
              "IsActiveMember          \n",
              "1               0.142691\n",
              "0               0.268509"
            ],
            "text/html": [
              "\n",
              "  <div id=\"df-26596a41-c4e5-4c5a-8b39-6de8ec8dec21\">\n",
              "    <div class=\"colab-df-container\">\n",
              "      <div>\n",
              "<style scoped>\n",
              "    .dataframe tbody tr th:only-of-type {\n",
              "        vertical-align: middle;\n",
              "    }\n",
              "\n",
              "    .dataframe tbody tr th {\n",
              "        vertical-align: top;\n",
              "    }\n",
              "\n",
              "    .dataframe thead th {\n",
              "        text-align: right;\n",
              "    }\n",
              "</style>\n",
              "<table border=\"1\" class=\"dataframe\">\n",
              "  <thead>\n",
              "    <tr style=\"text-align: right;\">\n",
              "      <th></th>\n",
              "      <th>Exited</th>\n",
              "    </tr>\n",
              "    <tr>\n",
              "      <th>IsActiveMember</th>\n",
              "      <th></th>\n",
              "    </tr>\n",
              "  </thead>\n",
              "  <tbody>\n",
              "    <tr>\n",
              "      <th>1</th>\n",
              "      <td>0.142691</td>\n",
              "    </tr>\n",
              "    <tr>\n",
              "      <th>0</th>\n",
              "      <td>0.268509</td>\n",
              "    </tr>\n",
              "  </tbody>\n",
              "</table>\n",
              "</div>\n",
              "      <button class=\"colab-df-convert\" onclick=\"convertToInteractive('df-26596a41-c4e5-4c5a-8b39-6de8ec8dec21')\"\n",
              "              title=\"Convert this dataframe to an interactive table.\"\n",
              "              style=\"display:none;\">\n",
              "        \n",
              "  <svg xmlns=\"http://www.w3.org/2000/svg\" height=\"24px\"viewBox=\"0 0 24 24\"\n",
              "       width=\"24px\">\n",
              "    <path d=\"M0 0h24v24H0V0z\" fill=\"none\"/>\n",
              "    <path d=\"M18.56 5.44l.94 2.06.94-2.06 2.06-.94-2.06-.94-.94-2.06-.94 2.06-2.06.94zm-11 1L8.5 8.5l.94-2.06 2.06-.94-2.06-.94L8.5 2.5l-.94 2.06-2.06.94zm10 10l.94 2.06.94-2.06 2.06-.94-2.06-.94-.94-2.06-.94 2.06-2.06.94z\"/><path d=\"M17.41 7.96l-1.37-1.37c-.4-.4-.92-.59-1.43-.59-.52 0-1.04.2-1.43.59L10.3 9.45l-7.72 7.72c-.78.78-.78 2.05 0 2.83L4 21.41c.39.39.9.59 1.41.59.51 0 1.02-.2 1.41-.59l7.78-7.78 2.81-2.81c.8-.78.8-2.07 0-2.86zM5.41 20L4 18.59l7.72-7.72 1.47 1.35L5.41 20z\"/>\n",
              "  </svg>\n",
              "      </button>\n",
              "      \n",
              "  <style>\n",
              "    .colab-df-container {\n",
              "      display:flex;\n",
              "      flex-wrap:wrap;\n",
              "      gap: 12px;\n",
              "    }\n",
              "\n",
              "    .colab-df-convert {\n",
              "      background-color: #E8F0FE;\n",
              "      border: none;\n",
              "      border-radius: 50%;\n",
              "      cursor: pointer;\n",
              "      display: none;\n",
              "      fill: #1967D2;\n",
              "      height: 32px;\n",
              "      padding: 0 0 0 0;\n",
              "      width: 32px;\n",
              "    }\n",
              "\n",
              "    .colab-df-convert:hover {\n",
              "      background-color: #E2EBFA;\n",
              "      box-shadow: 0px 1px 2px rgba(60, 64, 67, 0.3), 0px 1px 3px 1px rgba(60, 64, 67, 0.15);\n",
              "      fill: #174EA6;\n",
              "    }\n",
              "\n",
              "    [theme=dark] .colab-df-convert {\n",
              "      background-color: #3B4455;\n",
              "      fill: #D2E3FC;\n",
              "    }\n",
              "\n",
              "    [theme=dark] .colab-df-convert:hover {\n",
              "      background-color: #434B5C;\n",
              "      box-shadow: 0px 1px 3px 1px rgba(0, 0, 0, 0.15);\n",
              "      filter: drop-shadow(0px 1px 2px rgba(0, 0, 0, 0.3));\n",
              "      fill: #FFFFFF;\n",
              "    }\n",
              "  </style>\n",
              "\n",
              "      <script>\n",
              "        const buttonEl =\n",
              "          document.querySelector('#df-26596a41-c4e5-4c5a-8b39-6de8ec8dec21 button.colab-df-convert');\n",
              "        buttonEl.style.display =\n",
              "          google.colab.kernel.accessAllowed ? 'block' : 'none';\n",
              "\n",
              "        async function convertToInteractive(key) {\n",
              "          const element = document.querySelector('#df-26596a41-c4e5-4c5a-8b39-6de8ec8dec21');\n",
              "          const dataTable =\n",
              "            await google.colab.kernel.invokeFunction('convertToInteractive',\n",
              "                                                     [key], {});\n",
              "          if (!dataTable) return;\n",
              "\n",
              "          const docLinkHtml = 'Like what you see? Visit the ' +\n",
              "            '<a target=\"_blank\" href=https://colab.research.google.com/notebooks/data_table.ipynb>data table notebook</a>'\n",
              "            + ' to learn more about interactive tables.';\n",
              "          element.innerHTML = '';\n",
              "          dataTable['output_type'] = 'display_data';\n",
              "          await google.colab.output.renderOutput(dataTable, element);\n",
              "          const docLink = document.createElement('div');\n",
              "          docLink.innerHTML = docLinkHtml;\n",
              "          element.appendChild(docLink);\n",
              "        }\n",
              "      </script>\n",
              "    </div>\n",
              "  </div>\n",
              "  "
            ]
          },
          "metadata": {},
          "execution_count": 36
        }
      ]
    },
    {
      "cell_type": "markdown",
      "source": [
        "Customer yang bukan active member lebih mempunyai kemungkinan lebih cepat keluar dari pada yang aktif."
      ],
      "metadata": {
        "id": "GY_DoF5l71h0"
      }
    },
    {
      "cell_type": "markdown",
      "source": [
        "# Checking Corelation"
      ],
      "metadata": {
        "id": "Tyc4nW-D8q8K"
      }
    },
    {
      "cell_type": "code",
      "source": [
        "df.corr(method='pearson')"
      ],
      "metadata": {
        "id": "P0XwKT-QvEMR",
        "colab": {
          "base_uri": "https://localhost:8080/",
          "height": 394
        },
        "outputId": "5e46f618-ada3-44aa-9b69-9574689eb3ce"
      },
      "execution_count": null,
      "outputs": [
        {
          "output_type": "execute_result",
          "data": {
            "text/plain": [
              "                 RowNumber  CustomerId  CreditScore       Age    Tenure  \\\n",
              "RowNumber         1.000000    0.004202     0.005840  0.000783 -0.006495   \n",
              "CustomerId        0.004202    1.000000     0.005308  0.009497 -0.014883   \n",
              "CreditScore       0.005840    0.005308     1.000000 -0.003965  0.000842   \n",
              "Age               0.000783    0.009497    -0.003965  1.000000 -0.009997   \n",
              "Tenure           -0.006495   -0.014883     0.000842 -0.009997  1.000000   \n",
              "Balance          -0.009067   -0.012419     0.006268  0.028308 -0.012254   \n",
              "NumOfProducts     0.007246    0.016972     0.012238 -0.030680  0.013444   \n",
              "HasCrCard         0.000599   -0.014025    -0.005458 -0.011721  0.022583   \n",
              "IsActiveMember    0.012044    0.001665     0.025651  0.085472 -0.028362   \n",
              "EstimatedSalary  -0.005988    0.015271    -0.001384 -0.007201  0.007784   \n",
              "Exited           -0.016571   -0.006248    -0.027094  0.285323 -0.014001   \n",
              "\n",
              "                  Balance  NumOfProducts  HasCrCard  IsActiveMember  \\\n",
              "RowNumber       -0.009067       0.007246   0.000599        0.012044   \n",
              "CustomerId      -0.012419       0.016972  -0.014025        0.001665   \n",
              "CreditScore      0.006268       0.012238  -0.005458        0.025651   \n",
              "Age              0.028308      -0.030680  -0.011721        0.085472   \n",
              "Tenure          -0.012254       0.013444   0.022583       -0.028362   \n",
              "Balance          1.000000      -0.304180  -0.014858       -0.010084   \n",
              "NumOfProducts   -0.304180       1.000000   0.003183        0.009612   \n",
              "HasCrCard       -0.014858       0.003183   1.000000       -0.011866   \n",
              "IsActiveMember  -0.010084       0.009612  -0.011866        1.000000   \n",
              "EstimatedSalary  0.012797       0.014204  -0.009933       -0.011421   \n",
              "Exited           0.118533      -0.047820  -0.007138       -0.156128   \n",
              "\n",
              "                 EstimatedSalary    Exited  \n",
              "RowNumber              -0.005988 -0.016571  \n",
              "CustomerId              0.015271 -0.006248  \n",
              "CreditScore            -0.001384 -0.027094  \n",
              "Age                    -0.007201  0.285323  \n",
              "Tenure                  0.007784 -0.014001  \n",
              "Balance                 0.012797  0.118533  \n",
              "NumOfProducts           0.014204 -0.047820  \n",
              "HasCrCard              -0.009933 -0.007138  \n",
              "IsActiveMember         -0.011421 -0.156128  \n",
              "EstimatedSalary         1.000000  0.012097  \n",
              "Exited                  0.012097  1.000000  "
            ],
            "text/html": [
              "\n",
              "  <div id=\"df-e92ab4d8-7ce6-4785-a2ab-453715705424\">\n",
              "    <div class=\"colab-df-container\">\n",
              "      <div>\n",
              "<style scoped>\n",
              "    .dataframe tbody tr th:only-of-type {\n",
              "        vertical-align: middle;\n",
              "    }\n",
              "\n",
              "    .dataframe tbody tr th {\n",
              "        vertical-align: top;\n",
              "    }\n",
              "\n",
              "    .dataframe thead th {\n",
              "        text-align: right;\n",
              "    }\n",
              "</style>\n",
              "<table border=\"1\" class=\"dataframe\">\n",
              "  <thead>\n",
              "    <tr style=\"text-align: right;\">\n",
              "      <th></th>\n",
              "      <th>RowNumber</th>\n",
              "      <th>CustomerId</th>\n",
              "      <th>CreditScore</th>\n",
              "      <th>Age</th>\n",
              "      <th>Tenure</th>\n",
              "      <th>Balance</th>\n",
              "      <th>NumOfProducts</th>\n",
              "      <th>HasCrCard</th>\n",
              "      <th>IsActiveMember</th>\n",
              "      <th>EstimatedSalary</th>\n",
              "      <th>Exited</th>\n",
              "    </tr>\n",
              "  </thead>\n",
              "  <tbody>\n",
              "    <tr>\n",
              "      <th>RowNumber</th>\n",
              "      <td>1.000000</td>\n",
              "      <td>0.004202</td>\n",
              "      <td>0.005840</td>\n",
              "      <td>0.000783</td>\n",
              "      <td>-0.006495</td>\n",
              "      <td>-0.009067</td>\n",
              "      <td>0.007246</td>\n",
              "      <td>0.000599</td>\n",
              "      <td>0.012044</td>\n",
              "      <td>-0.005988</td>\n",
              "      <td>-0.016571</td>\n",
              "    </tr>\n",
              "    <tr>\n",
              "      <th>CustomerId</th>\n",
              "      <td>0.004202</td>\n",
              "      <td>1.000000</td>\n",
              "      <td>0.005308</td>\n",
              "      <td>0.009497</td>\n",
              "      <td>-0.014883</td>\n",
              "      <td>-0.012419</td>\n",
              "      <td>0.016972</td>\n",
              "      <td>-0.014025</td>\n",
              "      <td>0.001665</td>\n",
              "      <td>0.015271</td>\n",
              "      <td>-0.006248</td>\n",
              "    </tr>\n",
              "    <tr>\n",
              "      <th>CreditScore</th>\n",
              "      <td>0.005840</td>\n",
              "      <td>0.005308</td>\n",
              "      <td>1.000000</td>\n",
              "      <td>-0.003965</td>\n",
              "      <td>0.000842</td>\n",
              "      <td>0.006268</td>\n",
              "      <td>0.012238</td>\n",
              "      <td>-0.005458</td>\n",
              "      <td>0.025651</td>\n",
              "      <td>-0.001384</td>\n",
              "      <td>-0.027094</td>\n",
              "    </tr>\n",
              "    <tr>\n",
              "      <th>Age</th>\n",
              "      <td>0.000783</td>\n",
              "      <td>0.009497</td>\n",
              "      <td>-0.003965</td>\n",
              "      <td>1.000000</td>\n",
              "      <td>-0.009997</td>\n",
              "      <td>0.028308</td>\n",
              "      <td>-0.030680</td>\n",
              "      <td>-0.011721</td>\n",
              "      <td>0.085472</td>\n",
              "      <td>-0.007201</td>\n",
              "      <td>0.285323</td>\n",
              "    </tr>\n",
              "    <tr>\n",
              "      <th>Tenure</th>\n",
              "      <td>-0.006495</td>\n",
              "      <td>-0.014883</td>\n",
              "      <td>0.000842</td>\n",
              "      <td>-0.009997</td>\n",
              "      <td>1.000000</td>\n",
              "      <td>-0.012254</td>\n",
              "      <td>0.013444</td>\n",
              "      <td>0.022583</td>\n",
              "      <td>-0.028362</td>\n",
              "      <td>0.007784</td>\n",
              "      <td>-0.014001</td>\n",
              "    </tr>\n",
              "    <tr>\n",
              "      <th>Balance</th>\n",
              "      <td>-0.009067</td>\n",
              "      <td>-0.012419</td>\n",
              "      <td>0.006268</td>\n",
              "      <td>0.028308</td>\n",
              "      <td>-0.012254</td>\n",
              "      <td>1.000000</td>\n",
              "      <td>-0.304180</td>\n",
              "      <td>-0.014858</td>\n",
              "      <td>-0.010084</td>\n",
              "      <td>0.012797</td>\n",
              "      <td>0.118533</td>\n",
              "    </tr>\n",
              "    <tr>\n",
              "      <th>NumOfProducts</th>\n",
              "      <td>0.007246</td>\n",
              "      <td>0.016972</td>\n",
              "      <td>0.012238</td>\n",
              "      <td>-0.030680</td>\n",
              "      <td>0.013444</td>\n",
              "      <td>-0.304180</td>\n",
              "      <td>1.000000</td>\n",
              "      <td>0.003183</td>\n",
              "      <td>0.009612</td>\n",
              "      <td>0.014204</td>\n",
              "      <td>-0.047820</td>\n",
              "    </tr>\n",
              "    <tr>\n",
              "      <th>HasCrCard</th>\n",
              "      <td>0.000599</td>\n",
              "      <td>-0.014025</td>\n",
              "      <td>-0.005458</td>\n",
              "      <td>-0.011721</td>\n",
              "      <td>0.022583</td>\n",
              "      <td>-0.014858</td>\n",
              "      <td>0.003183</td>\n",
              "      <td>1.000000</td>\n",
              "      <td>-0.011866</td>\n",
              "      <td>-0.009933</td>\n",
              "      <td>-0.007138</td>\n",
              "    </tr>\n",
              "    <tr>\n",
              "      <th>IsActiveMember</th>\n",
              "      <td>0.012044</td>\n",
              "      <td>0.001665</td>\n",
              "      <td>0.025651</td>\n",
              "      <td>0.085472</td>\n",
              "      <td>-0.028362</td>\n",
              "      <td>-0.010084</td>\n",
              "      <td>0.009612</td>\n",
              "      <td>-0.011866</td>\n",
              "      <td>1.000000</td>\n",
              "      <td>-0.011421</td>\n",
              "      <td>-0.156128</td>\n",
              "    </tr>\n",
              "    <tr>\n",
              "      <th>EstimatedSalary</th>\n",
              "      <td>-0.005988</td>\n",
              "      <td>0.015271</td>\n",
              "      <td>-0.001384</td>\n",
              "      <td>-0.007201</td>\n",
              "      <td>0.007784</td>\n",
              "      <td>0.012797</td>\n",
              "      <td>0.014204</td>\n",
              "      <td>-0.009933</td>\n",
              "      <td>-0.011421</td>\n",
              "      <td>1.000000</td>\n",
              "      <td>0.012097</td>\n",
              "    </tr>\n",
              "    <tr>\n",
              "      <th>Exited</th>\n",
              "      <td>-0.016571</td>\n",
              "      <td>-0.006248</td>\n",
              "      <td>-0.027094</td>\n",
              "      <td>0.285323</td>\n",
              "      <td>-0.014001</td>\n",
              "      <td>0.118533</td>\n",
              "      <td>-0.047820</td>\n",
              "      <td>-0.007138</td>\n",
              "      <td>-0.156128</td>\n",
              "      <td>0.012097</td>\n",
              "      <td>1.000000</td>\n",
              "    </tr>\n",
              "  </tbody>\n",
              "</table>\n",
              "</div>\n",
              "      <button class=\"colab-df-convert\" onclick=\"convertToInteractive('df-e92ab4d8-7ce6-4785-a2ab-453715705424')\"\n",
              "              title=\"Convert this dataframe to an interactive table.\"\n",
              "              style=\"display:none;\">\n",
              "        \n",
              "  <svg xmlns=\"http://www.w3.org/2000/svg\" height=\"24px\"viewBox=\"0 0 24 24\"\n",
              "       width=\"24px\">\n",
              "    <path d=\"M0 0h24v24H0V0z\" fill=\"none\"/>\n",
              "    <path d=\"M18.56 5.44l.94 2.06.94-2.06 2.06-.94-2.06-.94-.94-2.06-.94 2.06-2.06.94zm-11 1L8.5 8.5l.94-2.06 2.06-.94-2.06-.94L8.5 2.5l-.94 2.06-2.06.94zm10 10l.94 2.06.94-2.06 2.06-.94-2.06-.94-.94-2.06-.94 2.06-2.06.94z\"/><path d=\"M17.41 7.96l-1.37-1.37c-.4-.4-.92-.59-1.43-.59-.52 0-1.04.2-1.43.59L10.3 9.45l-7.72 7.72c-.78.78-.78 2.05 0 2.83L4 21.41c.39.39.9.59 1.41.59.51 0 1.02-.2 1.41-.59l7.78-7.78 2.81-2.81c.8-.78.8-2.07 0-2.86zM5.41 20L4 18.59l7.72-7.72 1.47 1.35L5.41 20z\"/>\n",
              "  </svg>\n",
              "      </button>\n",
              "      \n",
              "  <style>\n",
              "    .colab-df-container {\n",
              "      display:flex;\n",
              "      flex-wrap:wrap;\n",
              "      gap: 12px;\n",
              "    }\n",
              "\n",
              "    .colab-df-convert {\n",
              "      background-color: #E8F0FE;\n",
              "      border: none;\n",
              "      border-radius: 50%;\n",
              "      cursor: pointer;\n",
              "      display: none;\n",
              "      fill: #1967D2;\n",
              "      height: 32px;\n",
              "      padding: 0 0 0 0;\n",
              "      width: 32px;\n",
              "    }\n",
              "\n",
              "    .colab-df-convert:hover {\n",
              "      background-color: #E2EBFA;\n",
              "      box-shadow: 0px 1px 2px rgba(60, 64, 67, 0.3), 0px 1px 3px 1px rgba(60, 64, 67, 0.15);\n",
              "      fill: #174EA6;\n",
              "    }\n",
              "\n",
              "    [theme=dark] .colab-df-convert {\n",
              "      background-color: #3B4455;\n",
              "      fill: #D2E3FC;\n",
              "    }\n",
              "\n",
              "    [theme=dark] .colab-df-convert:hover {\n",
              "      background-color: #434B5C;\n",
              "      box-shadow: 0px 1px 3px 1px rgba(0, 0, 0, 0.15);\n",
              "      filter: drop-shadow(0px 1px 2px rgba(0, 0, 0, 0.3));\n",
              "      fill: #FFFFFF;\n",
              "    }\n",
              "  </style>\n",
              "\n",
              "      <script>\n",
              "        const buttonEl =\n",
              "          document.querySelector('#df-e92ab4d8-7ce6-4785-a2ab-453715705424 button.colab-df-convert');\n",
              "        buttonEl.style.display =\n",
              "          google.colab.kernel.accessAllowed ? 'block' : 'none';\n",
              "\n",
              "        async function convertToInteractive(key) {\n",
              "          const element = document.querySelector('#df-e92ab4d8-7ce6-4785-a2ab-453715705424');\n",
              "          const dataTable =\n",
              "            await google.colab.kernel.invokeFunction('convertToInteractive',\n",
              "                                                     [key], {});\n",
              "          if (!dataTable) return;\n",
              "\n",
              "          const docLinkHtml = 'Like what you see? Visit the ' +\n",
              "            '<a target=\"_blank\" href=https://colab.research.google.com/notebooks/data_table.ipynb>data table notebook</a>'\n",
              "            + ' to learn more about interactive tables.';\n",
              "          element.innerHTML = '';\n",
              "          dataTable['output_type'] = 'display_data';\n",
              "          await google.colab.output.renderOutput(dataTable, element);\n",
              "          const docLink = document.createElement('div');\n",
              "          docLink.innerHTML = docLinkHtml;\n",
              "          element.appendChild(docLink);\n",
              "        }\n",
              "      </script>\n",
              "    </div>\n",
              "  </div>\n",
              "  "
            ]
          },
          "metadata": {},
          "execution_count": 37
        }
      ]
    },
    {
      "cell_type": "markdown",
      "source": [
        "Hasil diatas menunjukkan nilai korelasi dari tiap variable yang mewakili hubungan dengan variable lainnya. Nilai 0 berarti korelasi antar variable nya rendah, sedangkan 1 berarti korelasi antar variable nya tinggi."
      ],
      "metadata": {
        "id": "-_U1oBqZkuUd"
      }
    },
    {
      "cell_type": "code",
      "source": [
        "fig, ax = plt.subplots(figsize=(7, 6))\n",
        "\n",
        "sns.heatmap(df[continuous].corr(),\n",
        "            annot=True,\n",
        "            annot_kws={'fontsize': 16},\n",
        "            cmap='Blues',\n",
        "            ax=ax)\n",
        "\n",
        "ax.tick_params(axis='x', rotation=45)\n",
        "ax.tick_params(axis='y', rotation=360);"
      ],
      "metadata": {
        "id": "D0d4YvYFLgFA",
        "colab": {
          "base_uri": "https://localhost:8080/",
          "height": 433
        },
        "outputId": "0c9eee59-6275-453f-db05-dea77ead87e8"
      },
      "execution_count": null,
      "outputs": [
        {
          "output_type": "display_data",
          "data": {
            "text/plain": [
              "<Figure size 504x432 with 2 Axes>"
            ],
            "image/png": "[encoded data removed]"
          },
          "metadata": {
            "needs_background": "light"
          }
        }
      ]
    },
    {
      "cell_type": "markdown",
      "source": [
        "Visualisasi plot diatas menunjukkan nilai korelasi tertinggi pada variable Balance dengan CreditScore. Hal ini berarti korelasi antar kedua variable saling mempengaruhi satu dan lainnya. Sedangkan, korelasi terendah ada pada variable EstimatedSalary dengan CreditScore."
      ],
      "metadata": {
        "id": "jBmY_HOXkz3j"
      }
    },
    {
      "cell_type": "markdown",
      "source": [
        "# Checking Outliers"
      ],
      "metadata": {
        "id": "qg69sL6a8Ztr"
      }
    },
    {
      "cell_type": "code",
      "source": [
        "df.plot(kind= 'box' , subplots=True, layout=(4,4), sharex=False, sharey=False, figsize=(20,15))"
      ],
      "metadata": {
        "id": "w0emLprgLbu7",
        "colab": {
          "base_uri": "https://localhost:8080/",
          "height": 870
        },
        "outputId": "12ea5e59-7f04-42f9-b5ed-77ec932f197b"
      },
      "execution_count": null,
      "outputs": [
        {
          "output_type": "execute_result",
          "data": {
            "text/plain": [
              "RowNumber              AxesSubplot(0.125,0.71587;0.168478x0.16413)\n",
              "CustomerId          AxesSubplot(0.327174,0.71587;0.168478x0.16413)\n",
              "CreditScore         AxesSubplot(0.529348,0.71587;0.168478x0.16413)\n",
              "Age                 AxesSubplot(0.731522,0.71587;0.168478x0.16413)\n",
              "Tenure                AxesSubplot(0.125,0.518913;0.168478x0.16413)\n",
              "Balance            AxesSubplot(0.327174,0.518913;0.168478x0.16413)\n",
              "NumOfProducts      AxesSubplot(0.529348,0.518913;0.168478x0.16413)\n",
              "HasCrCard          AxesSubplot(0.731522,0.518913;0.168478x0.16413)\n",
              "IsActiveMember        AxesSubplot(0.125,0.321957;0.168478x0.16413)\n",
              "EstimatedSalary    AxesSubplot(0.327174,0.321957;0.168478x0.16413)\n",
              "Exited             AxesSubplot(0.529348,0.321957;0.168478x0.16413)\n",
              "dtype: object"
            ]
          },
          "metadata": {},
          "execution_count": 39
        },
        {
          "output_type": "display_data",
          "data": {
            "text/plain": [
              "<Figure size 1440x1080 with 16 Axes>"
            ],
            "image/png": "[encoded data removed]"
          },
          "metadata": {
            "needs_background": "light"
          }
        }
      ]
    },
    {
      "cell_type": "markdown",
      "source": [
        "Terdapat outliers pada CreditScore, Age, NumOfProducts tetapi ini represent natural variations di populasi. Jadi tidak perlu dihapus."
      ],
      "metadata": {
        "id": "ZUa4FTyn_KuG"
      }
    },
    {
      "cell_type": "markdown",
      "source": [
        "# Data Preprocessing"
      ],
      "metadata": {
        "id": "twe4vmoA800a"
      }
    },
    {
      "cell_type": "markdown",
      "source": [
        "## Feature Selection"
      ],
      "metadata": {
        "id": "J8tpeVrRl2eH"
      }
    },
    {
      "cell_type": "code",
      "source": [
        "df.drop([\"RowNumber\", \"CustomerId\", \"Surname\", \"Age_group\", \"EstimatedSalary_group\", \"CreditScore_group\", \"Balance_group\", \"EstimatedSalary\"], axis=1, inplace=True)"
      ],
      "metadata": {
        "id": "5_x4xxocl2IX"
      },
      "execution_count": null,
      "outputs": []
    },
    {
      "cell_type": "markdown",
      "source": [
        "Setelah melakukan EDA, kolom RowNumber, CustomerId, Surname, Age_group, EstimatedSalary_group, CreditScore_group,Balance_group, dan EstimatedSalary dihapus karena pengaruh nya kecil terhadap peningkatan hasil akurasi dalam prediksi."
      ],
      "metadata": {
        "id": "RxbvY6HVk4Im"
      }
    },
    {
      "cell_type": "markdown",
      "source": [
        "### Are the variables statistically significant?"
      ],
      "metadata": {
        "id": "6WuMt7bHsa2r"
      }
    },
    {
      "cell_type": "code",
      "source": [
        "# If p-value < 0.05 -->Significant\n",
        "# If p-value > 0.05 -->Not Significant\n",
        "\n",
        "chi2_array, p_array = [], []\n",
        "for column in categorical:\n",
        "\n",
        "    crosstab = pd.crosstab(df[column], df['Exited'])\n",
        "    chi2, p, dof, expected = chi2_contingency(crosstab)\n",
        "    chi2_array.append(chi2)\n",
        "    p_array.append(p)\n",
        "\n",
        "df_chi = pd.DataFrame({\n",
        "    'Variable': categorical,\n",
        "    'Chi-square': chi2_array,\n",
        "    'p-value': p_array\n",
        "})\n",
        "df_chi.sort_values(by='Chi-square', ascending=False)"
      ],
      "metadata": {
        "id": "IsWsKmdTsgsu",
        "colab": {
          "base_uri": "https://localhost:8080/",
          "height": 238
        },
        "outputId": "11831359-3de0-4a05-9d1a-51a790b2bc85"
      },
      "execution_count": null,
      "outputs": [
        {
          "output_type": "execute_result",
          "data": {
            "text/plain": [
              "         Variable   Chi-square       p-value\n",
              "3   NumOfProducts  1503.629362  0.000000e+00\n",
              "0       Geography   301.255337  3.830318e-66\n",
              "5  IsActiveMember   242.985342  8.785858e-55\n",
              "1          Gender   112.918571  2.248210e-26\n",
              "2          Tenure    13.900373  1.775846e-01\n",
              "4       HasCrCard     0.471338  4.923724e-01"
            ],
            "text/html": [
              "\n",
              "  <div id=\"df-9629eeab-a8d7-43b4-85b3-08db675dd29a\">\n",
              "    <div class=\"colab-df-container\">\n",
              "      <div>\n",
              "<style scoped>\n",
              "    .dataframe tbody tr th:only-of-type {\n",
              "        vertical-align: middle;\n",
              "    }\n",
              "\n",
              "    .dataframe tbody tr th {\n",
              "        vertical-align: top;\n",
              "    }\n",
              "\n",
              "    .dataframe thead th {\n",
              "        text-align: right;\n",
              "    }\n",
              "</style>\n",
              "<table border=\"1\" class=\"dataframe\">\n",
              "  <thead>\n",
              "    <tr style=\"text-align: right;\">\n",
              "      <th></th>\n",
              "      <th>Variable</th>\n",
              "      <th>Chi-square</th>\n",
              "      <th>p-value</th>\n",
              "    </tr>\n",
              "  </thead>\n",
              "  <tbody>\n",
              "    <tr>\n",
              "      <th>3</th>\n",
              "      <td>NumOfProducts</td>\n",
              "      <td>1503.629362</td>\n",
              "      <td>0.000000e+00</td>\n",
              "    </tr>\n",
              "    <tr>\n",
              "      <th>0</th>\n",
              "      <td>Geography</td>\n",
              "      <td>301.255337</td>\n",
              "      <td>3.830318e-66</td>\n",
              "    </tr>\n",
              "    <tr>\n",
              "      <th>5</th>\n",
              "      <td>IsActiveMember</td>\n",
              "      <td>242.985342</td>\n",
              "      <td>8.785858e-55</td>\n",
              "    </tr>\n",
              "    <tr>\n",
              "      <th>1</th>\n",
              "      <td>Gender</td>\n",
              "      <td>112.918571</td>\n",
              "      <td>2.248210e-26</td>\n",
              "    </tr>\n",
              "    <tr>\n",
              "      <th>2</th>\n",
              "      <td>Tenure</td>\n",
              "      <td>13.900373</td>\n",
              "      <td>1.775846e-01</td>\n",
              "    </tr>\n",
              "    <tr>\n",
              "      <th>4</th>\n",
              "      <td>HasCrCard</td>\n",
              "      <td>0.471338</td>\n",
              "      <td>4.923724e-01</td>\n",
              "    </tr>\n",
              "  </tbody>\n",
              "</table>\n",
              "</div>\n",
              "      <button class=\"colab-df-convert\" onclick=\"convertToInteractive('df-9629eeab-a8d7-43b4-85b3-08db675dd29a')\"\n",
              "              title=\"Convert this dataframe to an interactive table.\"\n",
              "              style=\"display:none;\">\n",
              "        \n",
              "  <svg xmlns=\"http://www.w3.org/2000/svg\" height=\"24px\"viewBox=\"0 0 24 24\"\n",
              "       width=\"24px\">\n",
              "    <path d=\"M0 0h24v24H0V0z\" fill=\"none\"/>\n",
              "    <path d=\"M18.56 5.44l.94 2.06.94-2.06 2.06-.94-2.06-.94-.94-2.06-.94 2.06-2.06.94zm-11 1L8.5 8.5l.94-2.06 2.06-.94-2.06-.94L8.5 2.5l-.94 2.06-2.06.94zm10 10l.94 2.06.94-2.06 2.06-.94-2.06-.94-.94-2.06-.94 2.06-2.06.94z\"/><path d=\"M17.41 7.96l-1.37-1.37c-.4-.4-.92-.59-1.43-.59-.52 0-1.04.2-1.43.59L10.3 9.45l-7.72 7.72c-.78.78-.78 2.05 0 2.83L4 21.41c.39.39.9.59 1.41.59.51 0 1.02-.2 1.41-.59l7.78-7.78 2.81-2.81c.8-.78.8-2.07 0-2.86zM5.41 20L4 18.59l7.72-7.72 1.47 1.35L5.41 20z\"/>\n",
              "  </svg>\n",
              "      </button>\n",
              "      \n",
              "  <style>\n",
              "    .colab-df-container {\n",
              "      display:flex;\n",
              "      flex-wrap:wrap;\n",
              "      gap: 12px;\n",
              "    }\n",
              "\n",
              "    .colab-df-convert {\n",
              "      background-color: #E8F0FE;\n",
              "      border: none;\n",
              "      border-radius: 50%;\n",
              "      cursor: pointer;\n",
              "      display: none;\n",
              "      fill: #1967D2;\n",
              "      height: 32px;\n",
              "      padding: 0 0 0 0;\n",
              "      width: 32px;\n",
              "    }\n",
              "\n",
              "    .colab-df-convert:hover {\n",
              "      background-color: #E2EBFA;\n",
              "      box-shadow: 0px 1px 2px rgba(60, 64, 67, 0.3), 0px 1px 3px 1px rgba(60, 64, 67, 0.15);\n",
              "      fill: #174EA6;\n",
              "    }\n",
              "\n",
              "    [theme=dark] .colab-df-convert {\n",
              "      background-color: #3B4455;\n",
              "      fill: #D2E3FC;\n",
              "    }\n",
              "\n",
              "    [theme=dark] .colab-df-convert:hover {\n",
              "      background-color: #434B5C;\n",
              "      box-shadow: 0px 1px 3px 1px rgba(0, 0, 0, 0.15);\n",
              "      filter: drop-shadow(0px 1px 2px rgba(0, 0, 0, 0.3));\n",
              "      fill: #FFFFFF;\n",
              "    }\n",
              "  </style>\n",
              "\n",
              "      <script>\n",
              "        const buttonEl =\n",
              "          document.querySelector('#df-9629eeab-a8d7-43b4-85b3-08db675dd29a button.colab-df-convert');\n",
              "        buttonEl.style.display =\n",
              "          google.colab.kernel.accessAllowed ? 'block' : 'none';\n",
              "\n",
              "        async function convertToInteractive(key) {\n",
              "          const element = document.querySelector('#df-9629eeab-a8d7-43b4-85b3-08db675dd29a');\n",
              "          const dataTable =\n",
              "            await google.colab.kernel.invokeFunction('convertToInteractive',\n",
              "                                                     [key], {});\n",
              "          if (!dataTable) return;\n",
              "\n",
              "          const docLinkHtml = 'Like what you see? Visit the ' +\n",
              "            '<a target=\"_blank\" href=https://colab.research.google.com/notebooks/data_table.ipynb>data table notebook</a>'\n",
              "            + ' to learn more about interactive tables.';\n",
              "          element.innerHTML = '';\n",
              "          dataTable['output_type'] = 'display_data';\n",
              "          await google.colab.output.renderOutput(dataTable, element);\n",
              "          const docLink = document.createElement('div');\n",
              "          docLink.innerHTML = docLinkHtml;\n",
              "          element.appendChild(docLink);\n",
              "        }\n",
              "      </script>\n",
              "    </div>\n",
              "  </div>\n",
              "  "
            ]
          },
          "metadata": {},
          "execution_count": 41
        }
      ]
    },
    {
      "cell_type": "markdown",
      "source": [
        "Cek variable yang signifikan terhadap model yang ingin dibuat, nilai p-value < 0.05 berarti variable signifikan dan p-value > 0.05 berarti variable tidak signifikan."
      ],
      "metadata": {
        "id": "T197c8KdpK_1"
      }
    },
    {
      "cell_type": "code",
      "source": [
        "df.drop(['Tenure', \"HasCrCard\"], axis=1, inplace=True)"
      ],
      "metadata": {
        "id": "p4OxwYqawiDV"
      },
      "execution_count": null,
      "outputs": []
    },
    {
      "cell_type": "markdown",
      "source": [
        "Berdasarkan pengecekan variable signifikan, kolom Tenure dan HasCrCard dihapus karena kurang signifikan dilihat dari nilai p-value variable nya."
      ],
      "metadata": {
        "id": "UUl5ZuP6p7e0"
      }
    },
    {
      "cell_type": "markdown",
      "source": [
        "## Encoding Categorical Feature"
      ],
      "metadata": {
        "id": "Ait_ktflw-0p"
      }
    },
    {
      "cell_type": "code",
      "source": [
        "df = pd.get_dummies(df, columns=[\"Gender\"], drop_first = True)"
      ],
      "metadata": {
        "id": "udL7CgpBfQG9"
      },
      "execution_count": null,
      "outputs": []
    },
    {
      "cell_type": "code",
      "source": [
        "df = pd.get_dummies(df, columns=[\"Geography\"], drop_first = True)"
      ],
      "metadata": {
        "id": "c8iGJEKdiHa4"
      },
      "execution_count": null,
      "outputs": []
    },
    {
      "cell_type": "code",
      "source": [
        "df"
      ],
      "metadata": {
        "id": "gIEb-3N8iA-K",
        "colab": {
          "base_uri": "https://localhost:8080/",
          "height": 488
        },
        "outputId": "c2a130e6-041a-49ab-94ec-150a29fd17dc"
      },
      "execution_count": null,
      "outputs": [
        {
          "output_type": "execute_result",
          "data": {
            "text/plain": [
              "      CreditScore  Age    Balance  NumOfProducts  IsActiveMember  Exited  \\\n",
              "0             619   42       0.00              1               1       1   \n",
              "1             608   41   83807.86              1               1       0   \n",
              "2             502   42  159660.80              3               0       1   \n",
              "3             699   39       0.00              2               0       0   \n",
              "4             850   43  125510.82              1               1       0   \n",
              "...           ...  ...        ...            ...             ...     ...   \n",
              "9995          771   39       0.00              2               0       0   \n",
              "9996          516   35   57369.61              1               1       0   \n",
              "9997          709   36       0.00              1               1       1   \n",
              "9998          772   42   75075.31              2               0       1   \n",
              "9999          792   28  130142.79              1               0       0   \n",
              "\n",
              "      Gender_Male  Geography_Germany  Geography_Spain  \n",
              "0               0                  0                0  \n",
              "1               0                  0                1  \n",
              "2               0                  0                0  \n",
              "3               0                  0                0  \n",
              "4               0                  0                1  \n",
              "...           ...                ...              ...  \n",
              "9995            1                  0                0  \n",
              "9996            1                  0                0  \n",
              "9997            0                  0                0  \n",
              "9998            1                  1                0  \n",
              "9999            0                  0                0  \n",
              "\n",
              "[10000 rows x 9 columns]"
            ],
            "text/html": [
              "\n",
              "  <div id=\"df-fea8e38a-d3ea-4ec0-9902-d1d9a91d9244\">\n",
              "    <div class=\"colab-df-container\">\n",
              "      <div>\n",
              "<style scoped>\n",
              "    .dataframe tbody tr th:only-of-type {\n",
              "        vertical-align: middle;\n",
              "    }\n",
              "\n",
              "    .dataframe tbody tr th {\n",
              "        vertical-align: top;\n",
              "    }\n",
              "\n",
              "    .dataframe thead th {\n",
              "        text-align: right;\n",
              "    }\n",
              "</style>\n",
              "<table border=\"1\" class=\"dataframe\">\n",
              "  <thead>\n",
              "    <tr style=\"text-align: right;\">\n",
              "      <th></th>\n",
              "      <th>CreditScore</th>\n",
              "      <th>Age</th>\n",
              "      <th>Balance</th>\n",
              "      <th>NumOfProducts</th>\n",
              "      <th>IsActiveMember</th>\n",
              "      <th>Exited</th>\n",
              "      <th>Gender_Male</th>\n",
              "      <th>Geography_Germany</th>\n",
              "      <th>Geography_Spain</th>\n",
              "    </tr>\n",
              "  </thead>\n",
              "  <tbody>\n",
              "    <tr>\n",
              "      <th>0</th>\n",
              "      <td>619</td>\n",
              "      <td>42</td>\n",
              "      <td>0.00</td>\n",
              "      <td>1</td>\n",
              "      <td>1</td>\n",
              "      <td>1</td>\n",
              "      <td>0</td>\n",
              "      <td>0</td>\n",
              "      <td>0</td>\n",
              "    </tr>\n",
              "    <tr>\n",
              "      <th>1</th>\n",
              "      <td>608</td>\n",
              "      <td>41</td>\n",
              "      <td>83807.86</td>\n",
              "      <td>1</td>\n",
              "      <td>1</td>\n",
              "      <td>0</td>\n",
              "      <td>0</td>\n",
              "      <td>0</td>\n",
              "      <td>1</td>\n",
              "    </tr>\n",
              "    <tr>\n",
              "      <th>2</th>\n",
              "      <td>502</td>\n",
              "      <td>42</td>\n",
              "      <td>159660.80</td>\n",
              "      <td>3</td>\n",
              "      <td>0</td>\n",
              "      <td>1</td>\n",
              "      <td>0</td>\n",
              "      <td>0</td>\n",
              "      <td>0</td>\n",
              "    </tr>\n",
              "    <tr>\n",
              "      <th>3</th>\n",
              "      <td>699</td>\n",
              "      <td>39</td>\n",
              "      <td>0.00</td>\n",
              "      <td>2</td>\n",
              "      <td>0</td>\n",
              "      <td>0</td>\n",
              "      <td>0</td>\n",
              "      <td>0</td>\n",
              "      <td>0</td>\n",
              "    </tr>\n",
              "    <tr>\n",
              "      <th>4</th>\n",
              "      <td>850</td>\n",
              "      <td>43</td>\n",
              "      <td>125510.82</td>\n",
              "      <td>1</td>\n",
              "      <td>1</td>\n",
              "      <td>0</td>\n",
              "      <td>0</td>\n",
              "      <td>0</td>\n",
              "      <td>1</td>\n",
              "    </tr>\n",
              "    <tr>\n",
              "      <th>...</th>\n",
              "      <td>...</td>\n",
              "      <td>...</td>\n",
              "      <td>...</td>\n",
              "      <td>...</td>\n",
              "      <td>...</td>\n",
              "      <td>...</td>\n",
              "      <td>...</td>\n",
              "      <td>...</td>\n",
              "      <td>...</td>\n",
              "    </tr>\n",
              "    <tr>\n",
              "      <th>9995</th>\n",
              "      <td>771</td>\n",
              "      <td>39</td>\n",
              "      <td>0.00</td>\n",
              "      <td>2</td>\n",
              "      <td>0</td>\n",
              "      <td>0</td>\n",
              "      <td>1</td>\n",
              "      <td>0</td>\n",
              "      <td>0</td>\n",
              "    </tr>\n",
              "    <tr>\n",
              "      <th>9996</th>\n",
              "      <td>516</td>\n",
              "      <td>35</td>\n",
              "      <td>57369.61</td>\n",
              "      <td>1</td>\n",
              "      <td>1</td>\n",
              "      <td>0</td>\n",
              "      <td>1</td>\n",
              "      <td>0</td>\n",
              "      <td>0</td>\n",
              "    </tr>\n",
              "    <tr>\n",
              "      <th>9997</th>\n",
              "      <td>709</td>\n",
              "      <td>36</td>\n",
              "      <td>0.00</td>\n",
              "      <td>1</td>\n",
              "      <td>1</td>\n",
              "      <td>1</td>\n",
              "      <td>0</td>\n",
              "      <td>0</td>\n",
              "      <td>0</td>\n",
              "    </tr>\n",
              "    <tr>\n",
              "      <th>9998</th>\n",
              "      <td>772</td>\n",
              "      <td>42</td>\n",
              "      <td>75075.31</td>\n",
              "      <td>2</td>\n",
              "      <td>0</td>\n",
              "      <td>1</td>\n",
              "      <td>1</td>\n",
              "      <td>1</td>\n",
              "      <td>0</td>\n",
              "    </tr>\n",
              "    <tr>\n",
              "      <th>9999</th>\n",
              "      <td>792</td>\n",
              "      <td>28</td>\n",
              "      <td>130142.79</td>\n",
              "      <td>1</td>\n",
              "      <td>0</td>\n",
              "      <td>0</td>\n",
              "      <td>0</td>\n",
              "      <td>0</td>\n",
              "      <td>0</td>\n",
              "    </tr>\n",
              "  </tbody>\n",
              "</table>\n",
              "<p>10000 rows × 9 columns</p>\n",
              "</div>\n",
              "      <button class=\"colab-df-convert\" onclick=\"convertToInteractive('df-fea8e38a-d3ea-4ec0-9902-d1d9a91d9244')\"\n",
              "              title=\"Convert this dataframe to an interactive table.\"\n",
              "              style=\"display:none;\">\n",
              "        \n",
              "  <svg xmlns=\"http://www.w3.org/2000/svg\" height=\"24px\"viewBox=\"0 0 24 24\"\n",
              "       width=\"24px\">\n",
              "    <path d=\"M0 0h24v24H0V0z\" fill=\"none\"/>\n",
              "    <path d=\"M18.56 5.44l.94 2.06.94-2.06 2.06-.94-2.06-.94-.94-2.06-.94 2.06-2.06.94zm-11 1L8.5 8.5l.94-2.06 2.06-.94-2.06-.94L8.5 2.5l-.94 2.06-2.06.94zm10 10l.94 2.06.94-2.06 2.06-.94-2.06-.94-.94-2.06-.94 2.06-2.06.94z\"/><path d=\"M17.41 7.96l-1.37-1.37c-.4-.4-.92-.59-1.43-.59-.52 0-1.04.2-1.43.59L10.3 9.45l-7.72 7.72c-.78.78-.78 2.05 0 2.83L4 21.41c.39.39.9.59 1.41.59.51 0 1.02-.2 1.41-.59l7.78-7.78 2.81-2.81c.8-.78.8-2.07 0-2.86zM5.41 20L4 18.59l7.72-7.72 1.47 1.35L5.41 20z\"/>\n",
              "  </svg>\n",
              "      </button>\n",
              "      \n",
              "  <style>\n",
              "    .colab-df-container {\n",
              "      display:flex;\n",
              "      flex-wrap:wrap;\n",
              "      gap: 12px;\n",
              "    }\n",
              "\n",
              "    .colab-df-convert {\n",
              "      background-color: #E8F0FE;\n",
              "      border: none;\n",
              "      border-radius: 50%;\n",
              "      cursor: pointer;\n",
              "      display: none;\n",
              "      fill: #1967D2;\n",
              "      height: 32px;\n",
              "      padding: 0 0 0 0;\n",
              "      width: 32px;\n",
              "    }\n",
              "\n",
              "    .colab-df-convert:hover {\n",
              "      background-color: #E2EBFA;\n",
              "      box-shadow: 0px 1px 2px rgba(60, 64, 67, 0.3), 0px 1px 3px 1px rgba(60, 64, 67, 0.15);\n",
              "      fill: #174EA6;\n",
              "    }\n",
              "\n",
              "    [theme=dark] .colab-df-convert {\n",
              "      background-color: #3B4455;\n",
              "      fill: #D2E3FC;\n",
              "    }\n",
              "\n",
              "    [theme=dark] .colab-df-convert:hover {\n",
              "      background-color: #434B5C;\n",
              "      box-shadow: 0px 1px 3px 1px rgba(0, 0, 0, 0.15);\n",
              "      filter: drop-shadow(0px 1px 2px rgba(0, 0, 0, 0.3));\n",
              "      fill: #FFFFFF;\n",
              "    }\n",
              "  </style>\n",
              "\n",
              "      <script>\n",
              "        const buttonEl =\n",
              "          document.querySelector('#df-fea8e38a-d3ea-4ec0-9902-d1d9a91d9244 button.colab-df-convert');\n",
              "        buttonEl.style.display =\n",
              "          google.colab.kernel.accessAllowed ? 'block' : 'none';\n",
              "\n",
              "        async function convertToInteractive(key) {\n",
              "          const element = document.querySelector('#df-fea8e38a-d3ea-4ec0-9902-d1d9a91d9244');\n",
              "          const dataTable =\n",
              "            await google.colab.kernel.invokeFunction('convertToInteractive',\n",
              "                                                     [key], {});\n",
              "          if (!dataTable) return;\n",
              "\n",
              "          const docLinkHtml = 'Like what you see? Visit the ' +\n",
              "            '<a target=\"_blank\" href=https://colab.research.google.com/notebooks/data_table.ipynb>data table notebook</a>'\n",
              "            + ' to learn more about interactive tables.';\n",
              "          element.innerHTML = '';\n",
              "          dataTable['output_type'] = 'display_data';\n",
              "          await google.colab.output.renderOutput(dataTable, element);\n",
              "          const docLink = document.createElement('div');\n",
              "          docLink.innerHTML = docLinkHtml;\n",
              "          element.appendChild(docLink);\n",
              "        }\n",
              "      </script>\n",
              "    </div>\n",
              "  </div>\n",
              "  "
            ]
          },
          "metadata": {},
          "execution_count": 45
        }
      ]
    },
    {
      "cell_type": "markdown",
      "source": [
        "- Encoding Categorical Feature -> mengganti categorical data into binary vector representation\n",
        "- Ini digunakan saat working dengan machine learning algorithms seperti decision trees and support vector machines yang hanya menerima numeric inputs.\n",
        "- Nilai dalam kolom direpresentasikan sebagai 1 dan 0 seperti di atas."
      ],
      "metadata": {
        "id": "H8ws3383KMnB"
      }
    },
    {
      "cell_type": "markdown",
      "source": [
        "## Feature Scaling"
      ],
      "metadata": {
        "id": "SB8J2MvQxCij"
      }
    },
    {
      "cell_type": "code",
      "source": [
        "#scaler = StandardScaler()\n",
        "scaler = MinMaxScaler(feature_range=(0,1))\n",
        "\n",
        "select_columns = ['CreditScore', 'Age', 'Balance']\n",
        "df[select_columns] = scaler.fit_transform(df[select_columns])\n",
        "\n",
        "print('Features Scaled!')"
      ],
      "metadata": {
        "id": "ffl4X8SAYl-B",
        "colab": {
          "base_uri": "https://localhost:8080/"
        },
        "outputId": "7d1c2c02-ecdb-45fe-f107-4ec743cee181"
      },
      "execution_count": null,
      "outputs": [
        {
          "output_type": "stream",
          "name": "stdout",
          "text": [
            "Features Scaled!\n"
          ]
        }
      ]
    },
    {
      "cell_type": "code",
      "source": [
        "df.head()"
      ],
      "metadata": {
        "id": "E8v3udJ2wSb2",
        "colab": {
          "base_uri": "https://localhost:8080/",
          "height": 206
        },
        "outputId": "c8b0ba93-0777-4976-9b6c-71dd73529bac"
      },
      "execution_count": null,
      "outputs": [
        {
          "output_type": "execute_result",
          "data": {
            "text/plain": [
              "   CreditScore       Age   Balance  NumOfProducts  IsActiveMember  Exited  \\\n",
              "0        0.538  0.324324  0.000000              1               1       1   \n",
              "1        0.516  0.310811  0.334031              1               1       0   \n",
              "2        0.304  0.324324  0.636357              3               0       1   \n",
              "3        0.698  0.283784  0.000000              2               0       0   \n",
              "4        1.000  0.337838  0.500246              1               1       0   \n",
              "\n",
              "   Gender_Male  Geography_Germany  Geography_Spain  \n",
              "0            0                  0                0  \n",
              "1            0                  0                1  \n",
              "2            0                  0                0  \n",
              "3            0                  0                0  \n",
              "4            0                  0                1  "
            ],
            "text/html": [
              "\n",
              "  <div id=\"df-19db641e-4c12-4cd9-9539-a7c9ed36d996\">\n",
              "    <div class=\"colab-df-container\">\n",
              "      <div>\n",
              "<style scoped>\n",
              "    .dataframe tbody tr th:only-of-type {\n",
              "        vertical-align: middle;\n",
              "    }\n",
              "\n",
              "    .dataframe tbody tr th {\n",
              "        vertical-align: top;\n",
              "    }\n",
              "\n",
              "    .dataframe thead th {\n",
              "        text-align: right;\n",
              "    }\n",
              "</style>\n",
              "<table border=\"1\" class=\"dataframe\">\n",
              "  <thead>\n",
              "    <tr style=\"text-align: right;\">\n",
              "      <th></th>\n",
              "      <th>CreditScore</th>\n",
              "      <th>Age</th>\n",
              "      <th>Balance</th>\n",
              "      <th>NumOfProducts</th>\n",
              "      <th>IsActiveMember</th>\n",
              "      <th>Exited</th>\n",
              "      <th>Gender_Male</th>\n",
              "      <th>Geography_Germany</th>\n",
              "      <th>Geography_Spain</th>\n",
              "    </tr>\n",
              "  </thead>\n",
              "  <tbody>\n",
              "    <tr>\n",
              "      <th>0</th>\n",
              "      <td>0.538</td>\n",
              "      <td>0.324324</td>\n",
              "      <td>0.000000</td>\n",
              "      <td>1</td>\n",
              "      <td>1</td>\n",
              "      <td>1</td>\n",
              "      <td>0</td>\n",
              "      <td>0</td>\n",
              "      <td>0</td>\n",
              "    </tr>\n",
              "    <tr>\n",
              "      <th>1</th>\n",
              "      <td>0.516</td>\n",
              "      <td>0.310811</td>\n",
              "      <td>0.334031</td>\n",
              "      <td>1</td>\n",
              "      <td>1</td>\n",
              "      <td>0</td>\n",
              "      <td>0</td>\n",
              "      <td>0</td>\n",
              "      <td>1</td>\n",
              "    </tr>\n",
              "    <tr>\n",
              "      <th>2</th>\n",
              "      <td>0.304</td>\n",
              "      <td>0.324324</td>\n",
              "      <td>0.636357</td>\n",
              "      <td>3</td>\n",
              "      <td>0</td>\n",
              "      <td>1</td>\n",
              "      <td>0</td>\n",
              "      <td>0</td>\n",
              "      <td>0</td>\n",
              "    </tr>\n",
              "    <tr>\n",
              "      <th>3</th>\n",
              "      <td>0.698</td>\n",
              "      <td>0.283784</td>\n",
              "      <td>0.000000</td>\n",
              "      <td>2</td>\n",
              "      <td>0</td>\n",
              "      <td>0</td>\n",
              "      <td>0</td>\n",
              "      <td>0</td>\n",
              "      <td>0</td>\n",
              "    </tr>\n",
              "    <tr>\n",
              "      <th>4</th>\n",
              "      <td>1.000</td>\n",
              "      <td>0.337838</td>\n",
              "      <td>0.500246</td>\n",
              "      <td>1</td>\n",
              "      <td>1</td>\n",
              "      <td>0</td>\n",
              "      <td>0</td>\n",
              "      <td>0</td>\n",
              "      <td>1</td>\n",
              "    </tr>\n",
              "  </tbody>\n",
              "</table>\n",
              "</div>\n",
              "      <button class=\"colab-df-convert\" onclick=\"convertToInteractive('df-19db641e-4c12-4cd9-9539-a7c9ed36d996')\"\n",
              "              title=\"Convert this dataframe to an interactive table.\"\n",
              "              style=\"display:none;\">\n",
              "        \n",
              "  <svg xmlns=\"http://www.w3.org/2000/svg\" height=\"24px\"viewBox=\"0 0 24 24\"\n",
              "       width=\"24px\">\n",
              "    <path d=\"M0 0h24v24H0V0z\" fill=\"none\"/>\n",
              "    <path d=\"M18.56 5.44l.94 2.06.94-2.06 2.06-.94-2.06-.94-.94-2.06-.94 2.06-2.06.94zm-11 1L8.5 8.5l.94-2.06 2.06-.94-2.06-.94L8.5 2.5l-.94 2.06-2.06.94zm10 10l.94 2.06.94-2.06 2.06-.94-2.06-.94-.94-2.06-.94 2.06-2.06.94z\"/><path d=\"M17.41 7.96l-1.37-1.37c-.4-.4-.92-.59-1.43-.59-.52 0-1.04.2-1.43.59L10.3 9.45l-7.72 7.72c-.78.78-.78 2.05 0 2.83L4 21.41c.39.39.9.59 1.41.59.51 0 1.02-.2 1.41-.59l7.78-7.78 2.81-2.81c.8-.78.8-2.07 0-2.86zM5.41 20L4 18.59l7.72-7.72 1.47 1.35L5.41 20z\"/>\n",
              "  </svg>\n",
              "      </button>\n",
              "      \n",
              "  <style>\n",
              "    .colab-df-container {\n",
              "      display:flex;\n",
              "      flex-wrap:wrap;\n",
              "      gap: 12px;\n",
              "    }\n",
              "\n",
              "    .colab-df-convert {\n",
              "      background-color: #E8F0FE;\n",
              "      border: none;\n",
              "      border-radius: 50%;\n",
              "      cursor: pointer;\n",
              "      display: none;\n",
              "      fill: #1967D2;\n",
              "      height: 32px;\n",
              "      padding: 0 0 0 0;\n",
              "      width: 32px;\n",
              "    }\n",
              "\n",
              "    .colab-df-convert:hover {\n",
              "      background-color: #E2EBFA;\n",
              "      box-shadow: 0px 1px 2px rgba(60, 64, 67, 0.3), 0px 1px 3px 1px rgba(60, 64, 67, 0.15);\n",
              "      fill: #174EA6;\n",
              "    }\n",
              "\n",
              "    [theme=dark] .colab-df-convert {\n",
              "      background-color: #3B4455;\n",
              "      fill: #D2E3FC;\n",
              "    }\n",
              "\n",
              "    [theme=dark] .colab-df-convert:hover {\n",
              "      background-color: #434B5C;\n",
              "      box-shadow: 0px 1px 3px 1px rgba(0, 0, 0, 0.15);\n",
              "      filter: drop-shadow(0px 1px 2px rgba(0, 0, 0, 0.3));\n",
              "      fill: #FFFFFF;\n",
              "    }\n",
              "  </style>\n",
              "\n",
              "      <script>\n",
              "        const buttonEl =\n",
              "          document.querySelector('#df-19db641e-4c12-4cd9-9539-a7c9ed36d996 button.colab-df-convert');\n",
              "        buttonEl.style.display =\n",
              "          google.colab.kernel.accessAllowed ? 'block' : 'none';\n",
              "\n",
              "        async function convertToInteractive(key) {\n",
              "          const element = document.querySelector('#df-19db641e-4c12-4cd9-9539-a7c9ed36d996');\n",
              "          const dataTable =\n",
              "            await google.colab.kernel.invokeFunction('convertToInteractive',\n",
              "                                                     [key], {});\n",
              "          if (!dataTable) return;\n",
              "\n",
              "          const docLinkHtml = 'Like what you see? Visit the ' +\n",
              "            '<a target=\"_blank\" href=https://colab.research.google.com/notebooks/data_table.ipynb>data table notebook</a>'\n",
              "            + ' to learn more about interactive tables.';\n",
              "          element.innerHTML = '';\n",
              "          dataTable['output_type'] = 'display_data';\n",
              "          await google.colab.output.renderOutput(dataTable, element);\n",
              "          const docLink = document.createElement('div');\n",
              "          docLink.innerHTML = docLinkHtml;\n",
              "          element.appendChild(docLink);\n",
              "        }\n",
              "      </script>\n",
              "    </div>\n",
              "  </div>\n",
              "  "
            ]
          },
          "metadata": {},
          "execution_count": 47
        }
      ]
    },
    {
      "cell_type": "markdown",
      "source": [
        "# Creating a Train and Test Set"
      ],
      "metadata": {
        "id": "fHX5vqoWxIUA"
      }
    },
    {
      "cell_type": "code",
      "source": [
        "X = df.drop([\"Exited\"], axis=1)\n",
        "y = df[\"Exited\"]"
      ],
      "metadata": {
        "id": "sZ2Sro_20YcG"
      },
      "execution_count": null,
      "outputs": []
    },
    {
      "cell_type": "markdown",
      "source": [
        "Target variable (Y) pada modelling adalah `Exited`. Hapus kolom variable target untuk independent variable (X) agar datanya tidak mengandung kolom dari nilai yang mau diprediksi."
      ],
      "metadata": {
        "id": "i03o2dRGqpFD"
      }
    },
    {
      "cell_type": "code",
      "source": [
        "train_df, test_df = train_test_split(df, test_size=0.2, random_state=42)"
      ],
      "metadata": {
        "id": "4lUJzT3wzydQ"
      },
      "execution_count": null,
      "outputs": []
    },
    {
      "cell_type": "markdown",
      "source": [
        "Split data modelling menjadi training dan test set dengan proporsi test set 20% dan training set 80% dari jumlah data."
      ],
      "metadata": {
        "id": "FtfslK19rltJ"
      }
    },
    {
      "cell_type": "code",
      "source": [
        "print('Train set: {} rows x {} columns'.format(train_df.shape[0],\n",
        "                                               train_df.shape[1]))\n",
        "print(' Test set: {} rows x {} columns'.format(test_df.shape[0],\n",
        "                                               test_df.shape[1]))"
      ],
      "metadata": {
        "id": "QR2bx3iL4Esk",
        "colab": {
          "base_uri": "https://localhost:8080/"
        },
        "outputId": "7191ea62-c1ea-4120-c23d-48e975d07b70"
      },
      "execution_count": null,
      "outputs": [
        {
          "output_type": "stream",
          "name": "stdout",
          "text": [
            "Train set: 8000 rows x 9 columns\n",
            " Test set: 2000 rows x 9 columns\n"
          ]
        }
      ]
    },
    {
      "cell_type": "markdown",
      "source": [
        "Lihat dimensi dari training set dan test set yang sudah dibuat. Ada 8000 baris dan 9 kolom training set. Untuk test set, berisi 2000 baris dan 9 kolom data."
      ],
      "metadata": {
        "id": "No5XDvjSr5Ej"
      }
    },
    {
      "cell_type": "code",
      "source": [
        "X_train, X_test, y_train, y_test = train_test_split(df.drop('Exited',axis=1),\n",
        "                                                    df['Exited'], test_size=0.2,\n",
        "                                                    random_state=42)"
      ],
      "metadata": {
        "id": "83LCye2D0QYW"
      },
      "execution_count": null,
      "outputs": []
    },
    {
      "cell_type": "markdown",
      "source": [
        "Split data menjadi 4 bagian. Ada training dan test set pada depedent variable (Y). Ada training dan test set pada independent variable (X). Hapus kolom target variable, yaitu `Exited` pada training dan test set yang berada di independent variable (X)."
      ],
      "metadata": {
        "id": "XnePlWJqsdgY"
      }
    },
    {
      "cell_type": "code",
      "source": [
        "print('Train set: {} rows x {} columns'.format(X_train.shape,\n",
        "                                               y_train.shape))"
      ],
      "metadata": {
        "id": "nITmmpMj2eyc",
        "colab": {
          "base_uri": "https://localhost:8080/"
        },
        "outputId": "bc62386d-364d-48ee-cc38-c9a00081a0dc"
      },
      "execution_count": null,
      "outputs": [
        {
          "output_type": "stream",
          "name": "stdout",
          "text": [
            "Train set: (8000, 8) rows x (8000,) columns\n"
          ]
        }
      ]
    },
    {
      "cell_type": "markdown",
      "source": [
        "Terdapat 8000 baris dan 8 kolom pada training set independent variable (X). Sedangkan, ada 8000 baris dan 1 kolom pada training set pada dependent variable (Y)."
      ],
      "metadata": {
        "id": "kTvdkse1s_0i"
      }
    },
    {
      "cell_type": "code",
      "source": [
        "over = SMOTE(sampling_strategy='auto', random_state=42)\n",
        "X_train, y_train = over.fit_resample(X_train, y_train)\n",
        "\n",
        "y_train.value_counts()"
      ],
      "metadata": {
        "id": "4byjpZNbKaQ8",
        "colab": {
          "base_uri": "https://localhost:8080/"
        },
        "outputId": "d66deb25-0fc1-4031-dd74-1853c42d7a0f"
      },
      "execution_count": null,
      "outputs": [
        {
          "output_type": "execute_result",
          "data": {
            "text/plain": [
              "0    6356\n",
              "1    6356\n",
              "Name: Exited, dtype: int64"
            ]
          },
          "metadata": {},
          "execution_count": 53
        }
      ]
    },
    {
      "cell_type": "markdown",
      "source": [
        "Ada 6356 baris data pada target variable. Terdapat 2 nilai pada target variable (Y) yaitu 0 berarti tidak meninggalkan bank dan 1 berarti meninggalkan bank."
      ],
      "metadata": {
        "id": "LIHWiWZXtCMs"
      }
    },
    {
      "cell_type": "markdown",
      "source": [
        "# Building Machine Learning Models"
      ],
      "metadata": {
        "id": "1KDOPn3O4TyV"
      }
    },
    {
      "cell_type": "code",
      "source": [
        "### Membuat fungsi untuk memvisualisasikan confusion matrix\n",
        "def confmatrix(y_pred, title):\n",
        "    cm = metrics.confusion_matrix(y_test, y_pred)\n",
        "    df_cm = pd.DataFrame(cm, columns=np.unique(y_test), index = np.unique(y_test))\n",
        "    df_cm.index.name = 'Actual'\n",
        "    df_cm.columns.name = 'Predicted'\n",
        "\n",
        "    plt.figure(figsize = (10,7))\n",
        "    plt.title(title)\n",
        "\n",
        "    sns.set(font_scale=1.4) # For label size\n",
        "    sns.heatmap(df_cm, cmap=\"Blues\", annot=True,annot_kws={\"size\": 16}) # Font size"
      ],
      "metadata": {
        "id": "BfKD8YMYy_xL"
      },
      "execution_count": null,
      "outputs": []
    },
    {
      "cell_type": "markdown",
      "source": [
        "Membuat fungsi untuk menampilkan confusion matrix dari hasil model machine learning menggunakan beberapa algoritma yang berbeda."
      ],
      "metadata": {
        "id": "87Y7iYOrXRHP"
      }
    },
    {
      "cell_type": "markdown",
      "source": [
        "# Logistic Regression"
      ],
      "metadata": {
        "id": "NDE8CAcU2D3S"
      }
    },
    {
      "cell_type": "code",
      "source": [
        "### Instantiate the Algorithm\n",
        "logreg = LogisticRegression()\n",
        "\n",
        "### Train/Fit the model\n",
        "logreg.fit(X_train, y_train)"
      ],
      "metadata": {
        "id": "qaOUL6p1zgTd",
        "colab": {
          "base_uri": "https://localhost:8080/"
        },
        "outputId": "ad4bb760-1d62-4069-c078-4f975a54fdd8"
      },
      "execution_count": null,
      "outputs": [
        {
          "output_type": "execute_result",
          "data": {
            "text/plain": [
              "LogisticRegression()"
            ]
          },
          "metadata": {},
          "execution_count": 55
        }
      ]
    },
    {
      "cell_type": "markdown",
      "source": [
        "Algoritma pertama yaitu logistic regression. Untuk menggunakan algoritmanya, inisialisasi algoritma terlebih dahulu lalu fit dengan data training X dan Y."
      ],
      "metadata": {
        "id": "qjFffCoca5ii"
      }
    },
    {
      "cell_type": "code",
      "source": [
        "### Predict on the test set\n",
        "logreg_pred = logreg.predict(X_test)"
      ],
      "metadata": {
        "id": "oTxVpzwHzrSj"
      },
      "execution_count": null,
      "outputs": []
    },
    {
      "cell_type": "code",
      "source": [
        "### Get performance metrics\n",
        "logreg_score = metrics.accuracy_score(y_test, logreg_pred) * 100\n",
        "\n",
        "### Print classification report\n",
        "print(\"Classification report for {}:\\n{}\".format(logreg, metrics.classification_report(y_test, logreg_pred)))\n",
        "print(\"Accuracy score:\", logreg_score)"
      ],
      "metadata": {
        "id": "7ws0F2yVzvAC",
        "colab": {
          "base_uri": "https://localhost:8080/"
        },
        "outputId": "f7da028d-053a-46b7-8e8d-df079ea71557"
      },
      "execution_count": null,
      "outputs": [
        {
          "output_type": "stream",
          "name": "stdout",
          "text": [
            "Classification report for LogisticRegression():\n",
            "              precision    recall  f1-score   support\n",
            "\n",
            "           0       0.91      0.73      0.81      1607\n",
            "           1       0.39      0.72      0.51       393\n",
            "\n",
            "    accuracy                           0.73      2000\n",
            "   macro avg       0.65      0.72      0.66      2000\n",
            "weighted avg       0.81      0.72      0.75      2000\n",
            "\n",
            "Accuracy score: 72.5\n"
          ]
        }
      ]
    },
    {
      "cell_type": "code",
      "source": [
        "logreg_score_recall = metrics.recall_score(y_test, logreg_pred, average='weighted') * 100\n",
        "logreg_score_precision = metrics.precision_score(y_test, logreg_pred, average='weighted') * 100"
      ],
      "metadata": {
        "id": "xFFDrvY-3Tlw"
      },
      "execution_count": null,
      "outputs": []
    },
    {
      "cell_type": "code",
      "source": [
        "### Plot the confusion matrix\n",
        "confmatrix(logreg_pred, \"Logistic Regession - Churn Dataset\\nConfusion Matrix\")"
      ],
      "metadata": {
        "id": "NV7ubd7xzvEY",
        "colab": {
          "base_uri": "https://localhost:8080/",
          "height": 473
        },
        "outputId": "d202ca3b-51cd-4545-f73b-673ae4b2d2d9"
      },
      "execution_count": null,
      "outputs": [
        {
          "output_type": "display_data",
          "data": {
            "text/plain": [
              "<Figure size 720x504 with 2 Axes>"
            ],
            "image/png": "[encoded data removed]"
          },
          "metadata": {
            "needs_background": "light"
          }
        }
      ]
    },
    {
      "cell_type": "markdown",
      "source": [
        "# Random Forest"
      ],
      "metadata": {
        "id": "Xd_hyIjp2A38"
      }
    },
    {
      "cell_type": "code",
      "source": [
        "### Instantiate the Algorithm\n",
        "ranfor = RandomForestClassifier()\n",
        "\n",
        "### Train/Fit the model\n",
        "ranfor.fit(X_train, y_train)"
      ],
      "metadata": {
        "id": "FM05UQpfzvME",
        "colab": {
          "base_uri": "https://localhost:8080/"
        },
        "outputId": "c679ada7-53f7-4b96-95b8-dedadbdeec8e"
      },
      "execution_count": null,
      "outputs": [
        {
          "output_type": "execute_result",
          "data": {
            "text/plain": [
              "RandomForestClassifier()"
            ]
          },
          "metadata": {},
          "execution_count": 60
        }
      ]
    },
    {
      "cell_type": "code",
      "source": [
        "ranfor_pred = ranfor.predict(X_test)"
      ],
      "metadata": {
        "id": "tMQqAAorzvPs"
      },
      "execution_count": null,
      "outputs": []
    },
    {
      "cell_type": "code",
      "source": [
        "### Get performance metrics\n",
        "ranfor_score = metrics.accuracy_score(y_test, ranfor_pred) * 100\n",
        "\n",
        "### Print classification report\n",
        "print(\"Classification report for {}:\\n{}\".format(ranfor, metrics.classification_report(y_test, ranfor_pred)))\n",
        "print(\"Accuracy score:\", ranfor_score)"
      ],
      "metadata": {
        "id": "ErTe0T1x1hN5",
        "colab": {
          "base_uri": "https://localhost:8080/"
        },
        "outputId": "82520c4c-7cc7-42d4-8862-76ab26f0ae0d"
      },
      "execution_count": null,
      "outputs": [
        {
          "output_type": "stream",
          "name": "stdout",
          "text": [
            "Classification report for RandomForestClassifier():\n",
            "              precision    recall  f1-score   support\n",
            "\n",
            "           0       0.91      0.88      0.90      1607\n",
            "           1       0.57      0.65      0.61       393\n",
            "\n",
            "    accuracy                           0.83      2000\n",
            "   macro avg       0.74      0.76      0.75      2000\n",
            "weighted avg       0.84      0.83      0.84      2000\n",
            "\n",
            "Accuracy score: 83.45\n"
          ]
        }
      ]
    },
    {
      "cell_type": "code",
      "source": [
        "ranfor_score_recall = metrics.recall_score(y_test, ranfor_pred, average='weighted') * 100\n",
        "ranfor_score_precision = metrics.precision_score(y_test, ranfor_pred, average='weighted') * 100"
      ],
      "metadata": {
        "id": "Zdgwugfo4qXZ"
      },
      "execution_count": null,
      "outputs": []
    },
    {
      "cell_type": "code",
      "source": [
        "### Plot the confusion matrix\n",
        "confmatrix(ranfor_pred, \"Random Forest - Churn Dataset\\nConfusion Matrix\")"
      ],
      "metadata": {
        "id": "rUHxqcah1hQl",
        "colab": {
          "base_uri": "https://localhost:8080/",
          "height": 499
        },
        "outputId": "c5bf6d45-be46-405e-ff6f-0fcbd9d7200e"
      },
      "execution_count": null,
      "outputs": [
        {
          "output_type": "display_data",
          "data": {
            "text/plain": [
              "<Figure size 720x504 with 2 Axes>"
            ],
            "image/png": "[encoded data removed]"
          },
          "metadata": {}
        }
      ]
    },
    {
      "cell_type": "markdown",
      "source": [
        "# Gaussian Naive Bayes"
      ],
      "metadata": {
        "id": "8ono9NXG2bro"
      }
    },
    {
      "cell_type": "code",
      "source": [
        "### Instantiate the Algorithm\n",
        "gnb = GaussianNB()\n",
        "\n",
        "### Train the model\n",
        "gnb.fit(X_train, y_train)"
      ],
      "metadata": {
        "id": "AzMLR3h71hbA",
        "colab": {
          "base_uri": "https://localhost:8080/"
        },
        "outputId": "10c531e9-89f0-49b5-f29e-40004b64bd0f"
      },
      "execution_count": null,
      "outputs": [
        {
          "output_type": "execute_result",
          "data": {
            "text/plain": [
              "GaussianNB()"
            ]
          },
          "metadata": {},
          "execution_count": 65
        }
      ]
    },
    {
      "cell_type": "code",
      "source": [
        "### Predict on the Test Set\n",
        "gnb_pred = gnb.predict(X_test)"
      ],
      "metadata": {
        "id": "LXOIifhh1hdy"
      },
      "execution_count": null,
      "outputs": []
    },
    {
      "cell_type": "code",
      "source": [
        "### Get performance metrics\n",
        "gnb_score = metrics.accuracy_score(y_test, gnb_pred) * 100\n",
        "\n",
        "### Print classification report\n",
        "print(\"Classification report for {}:\\n{}\".format(gnb, metrics.classification_report(y_test, gnb_pred)))\n",
        "print(\"Accuracy score:\", gnb_score)"
      ],
      "metadata": {
        "id": "mQvZrpeFzvU2",
        "colab": {
          "base_uri": "https://localhost:8080/"
        },
        "outputId": "724dac22-fe1c-42ba-aea3-0d7c459b0547"
      },
      "execution_count": null,
      "outputs": [
        {
          "output_type": "stream",
          "name": "stdout",
          "text": [
            "Classification report for GaussianNB():\n",
            "              precision    recall  f1-score   support\n",
            "\n",
            "           0       0.91      0.75      0.82      1607\n",
            "           1       0.40      0.70      0.51       393\n",
            "\n",
            "    accuracy                           0.74      2000\n",
            "   macro avg       0.66      0.72      0.67      2000\n",
            "weighted avg       0.81      0.74      0.76      2000\n",
            "\n",
            "Accuracy score: 73.75\n"
          ]
        }
      ]
    },
    {
      "cell_type": "code",
      "source": [
        "gnb_score_recall = metrics.recall_score(y_test, gnb_pred, average='weighted') * 100\n",
        "gnb_score_precision = metrics.precision_score(y_test, gnb_pred, average='weighted') * 100"
      ],
      "metadata": {
        "id": "MiGv1a_b4ydg"
      },
      "execution_count": null,
      "outputs": []
    },
    {
      "cell_type": "code",
      "source": [
        "### Plot the confusion matrix\n",
        "confmatrix(gnb_pred, \"Gaussian Naive Bayes - Churn Dataset\\nConfusion Matrix\")"
      ],
      "metadata": {
        "id": "3PWpmPT72vue",
        "colab": {
          "base_uri": "https://localhost:8080/",
          "height": 499
        },
        "outputId": "fcd8f383-fc84-4561-ecbf-1faa27e1e5d7"
      },
      "execution_count": null,
      "outputs": [
        {
          "output_type": "display_data",
          "data": {
            "text/plain": [
              "<Figure size 720x504 with 2 Axes>"
            ],
            "image/png": "[encoded data removed]"
          },
          "metadata": {}
        }
      ]
    },
    {
      "cell_type": "markdown",
      "source": [
        "# LGBM Classifier"
      ],
      "metadata": {
        "id": "dyrSl4WM3IXI"
      }
    },
    {
      "cell_type": "code",
      "source": [
        "### Instantiate the Algorithm\n",
        "lgbm = LGBMClassifier()\n",
        "\n",
        "### Train the model\n",
        "lgbm.fit(X_train, y_train)"
      ],
      "metadata": {
        "colab": {
          "base_uri": "https://localhost:8080/"
        },
        "id": "p2wgQRBZp9fk",
        "outputId": "7e1586b8-bbb7-4bdb-8a71-9963e547489e"
      },
      "execution_count": null,
      "outputs": [
        {
          "output_type": "execute_result",
          "data": {
            "text/plain": [
              "LGBMClassifier()"
            ]
          },
          "metadata": {},
          "execution_count": 70
        }
      ]
    },
    {
      "cell_type": "code",
      "source": [
        "### Predict on the Test Set\n",
        "lgbm_pred = lgbm.predict(X_test)"
      ],
      "metadata": {
        "id": "VAZ-zdQx3YJ_"
      },
      "execution_count": null,
      "outputs": []
    },
    {
      "cell_type": "code",
      "source": [
        "### Get performance metrics\n",
        "lgbm_score = metrics.accuracy_score(y_test, lgbm_pred) * 100\n",
        "\n",
        "### Print classification report\n",
        "print(\"Classification report for {}:\\n{}\".format(lgbm, metrics.classification_report(y_test, lgbm_pred)))\n",
        "print(\"Accuracy score:\", lgbm_score)"
      ],
      "metadata": {
        "colab": {
          "base_uri": "https://localhost:8080/"
        },
        "id": "Ggf-lNB93b6k",
        "outputId": "db8be094-277c-4f9a-86f0-fbeb9b2f0315"
      },
      "execution_count": null,
      "outputs": [
        {
          "output_type": "stream",
          "name": "stdout",
          "text": [
            "Classification report for LGBMClassifier():\n",
            "              precision    recall  f1-score   support\n",
            "\n",
            "           0       0.91      0.92      0.91      1607\n",
            "           1       0.65      0.62      0.63       393\n",
            "\n",
            "    accuracy                           0.86      2000\n",
            "   macro avg       0.78      0.77      0.77      2000\n",
            "weighted avg       0.86      0.86      0.86      2000\n",
            "\n",
            "Accuracy score: 86.0\n"
          ]
        }
      ]
    },
    {
      "cell_type": "code",
      "source": [
        "lgbm_score_recall = metrics.recall_score(y_test, lgbm_pred, average='weighted') * 100\n",
        "lgbm_score_precision = metrics.precision_score(y_test, lgbm_pred, average='weighted') * 100"
      ],
      "metadata": {
        "id": "GFblesL53dYv"
      },
      "execution_count": null,
      "outputs": []
    },
    {
      "cell_type": "code",
      "source": [
        "### Plot the confusion matrix\n",
        "confmatrix(lgbm_pred, \"LGBM - Churn Dataset\\nConfusion Matrix\")"
      ],
      "metadata": {
        "colab": {
          "base_uri": "https://localhost:8080/",
          "height": 499
        },
        "id": "_ldAVpBB3g_E",
        "outputId": "137b18ba-861a-41c0-8a67-dd1464783775"
      },
      "execution_count": null,
      "outputs": [
        {
          "output_type": "display_data",
          "data": {
            "text/plain": [
              "<Figure size 720x504 with 2 Axes>"
            ],
            "image/png": "[encoded data removed]"
          },
          "metadata": {}
        }
      ]
    },
    {
      "cell_type": "markdown",
      "source": [
        "# Evaluasi Model"
      ],
      "metadata": {
        "id": "Cz_enYZ725Ew"
      }
    },
    {
      "cell_type": "markdown",
      "source": [
        "Pada mulanya kami membandingkan kinerja/performance model klasifikasi yang telah kami buat kedalam lima metrik individu yakni akurasi, nilai F1 cross validation, recall, presisi, serta area dibawah kurva ROC atau disebut sebagai AUC."
      ],
      "metadata": {
        "id": "r4jRysWR4EM9"
      }
    },
    {
      "cell_type": "code",
      "source": [
        "df_results = pd.DataFrame.from_dict({\n",
        "    'Accuracy Score':{'Logistic Regression':logreg_score, 'Gaussian Naive Bayes':gnb_score, 'Random Forest':ranfor_score, 'LGBM Classifier':lgbm_score},\n",
        "    'Recall Score':{'Logistic Regression':logreg_score_recall, 'Gaussian Naive Bayes':gnb_score_recall, 'Random Forest':ranfor_score_recall, 'LGBM Classifier':lgbm_score_recall},\n",
        "    'Precision Score':{'Logistic Regression':logreg_score_precision, 'Gaussian Naive Bayes':gnb_score_precision, 'Random Forest':ranfor_score_precision, 'LGBM Classifier':lgbm_score_precision}\n",
        "    })\n",
        "df_results.style.highlight_max(color=\"indianred\", axis=0)"
      ],
      "metadata": {
        "id": "Ev9pVXjC2v2m",
        "colab": {
          "base_uri": "https://localhost:8080/",
          "height": 175
        },
        "outputId": "228d75db-bbf5-4528-edf9-89e395c5653f"
      },
      "execution_count": null,
      "outputs": [
        {
          "output_type": "execute_result",
          "data": {
            "text/plain": [
              "<pandas.io.formats.style.Styler at 0x7f9ab8714700>"
            ],
            "text/html": [
              "<style type=\"text/css\">\n",
              "#T_85874_row3_col0, #T_85874_row3_col1, #T_85874_row3_col2 {\n",
              "  background-color: indianred;\n",
              "}\n",
              "</style>\n",
              "<table id=\"T_85874_\" class=\"dataframe\">\n",
              "  <thead>\n",
              "    <tr>\n",
              "      <th class=\"blank level0\" >&nbsp;</th>\n",
              "      <th class=\"col_heading level0 col0\" >Accuracy Score</th>\n",
              "      <th class=\"col_heading level0 col1\" >Recall Score</th>\n",
              "      <th class=\"col_heading level0 col2\" >Precision Score</th>\n",
              "    </tr>\n",
              "  </thead>\n",
              "  <tbody>\n",
              "    <tr>\n",
              "      <th id=\"T_85874_level0_row0\" class=\"row_heading level0 row0\" >Logistic Regression</th>\n",
              "      <td id=\"T_85874_row0_col0\" class=\"data row0 col0\" >72.500000</td>\n",
              "      <td id=\"T_85874_row0_col1\" class=\"data row0 col1\" >72.500000</td>\n",
              "      <td id=\"T_85874_row0_col2\" class=\"data row0 col2\" >81.120194</td>\n",
              "    </tr>\n",
              "    <tr>\n",
              "      <th id=\"T_85874_level0_row1\" class=\"row_heading level0 row1\" >Gaussian Naive Bayes</th>\n",
              "      <td id=\"T_85874_row1_col0\" class=\"data row1 col0\" >73.750000</td>\n",
              "      <td id=\"T_85874_row1_col1\" class=\"data row1 col1\" >73.750000</td>\n",
              "      <td id=\"T_85874_row1_col2\" class=\"data row1 col2\" >81.024120</td>\n",
              "    </tr>\n",
              "    <tr>\n",
              "      <th id=\"T_85874_level0_row2\" class=\"row_heading level0 row2\" >Random Forest</th>\n",
              "      <td id=\"T_85874_row2_col0\" class=\"data row2 col0\" >83.450000</td>\n",
              "      <td id=\"T_85874_row2_col1\" class=\"data row2 col1\" >83.450000</td>\n",
              "      <td id=\"T_85874_row2_col2\" class=\"data row2 col2\" >84.390187</td>\n",
              "    </tr>\n",
              "    <tr>\n",
              "      <th id=\"T_85874_level0_row3\" class=\"row_heading level0 row3\" >LGBM Classifier</th>\n",
              "      <td id=\"T_85874_row3_col0\" class=\"data row3 col0\" >86.000000</td>\n",
              "      <td id=\"T_85874_row3_col1\" class=\"data row3 col1\" >86.000000</td>\n",
              "      <td id=\"T_85874_row3_col2\" class=\"data row3 col2\" >85.743669</td>\n",
              "    </tr>\n",
              "  </tbody>\n",
              "</table>\n"
            ]
          },
          "metadata": {},
          "execution_count": 75
        }
      ]
    },
    {
      "cell_type": "code",
      "source": [
        "df_results.plot(kind='bar',\n",
        "                   figsize=(10, 5),\n",
        "                   fontsize=12,\n",
        "                   color=['#5081DE', '#A7AABD', '#D85870', '#424656', '#FF81C0', '#DA70D6'])\n",
        "\n",
        "plt.legend(loc='upper center',\n",
        "           fontsize=20 - 6,\n",
        "           ncol=len(df_results.columns),\n",
        "           bbox_to_anchor=(0.5, 1.2))\n",
        "plt.xticks(rotation=0)\n",
        "plt.yticks([0, 40, 80])\n",
        "\n",
        "plt.axhline(y=72, color='red', linestyle='--')\n",
        "plt.text(x=-0.5, y=73, s='0.72', size=20 + 2, color='red');"
      ],
      "metadata": {
        "id": "Y1WO0tZ48__0",
        "colab": {
          "base_uri": "https://localhost:8080/",
          "height": 373
        },
        "outputId": "0003e21d-7172-45b3-b8b8-6ec556d56575"
      },
      "execution_count": null,
      "outputs": [
        {
          "output_type": "display_data",
          "data": {
            "text/plain": [
              "<Figure size 720x360 with 1 Axes>"
            ],
            "image/png": "[encoded data removed]"
          },
          "metadata": {}
        }
      ]
    },
    {
      "cell_type": "markdown",
      "source": [
        "Perlu diingat bahwa dataset ini memiliki proposi target yang kurang imbang. Nilai 0 pada target \"Exited\" jauh lebih banyak ketimbang 1 pada kolom yang sama dan oleh karena itu, kita tidak akan terlalu memperhatikan metrics accuracy untuk mengukur performance model yang telah dibuat. Kita akan melihat metrics lain yang cocok digunakan untuk data <i>imbalance<i/> mengukur performance model dari presisi serta akurasi."
      ],
      "metadata": {
        "id": "q9ZRSmax55Lm"
      }
    },
    {
      "cell_type": "markdown",
      "source": [
        "Semua model pengklasifikasi yang kami buat memiliki nilai Recall lebih dari 72%. LGBM Classifier merupakan model yang memiliki nilai Recall paling tinggi diantara keempat model (86%). Secara keseluruhan LGBM Classifier memiliki performance yang paling baik dalam hal akurasi, recall, maupun presisi."
      ],
      "metadata": {
        "id": "NBIimXFU41Iw"
      }
    },
    {
      "cell_type": "markdown",
      "source": [
        "# Feature Importance"
      ],
      "metadata": {
        "id": "Dh9KG0Hs6STg"
      }
    },
    {
      "cell_type": "markdown",
      "source": [
        "Beberapa algoritma dapat memberikan list atribut yang dianggap penting dalam permodelan. Feature Importance mewakili skor setiap fitur, dimana skor yang lebih tinggi berarti bahwa fitur tersebut akan memiliki efek yang lebih besar pada model yang digunakn untuk memprediksi variable terntentu (dalam hal ini target variabel kita yakni \"Exited\"). Berikut merupakan beberapa feature importance dari masing-masing algoritma:"
      ],
      "metadata": {
        "id": "YKlumo_045YD"
      }
    },
    {
      "cell_type": "markdown",
      "source": [
        "## Logistic Regression"
      ],
      "metadata": {
        "id": "TF_cRF5LFbeg"
      }
    },
    {
      "cell_type": "code",
      "source": [
        "w0 = logreg.intercept_[0]\n",
        "w1, w2, w3, w4, w5, w6, w7, w8 = logreg.coef_[0]\n",
        "w = [w1, w2, w3, w4, w5, w6, w7, w8]\n",
        "feature_names = ['CreditScore', 'Age', 'Balance', 'NumOfProducts', 'IsActiveMember',\n",
        "       'Gender_Male', 'Geography_Germany', 'Geography_Spain']\n",
        "feature_importance = pd.DataFrame(feature_names, columns = [\"feature\"])\n",
        "feature_importance[\"importance\"] = pow(math.e, np.array(w))\n",
        "feature_importance.sort_values(by=\"importance\", ascending=False)"
      ],
      "metadata": {
        "id": "o8U-rBoxBrpp",
        "colab": {
          "base_uri": "https://localhost:8080/",
          "height": 300
        },
        "outputId": "c6cc3180-908c-4975-cd20-40a6351391a4"
      },
      "execution_count": null,
      "outputs": [
        {
          "output_type": "execute_result",
          "data": {
            "text/plain": [
              "             feature  importance\n",
              "1                Age  414.061165\n",
              "6  Geography_Germany    2.171957\n",
              "2            Balance    1.910331\n",
              "7    Geography_Spain    1.143665\n",
              "3      NumOfProducts    0.902688\n",
              "0        CreditScore    0.672564\n",
              "5        Gender_Male    0.569309\n",
              "4     IsActiveMember    0.401723"
            ],
            "text/html": [
              "\n",
              "  <div id=\"df-f6805891-3dcf-4e56-a8d1-b46bfc6612f3\">\n",
              "    <div class=\"colab-df-container\">\n",
              "      <div>\n",
              "<style scoped>\n",
              "    .dataframe tbody tr th:only-of-type {\n",
              "        vertical-align: middle;\n",
              "    }\n",
              "\n",
              "    .dataframe tbody tr th {\n",
              "        vertical-align: top;\n",
              "    }\n",
              "\n",
              "    .dataframe thead th {\n",
              "        text-align: right;\n",
              "    }\n",
              "</style>\n",
              "<table border=\"1\" class=\"dataframe\">\n",
              "  <thead>\n",
              "    <tr style=\"text-align: right;\">\n",
              "      <th></th>\n",
              "      <th>feature</th>\n",
              "      <th>importance</th>\n",
              "    </tr>\n",
              "  </thead>\n",
              "  <tbody>\n",
              "    <tr>\n",
              "      <th>1</th>\n",
              "      <td>Age</td>\n",
              "      <td>414.061165</td>\n",
              "    </tr>\n",
              "    <tr>\n",
              "      <th>6</th>\n",
              "      <td>Geography_Germany</td>\n",
              "      <td>2.171957</td>\n",
              "    </tr>\n",
              "    <tr>\n",
              "      <th>2</th>\n",
              "      <td>Balance</td>\n",
              "      <td>1.910331</td>\n",
              "    </tr>\n",
              "    <tr>\n",
              "      <th>7</th>\n",
              "      <td>Geography_Spain</td>\n",
              "      <td>1.143665</td>\n",
              "    </tr>\n",
              "    <tr>\n",
              "      <th>3</th>\n",
              "      <td>NumOfProducts</td>\n",
              "      <td>0.902688</td>\n",
              "    </tr>\n",
              "    <tr>\n",
              "      <th>0</th>\n",
              "      <td>CreditScore</td>\n",
              "      <td>0.672564</td>\n",
              "    </tr>\n",
              "    <tr>\n",
              "      <th>5</th>\n",
              "      <td>Gender_Male</td>\n",
              "      <td>0.569309</td>\n",
              "    </tr>\n",
              "    <tr>\n",
              "      <th>4</th>\n",
              "      <td>IsActiveMember</td>\n",
              "      <td>0.401723</td>\n",
              "    </tr>\n",
              "  </tbody>\n",
              "</table>\n",
              "</div>\n",
              "      <button class=\"colab-df-convert\" onclick=\"convertToInteractive('df-f6805891-3dcf-4e56-a8d1-b46bfc6612f3')\"\n",
              "              title=\"Convert this dataframe to an interactive table.\"\n",
              "              style=\"display:none;\">\n",
              "        \n",
              "  <svg xmlns=\"http://www.w3.org/2000/svg\" height=\"24px\"viewBox=\"0 0 24 24\"\n",
              "       width=\"24px\">\n",
              "    <path d=\"M0 0h24v24H0V0z\" fill=\"none\"/>\n",
              "    <path d=\"M18.56 5.44l.94 2.06.94-2.06 2.06-.94-2.06-.94-.94-2.06-.94 2.06-2.06.94zm-11 1L8.5 8.5l.94-2.06 2.06-.94-2.06-.94L8.5 2.5l-.94 2.06-2.06.94zm10 10l.94 2.06.94-2.06 2.06-.94-2.06-.94-.94-2.06-.94 2.06-2.06.94z\"/><path d=\"M17.41 7.96l-1.37-1.37c-.4-.4-.92-.59-1.43-.59-.52 0-1.04.2-1.43.59L10.3 9.45l-7.72 7.72c-.78.78-.78 2.05 0 2.83L4 21.41c.39.39.9.59 1.41.59.51 0 1.02-.2 1.41-.59l7.78-7.78 2.81-2.81c.8-.78.8-2.07 0-2.86zM5.41 20L4 18.59l7.72-7.72 1.47 1.35L5.41 20z\"/>\n",
              "  </svg>\n",
              "      </button>\n",
              "      \n",
              "  <style>\n",
              "    .colab-df-container {\n",
              "      display:flex;\n",
              "      flex-wrap:wrap;\n",
              "      gap: 12px;\n",
              "    }\n",
              "\n",
              "    .colab-df-convert {\n",
              "      background-color: #E8F0FE;\n",
              "      border: none;\n",
              "      border-radius: 50%;\n",
              "      cursor: pointer;\n",
              "      display: none;\n",
              "      fill: #1967D2;\n",
              "      height: 32px;\n",
              "      padding: 0 0 0 0;\n",
              "      width: 32px;\n",
              "    }\n",
              "\n",
              "    .colab-df-convert:hover {\n",
              "      background-color: #E2EBFA;\n",
              "      box-shadow: 0px 1px 2px rgba(60, 64, 67, 0.3), 0px 1px 3px 1px rgba(60, 64, 67, 0.15);\n",
              "      fill: #174EA6;\n",
              "    }\n",
              "\n",
              "    [theme=dark] .colab-df-convert {\n",
              "      background-color: #3B4455;\n",
              "      fill: #D2E3FC;\n",
              "    }\n",
              "\n",
              "    [theme=dark] .colab-df-convert:hover {\n",
              "      background-color: #434B5C;\n",
              "      box-shadow: 0px 1px 3px 1px rgba(0, 0, 0, 0.15);\n",
              "      filter: drop-shadow(0px 1px 2px rgba(0, 0, 0, 0.3));\n",
              "      fill: #FFFFFF;\n",
              "    }\n",
              "  </style>\n",
              "\n",
              "      <script>\n",
              "        const buttonEl =\n",
              "          document.querySelector('#df-f6805891-3dcf-4e56-a8d1-b46bfc6612f3 button.colab-df-convert');\n",
              "        buttonEl.style.display =\n",
              "          google.colab.kernel.accessAllowed ? 'block' : 'none';\n",
              "\n",
              "        async function convertToInteractive(key) {\n",
              "          const element = document.querySelector('#df-f6805891-3dcf-4e56-a8d1-b46bfc6612f3');\n",
              "          const dataTable =\n",
              "            await google.colab.kernel.invokeFunction('convertToInteractive',\n",
              "                                                     [key], {});\n",
              "          if (!dataTable) return;\n",
              "\n",
              "          const docLinkHtml = 'Like what you see? Visit the ' +\n",
              "            '<a target=\"_blank\" href=https://colab.research.google.com/notebooks/data_table.ipynb>data table notebook</a>'\n",
              "            + ' to learn more about interactive tables.';\n",
              "          element.innerHTML = '';\n",
              "          dataTable['output_type'] = 'display_data';\n",
              "          await google.colab.output.renderOutput(dataTable, element);\n",
              "          const docLink = document.createElement('div');\n",
              "          docLink.innerHTML = docLinkHtml;\n",
              "          element.appendChild(docLink);\n",
              "        }\n",
              "      </script>\n",
              "    </div>\n",
              "  </div>\n",
              "  "
            ]
          },
          "metadata": {},
          "execution_count": 77
        }
      ]
    },
    {
      "cell_type": "markdown",
      "source": [
        "Pada algoritma logistic regression, 3 attribut teratas yang dianggap penting ialah usia, geografi(German), dan Balance."
      ],
      "metadata": {
        "id": "zDtzzJ7H5FKr"
      }
    },
    {
      "cell_type": "markdown",
      "source": [
        "## Random Forest"
      ],
      "metadata": {
        "id": "TK0pHZmEFIrS"
      }
    },
    {
      "cell_type": "code",
      "source": [
        "importances = ranfor.feature_importances_\n",
        "feature_names = ['CreditScore', 'Age', 'Balance', 'NumOfProducts', 'IsActiveMember',\n",
        "       'Gender_Male', 'Geography_Germany', 'Geography_Spain']\n",
        "forest_importances = pd.DataFrame(importances, index=feature_names)"
      ],
      "metadata": {
        "id": "oh-jk-YlFjiS"
      },
      "execution_count": null,
      "outputs": []
    },
    {
      "cell_type": "code",
      "source": [
        "fig, ax = plt.subplots(figsize=(10,7))\n",
        "plt.style.use('https://github.com/dhaitz/matplotlib-stylesheets/raw/master/pitayasmoothie-dark.mplstyle')\n",
        "forest_importances.plot.bar(ax=ax)\n",
        "plt.legend([\"Importance\"])\n",
        "ax.set_title(\"Feature importances using Random Forest\")\n",
        "ax.set_ylabel(\"Mean decrease in impurity\")\n",
        "fig.tight_layout()"
      ],
      "metadata": {
        "id": "ItqVF4JYHMWM",
        "colab": {
          "base_uri": "https://localhost:8080/",
          "height": 499
        },
        "outputId": "e856c28a-cd19-4b1c-8fb6-4cfb7aad4b3c"
      },
      "execution_count": null,
      "outputs": [
        {
          "output_type": "display_data",
          "data": {
            "text/plain": [
              "<Figure size 720x504 with 1 Axes>"
            ],
            "image/png": "[encoded data removed]"
          },
          "metadata": {}
        }
      ]
    },
    {
      "cell_type": "markdown",
      "source": [
        "Mirip dengan algoritma logistic Regression, algoritma random forest memiliki 3 atribut terpenting yakni age, balance, dan creditscore."
      ],
      "metadata": {
        "id": "_Q1zlITL5H56"
      }
    },
    {
      "cell_type": "markdown",
      "source": [
        "## LGBM Classifier"
      ],
      "metadata": {
        "id": "KAOMrGK05NQo"
      }
    },
    {
      "cell_type": "code",
      "source": [
        "plot_importance(lgbm, figsize=(10, 9));\n",
        "plt.title(\"Feature Importance For LGBM Classifiers\")"
      ],
      "metadata": {
        "colab": {
          "base_uri": "https://localhost:8080/",
          "height": 592
        },
        "id": "9YCVEnKE5Ibo",
        "outputId": "6eb18335-990d-4715-c060-2ea37a9bf834"
      },
      "execution_count": null,
      "outputs": [
        {
          "output_type": "execute_result",
          "data": {
            "text/plain": [
              "Text(0.5, 1.0, 'Feature Importance For LGBM Classifiers')"
            ]
          },
          "metadata": {},
          "execution_count": 80
        },
        {
          "output_type": "display_data",
          "data": {
            "text/plain": [
              "<Figure size 720x648 with 1 Axes>"
            ],
            "image/png": "[encoded data removed]"
          },
          "metadata": {}
        }
      ]
    },
    {
      "cell_type": "markdown",
      "source": [
        "Algoritma LGBM Classifier memiliki kemiripan dengan Random Forest, dimana 3 atribut yang dianggap paling berpengaruh ialah age, balance, dan creditscore."
      ],
      "metadata": {
        "id": "wJX3unUM5sh5"
      }
    },
    {
      "cell_type": "markdown",
      "source": [
        "# Kesimpulan"
      ],
      "metadata": {
        "id": "dFvD6F-x5upy"
      }
    },
    {
      "cell_type": "markdown",
      "source": [
        "Tujuan dari pengerjaan dataset ini ialah membuat klasifikasi yang tepat untuk \"Churn Dataset\", apakah seseorang akan bertahan atau meninggalkan sebuah perusahaan bank. Hal ini dilakukan dengan membuat model dengan memperhatikan skor metrik individu seperti f1, recall, precision, maupun ROC-AUC. Beberapa tugas yang telah kami kerjakan pada notebook ini adalah:\n",
        "1. Membaca dan memahami Churn Dataset\n",
        "2. Melakukan eksplorasi data mulai dari mengimport data hingga melakukan visualisasi agar mendapat gambaran tentang dataset ini.\n",
        "3. Membuat empat macam klasifikasi menggunakan algoritma logistic regression, random forest, gauisian naive bayes, serta LGBM classifier.\n",
        "4. Hasil: model terbaik didapat dari algoritma LGBM classifier dengan nilai Recall sebesar 86% dan akurasi sebesar 86%"
      ],
      "metadata": {
        "id": "iMRd9BipBB9E"
      }
    },
    {
      "cell_type": "markdown",
      "source": [
        "Kami telah mencoba beberapa feature engineering termasuk melakukan scaling minmax maupun standard scaler akan tetapi hal ini tidak meningkatkan performa prediksi model kami. Diperlukan analisis lebih mendalam dan optimasi algoritma agar didapatkan hasil yang lebih akurat dan memuaskan."
      ],
      "metadata": {
        "id": "e-gYtROJBD7O"
      }
    }
  ]
}